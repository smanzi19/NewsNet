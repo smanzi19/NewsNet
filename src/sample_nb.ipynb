{
 "cells": [
  {
   "cell_type": "code",
   "execution_count": 1,
   "metadata": {},
   "outputs": [],
   "source": [
    "import pandas as pd\n",
    "from nltk import WhitespaceTokenizer\n",
    "from nltk.corpus import stopwords, words, wordnet\n",
    "from nltk.lm import Vocabulary\n",
    "from collections import OrderedDict\n",
    "import numpy as np\n",
    "import torch\n",
    "from torch import nn\n",
    "import concurrent.futures\n",
    "from torch.optim import Adam\n",
    "from data_loading import process_text_df, NewsText\n",
    "from utils import generate_val_set, collate_fn\n",
    "from tqdm import tqdm\n",
    "from models import NewsNet\n",
    "import matplotlib.pyplot as plt\n",
    "from torch.utils.data import Dataset, DataLoader\n",
    "from torch import tensor\n",
    "import matplotlib.pyplot as plt"
   ]
  },
  {
   "cell_type": "code",
   "execution_count": 2,
   "metadata": {},
   "outputs": [
    {
     "data": {
      "text/plain": [
       "[Text(0, 0, 'False'), Text(0, 0, 'True')]"
      ]
     },
     "execution_count": 2,
     "metadata": {},
     "output_type": "execute_result"
    },
    {
     "data": {
      "image/png": "[encoded data removed]",
      "text/plain": [
       "<Figure size 432x288 with 1 Axes>"
      ]
     },
     "metadata": {
      "needs_background": "light"
     },
     "output_type": "display_data"
    }
   ],
   "source": [
    "fake, true = pd.read_csv('data/Fake.csv'), pd.read_csv('data/True.csv')\n",
    "fake['label'] = 'fake'\n",
    "true['label'] = 'true'\n",
    "news = pd.concat((fake, true))\n",
    "news = news.sample(frac=1)\n",
    "news.reset_index(inplace=True, drop=True)\n",
    "ax = news.label.apply(lambda l: 1 if l =='true' else 0).value_counts().plot(kind='bar')\n",
    "ax.set_xticklabels(['False', 'True'])"
   ]
  },
  {
   "cell_type": "code",
   "execution_count": 3,
   "metadata": {},
   "outputs": [],
   "source": [
    "p1 = process_text_df(news, ['title', 'text'])"
   ]
  },
  {
   "cell_type": "code",
   "execution_count": 4,
   "metadata": {},
   "outputs": [
    {
     "name": "stdout",
     "output_type": "stream",
     "text": [
      "CPU times: user 3.18 s, sys: 1.32 s, total: 4.51 s\n",
      "Wall time: 4min 30s\n"
     ]
    }
   ],
   "source": [
    "%%time\n",
    "p1.process_text_col()"
   ]
  },
  {
   "cell_type": "code",
   "execution_count": 5,
   "metadata": {},
   "outputs": [
    {
     "data": {
      "text/html": [
       "<div>\n",
       "<style scoped>\n",
       "    .dataframe tbody tr th:only-of-type {\n",
       "        vertical-align: middle;\n",
       "    }\n",
       "\n",
       "    .dataframe tbody tr th {\n",
       "        vertical-align: top;\n",
       "    }\n",
       "\n",
       "    .dataframe thead th {\n",
       "        text-align: right;\n",
       "    }\n",
       "</style>\n",
       "<table border=\"1\" class=\"dataframe\">\n",
       "  <thead>\n",
       "    <tr style=\"text-align: right;\">\n",
       "      <th></th>\n",
       "      <th>title</th>\n",
       "      <th>text</th>\n",
       "      <th>subject</th>\n",
       "      <th>date</th>\n",
       "      <th>label</th>\n",
       "    </tr>\n",
       "  </thead>\n",
       "  <tbody>\n",
       "    <tr>\n",
       "      <th>0</th>\n",
       "      <td>[white, hous, accus, russia, syria, chemic, at...</td>\n",
       "      <td>[washingtonmoscow, reuter, , presid, donald, t...</td>\n",
       "      <td>politicsNews</td>\n",
       "      <td>April 11, 2017</td>\n",
       "      <td>true</td>\n",
       "    </tr>\n",
       "    <tr>\n",
       "      <th>1</th>\n",
       "      <td>[trump, scrap, protect, dreamer, give, congres...</td>\n",
       "      <td>[washington, reuter, , presid, donald, trump, ...</td>\n",
       "      <td>politicsNews</td>\n",
       "      <td>September 4, 2017</td>\n",
       "      <td>true</td>\n",
       "    </tr>\n",
       "    <tr>\n",
       "      <th>2</th>\n",
       "      <td>[germani, conserv, spd, start, talk, jan, 7, a...</td>\n",
       "      <td>[reuter, , german, chancellor, angela, merkel,...</td>\n",
       "      <td>worldnews</td>\n",
       "      <td>December 20, 2017</td>\n",
       "      <td>true</td>\n",
       "    </tr>\n",
       "    <tr>\n",
       "      <th>3</th>\n",
       "      <td>[republican, final, tax, bill]</td>\n",
       "      <td>[reuter, , republican, us, congress, reach, de...</td>\n",
       "      <td>politicsNews</td>\n",
       "      <td>December 14, 2017</td>\n",
       "      <td>true</td>\n",
       "    </tr>\n",
       "    <tr>\n",
       "      <th>4</th>\n",
       "      <td>[lawsuit, say, north, carolina, bathroom, law,...</td>\n",
       "      <td>[winstonsalem, nc, reuter, , transgend, peopl,...</td>\n",
       "      <td>politicsNews</td>\n",
       "      <td>July 21, 2017</td>\n",
       "      <td>true</td>\n",
       "    </tr>\n",
       "    <tr>\n",
       "      <th>...</th>\n",
       "      <td>...</td>\n",
       "      <td>...</td>\n",
       "      <td>...</td>\n",
       "      <td>...</td>\n",
       "      <td>...</td>\n",
       "    </tr>\n",
       "    <tr>\n",
       "      <th>44893</th>\n",
       "      <td>[generat, gap, china, onechild, generat, grow]</td>\n",
       "      <td>[reuter, , class, 2012, grew, parent, grandpar...</td>\n",
       "      <td>worldnews</td>\n",
       "      <td>October 17, 2017</td>\n",
       "      <td>true</td>\n",
       "    </tr>\n",
       "    <tr>\n",
       "      <th>44894</th>\n",
       "      <td>[russia, penc, balkan, comment, expos, washing...</td>\n",
       "      <td>[moscow, reuter, , accus, made, us, vice, pres...</td>\n",
       "      <td>politicsNews</td>\n",
       "      <td>August 3, 2017</td>\n",
       "      <td>true</td>\n",
       "    </tr>\n",
       "    <tr>\n",
       "      <th>44895</th>\n",
       "      <td>[tanzania, magufuli, sack, offici, fail, recal...</td>\n",
       "      <td>[salaam, reuter, , tanzanian, presid, john, ma...</td>\n",
       "      <td>worldnews</td>\n",
       "      <td>November 7, 2017</td>\n",
       "      <td>true</td>\n",
       "    </tr>\n",
       "    <tr>\n",
       "      <th>44896</th>\n",
       "      <td>[honduran, presid, ignor, new, elect, call, op...</td>\n",
       "      <td>[tegucigalpa, reuter, , presid, hondura, decla...</td>\n",
       "      <td>worldnews</td>\n",
       "      <td>December 18, 2017</td>\n",
       "      <td>true</td>\n",
       "    </tr>\n",
       "    <tr>\n",
       "      <th>44897</th>\n",
       "      <td>[australian, pm, put, foreign, minist, charg, ...</td>\n",
       "      <td>[sydney, reuter, , australian, prime, minist, ...</td>\n",
       "      <td>worldnews</td>\n",
       "      <td>October 28, 2017</td>\n",
       "      <td>true</td>\n",
       "    </tr>\n",
       "  </tbody>\n",
       "</table>\n",
       "<p>44898 rows × 5 columns</p>\n",
       "</div>"
      ],
      "text/plain": [
       "                                                   title  \\\n",
       "0      [white, hous, accus, russia, syria, chemic, at...   \n",
       "1      [trump, scrap, protect, dreamer, give, congres...   \n",
       "2      [germani, conserv, spd, start, talk, jan, 7, a...   \n",
       "3                         [republican, final, tax, bill]   \n",
       "4      [lawsuit, say, north, carolina, bathroom, law,...   \n",
       "...                                                  ...   \n",
       "44893     [generat, gap, china, onechild, generat, grow]   \n",
       "44894  [russia, penc, balkan, comment, expos, washing...   \n",
       "44895  [tanzania, magufuli, sack, offici, fail, recal...   \n",
       "44896  [honduran, presid, ignor, new, elect, call, op...   \n",
       "44897  [australian, pm, put, foreign, minist, charg, ...   \n",
       "\n",
       "                                                    text       subject  \\\n",
       "0      [washingtonmoscow, reuter, , presid, donald, t...  politicsNews   \n",
       "1      [washington, reuter, , presid, donald, trump, ...  politicsNews   \n",
       "2      [reuter, , german, chancellor, angela, merkel,...     worldnews   \n",
       "3      [reuter, , republican, us, congress, reach, de...  politicsNews   \n",
       "4      [winstonsalem, nc, reuter, , transgend, peopl,...  politicsNews   \n",
       "...                                                  ...           ...   \n",
       "44893  [reuter, , class, 2012, grew, parent, grandpar...     worldnews   \n",
       "44894  [moscow, reuter, , accus, made, us, vice, pres...  politicsNews   \n",
       "44895  [salaam, reuter, , tanzanian, presid, john, ma...     worldnews   \n",
       "44896  [tegucigalpa, reuter, , presid, hondura, decla...     worldnews   \n",
       "44897  [sydney, reuter, , australian, prime, minist, ...     worldnews   \n",
       "\n",
       "                     date label  \n",
       "0         April 11, 2017   true  \n",
       "1      September 4, 2017   true  \n",
       "2      December 20, 2017   true  \n",
       "3      December 14, 2017   true  \n",
       "4          July 21, 2017   true  \n",
       "...                   ...   ...  \n",
       "44893   October 17, 2017   true  \n",
       "44894     August 3, 2017   true  \n",
       "44895   November 7, 2017   true  \n",
       "44896  December 18, 2017   true  \n",
       "44897   October 28, 2017   true  \n",
       "\n",
       "[44898 rows x 5 columns]"
      ]
     },
     "execution_count": 5,
     "metadata": {},
     "output_type": "execute_result"
    }
   ],
   "source": [
    "p1.df"
   ]
  },
  {
   "cell_type": "code",
   "execution_count": 6,
   "metadata": {},
   "outputs": [
    {
     "data": {
      "text/html": [
       "<div>\n",
       "<style scoped>\n",
       "    .dataframe tbody tr th:only-of-type {\n",
       "        vertical-align: middle;\n",
       "    }\n",
       "\n",
       "    .dataframe tbody tr th {\n",
       "        vertical-align: top;\n",
       "    }\n",
       "\n",
       "    .dataframe thead th {\n",
       "        text-align: right;\n",
       "    }\n",
       "</style>\n",
       "<table border=\"1\" class=\"dataframe\">\n",
       "  <thead>\n",
       "    <tr style=\"text-align: right;\">\n",
       "      <th></th>\n",
       "      <th>title</th>\n",
       "      <th>text</th>\n",
       "      <th>subject</th>\n",
       "      <th>date</th>\n",
       "      <th>label</th>\n",
       "    </tr>\n",
       "  </thead>\n",
       "  <tbody>\n",
       "    <tr>\n",
       "      <th>0</th>\n",
       "      <td>[7354, 7353, 7352, 7351, 7350, 7349, 7348, 734...</td>\n",
       "      <td>[0, 5449, 7229, 7303, 7213, 7345, 7150, 7352, ...</td>\n",
       "      <td>politicsNews</td>\n",
       "      <td>April 11, 2017</td>\n",
       "      <td>true</td>\n",
       "    </tr>\n",
       "    <tr>\n",
       "      <th>1</th>\n",
       "      <td>[7345, 7344, 7343, 7342, 7341, 7340, 7339, 733...</td>\n",
       "      <td>[6196, 5449, 7229, 7303, 7213, 7345, 3802, 734...</td>\n",
       "      <td>politicsNews</td>\n",
       "      <td>September 4, 2017</td>\n",
       "      <td>true</td>\n",
       "    </tr>\n",
       "    <tr>\n",
       "      <th>2</th>\n",
       "      <td>[7336, 7335, 7334, 7333, 7332, 7331, 7330, 732...</td>\n",
       "      <td>[5449, 7229, 6345, 2099, 3298, 6960, 7335, 697...</td>\n",
       "      <td>worldnews</td>\n",
       "      <td>December 20, 2017</td>\n",
       "      <td>true</td>\n",
       "    </tr>\n",
       "    <tr>\n",
       "      <th>3</th>\n",
       "      <td>[7326, 7325, 7324, 7323]</td>\n",
       "      <td>[5449, 7229, 7326, 7304, 7340, 6933, 7148, 732...</td>\n",
       "      <td>politicsNews</td>\n",
       "      <td>December 14, 2017</td>\n",
       "      <td>true</td>\n",
       "    </tr>\n",
       "    <tr>\n",
       "      <th>4</th>\n",
       "      <td>[7322, 7321, 7320, 7319, 7318, 7317, 7316, 7315]</td>\n",
       "      <td>[0, 5335, 5449, 7229, 6038, 5677, 7316, 5291, ...</td>\n",
       "      <td>politicsNews</td>\n",
       "      <td>July 21, 2017</td>\n",
       "      <td>true</td>\n",
       "    </tr>\n",
       "    <tr>\n",
       "      <th>...</th>\n",
       "      <td>...</td>\n",
       "      <td>...</td>\n",
       "      <td>...</td>\n",
       "      <td>...</td>\n",
       "      <td>...</td>\n",
       "    </tr>\n",
       "    <tr>\n",
       "      <th>44893</th>\n",
       "      <td>[4719, 2841, 7314, 0, 4719, 6944]</td>\n",
       "      <td>[5449, 7229, 4343, 4412, 916, 6641, 2003, 6372...</td>\n",
       "      <td>worldnews</td>\n",
       "      <td>October 17, 2017</td>\n",
       "      <td>true</td>\n",
       "    </tr>\n",
       "    <tr>\n",
       "      <th>44894</th>\n",
       "      <td>[7351, 6502, 4398, 5564, 7298, 6196, 4145, 2911]</td>\n",
       "      <td>[7096, 5449, 7229, 7352, 7266, 7304, 5899, 730...</td>\n",
       "      <td>politicsNews</td>\n",
       "      <td>August 3, 2017</td>\n",
       "      <td>true</td>\n",
       "    </tr>\n",
       "    <tr>\n",
       "      <th>44895</th>\n",
       "      <td>[0, 0, 4843, 6895, 5381, 4578, 7273, 7139, 676...</td>\n",
       "      <td>[0, 5449, 7229, 0, 7303, 6073, 0, 4843, 5823, ...</td>\n",
       "      <td>worldnews</td>\n",
       "      <td>November 7, 2017</td>\n",
       "      <td>true</td>\n",
       "    </tr>\n",
       "    <tr>\n",
       "      <th>44896</th>\n",
       "      <td>[5506, 7303, 5601, 6985, 7093, 7255, 6798, 635...</td>\n",
       "      <td>[0, 5449, 7229, 7303, 5009, 6688, 5100, 6204, ...</td>\n",
       "      <td>worldnews</td>\n",
       "      <td>December 18, 2017</td>\n",
       "      <td>true</td>\n",
       "    </tr>\n",
       "    <tr>\n",
       "      <th>44897</th>\n",
       "      <td>[6049, 7154, 6341, 6783, 6892, 7074, 6626, 729...</td>\n",
       "      <td>[3222, 5449, 7229, 6049, 6893, 6892, 3764, 277...</td>\n",
       "      <td>worldnews</td>\n",
       "      <td>October 28, 2017</td>\n",
       "      <td>true</td>\n",
       "    </tr>\n",
       "  </tbody>\n",
       "</table>\n",
       "<p>44898 rows × 5 columns</p>\n",
       "</div>"
      ],
      "text/plain": [
       "                                                   title  \\\n",
       "0      [7354, 7353, 7352, 7351, 7350, 7349, 7348, 734...   \n",
       "1      [7345, 7344, 7343, 7342, 7341, 7340, 7339, 733...   \n",
       "2      [7336, 7335, 7334, 7333, 7332, 7331, 7330, 732...   \n",
       "3                               [7326, 7325, 7324, 7323]   \n",
       "4       [7322, 7321, 7320, 7319, 7318, 7317, 7316, 7315]   \n",
       "...                                                  ...   \n",
       "44893                  [4719, 2841, 7314, 0, 4719, 6944]   \n",
       "44894   [7351, 6502, 4398, 5564, 7298, 6196, 4145, 2911]   \n",
       "44895  [0, 0, 4843, 6895, 5381, 4578, 7273, 7139, 676...   \n",
       "44896  [5506, 7303, 5601, 6985, 7093, 7255, 6798, 635...   \n",
       "44897  [6049, 7154, 6341, 6783, 6892, 7074, 6626, 729...   \n",
       "\n",
       "                                                    text       subject  \\\n",
       "0      [0, 5449, 7229, 7303, 7213, 7345, 7150, 7352, ...  politicsNews   \n",
       "1      [6196, 5449, 7229, 7303, 7213, 7345, 3802, 734...  politicsNews   \n",
       "2      [5449, 7229, 6345, 2099, 3298, 6960, 7335, 697...     worldnews   \n",
       "3      [5449, 7229, 7326, 7304, 7340, 6933, 7148, 732...  politicsNews   \n",
       "4      [0, 5335, 5449, 7229, 6038, 5677, 7316, 5291, ...  politicsNews   \n",
       "...                                                  ...           ...   \n",
       "44893  [5449, 7229, 4343, 4412, 916, 6641, 2003, 6372...     worldnews   \n",
       "44894  [7096, 5449, 7229, 7352, 7266, 7304, 5899, 730...  politicsNews   \n",
       "44895  [0, 5449, 7229, 0, 7303, 6073, 0, 4843, 5823, ...     worldnews   \n",
       "44896  [0, 5449, 7229, 7303, 5009, 6688, 5100, 6204, ...     worldnews   \n",
       "44897  [3222, 5449, 7229, 6049, 6893, 6892, 3764, 277...     worldnews   \n",
       "\n",
       "                     date label  \n",
       "0         April 11, 2017   true  \n",
       "1      September 4, 2017   true  \n",
       "2      December 20, 2017   true  \n",
       "3      December 14, 2017   true  \n",
       "4          July 21, 2017   true  \n",
       "...                   ...   ...  \n",
       "44893   October 17, 2017   true  \n",
       "44894     August 3, 2017   true  \n",
       "44895   November 7, 2017   true  \n",
       "44896  December 18, 2017   true  \n",
       "44897   October 28, 2017   true  \n",
       "\n",
       "[44898 rows x 5 columns]"
      ]
     },
     "execution_count": 6,
     "metadata": {},
     "output_type": "execute_result"
    }
   ],
   "source": [
    "p1.tokenize_sentences()\n",
    "p1.df"
   ]
  },
  {
   "cell_type": "code",
   "execution_count": 7,
   "metadata": {},
   "outputs": [],
   "source": [
    "l, labs = p1.tensorize_sentences('text', 'label', n_feature_tokens=50)"
   ]
  },
  {
   "cell_type": "code",
   "execution_count": 8,
   "metadata": {
    "scrolled": true
   },
   "outputs": [
    {
     "name": "stderr",
     "output_type": "stream",
     "text": [
      "Completed 50 out of 50: 100%|██████████| 50/50 [43:57<00:00, 51.35s/it]"
     ]
    }
   ],
   "source": [
    "idx = len(l) // 4\n",
    "l_tr, labs_tr = l[:2 * idx], labs[:2 * idx]\n",
    "l_val, labs_val = l[2 * idx:3 * idx], labs[2 * idx:3 * idx]\n",
    "l_tst, labs_tst = l[-idx:], labs[-idx:]\n",
    "tr_set = NewsText(l_tr, labs_tr)\n",
    "loader = DataLoader(tr_set, batch_size=8, collate_fn=collate_fn)\n",
    "\n",
    "val_set = NewsText(l_val, labs_val)\n",
    "val_set = generate_val_set(val_set)\n",
    "val_features, val_labels, val_lens = val_set\n",
    "val_labels = val_labels.unsqueeze(-1).float()\n",
    "\n",
    "net = NewsNet(p1.vocab, hidden_size=4, embedding_dim=8, num_layers=2)\n",
    "loss_fn = nn.BCEWithLogitsLoss()\n",
    "optimizer = Adam(net.parameters(), lr=1e-4, weight_decay=5e-6)\n",
    "loss_list = []\n",
    "val_loss_list = []\n",
    "accuracy_list = []\n",
    "epochs = 50\n",
    "pbar = tqdm(total=epochs)\n",
    "for i in range(epochs):\n",
    "    pbar.update()\n",
    "    for sents, labels, lens in loader:\n",
    "        net.train()\n",
    "        labels = labels.float().unsqueeze(-1)\n",
    "        out = net(sents, lens)\n",
    "        loss = loss_fn(out, labels)\n",
    "        optimizer.zero_grad()\n",
    "        loss.backward()\n",
    "        optimizer.step()\n",
    "        net.eval()\n",
    "    with torch.no_grad():\n",
    "        val_out = net(val_features, val_lens)\n",
    "        val_loss = loss_fn(val_out, val_labels)\n",
    "        val_loss_list.append(val_loss.item())\n",
    "        val_guesses = torch.round(nn.Sigmoid()(val_out))\n",
    "        accuracy = (val_guesses == val_labels).float().mean().item()\n",
    "        \n",
    "        accuracy_list.append(accuracy)\n",
    "    pbar.set_description(desc=f'Completed {i + 1} out of {epochs}')\n",
    "    loss_list.append(loss.item())"
   ]
  },
  {
   "cell_type": "code",
   "execution_count": 9,
   "metadata": {
    "scrolled": true
   },
   "outputs": [
    {
     "data": {
      "text/plain": [
       "<matplotlib.legend.Legend at 0x7fd1eede6358>"
      ]
     },
     "execution_count": 9,
     "metadata": {},
     "output_type": "execute_result"
    },
    {
     "data": {
      "image/png": "[encoded data removed]",
      "text/plain": [
       "<Figure size 648x432 with 1 Axes>"
      ]
     },
     "metadata": {
      "needs_background": "light"
     },
     "output_type": "display_data"
    }
   ],
   "source": [
    "fig, ax = plt.subplots()\n",
    "pd.Series(loss_list).plot(ax=ax, label='Tr')\n",
    "pd.Series(val_loss_list).plot(ax=ax, label='Val')\n",
    "fig.set_size_inches(fig.get_size_inches() * 1.5)\n",
    "ax.legend()"
   ]
  },
  {
   "cell_type": "code",
   "execution_count": 10,
   "metadata": {},
   "outputs": [
    {
     "data": {
      "text/plain": [
       "<matplotlib.axes._subplots.AxesSubplot at 0x7fd1eb875668>"
      ]
     },
     "execution_count": 10,
     "metadata": {},
     "output_type": "execute_result"
    },
    {
     "data": {
      "image/png": "[encoded data removed]",
      "text/plain": [
       "<Figure size 432x288 with 1 Axes>"
      ]
     },
     "metadata": {
      "needs_background": "light"
     },
     "output_type": "display_data"
    }
   ],
   "source": [
    "pd.Series(accuracy_list).plot()"
   ]
  },
  {
   "cell_type": "code",
   "execution_count": 11,
   "metadata": {},
   "outputs": [],
   "source": [
    "tst_set = NewsText(l_tst, labs_tst)\n",
    "tst_set = generate_val_set(tst_set)\n",
    "tst_features, tst_labels, tst_lens = tst_set\n",
    "tst_labels = tst_labels.unsqueeze(-1).float()"
   ]
  },
  {
   "cell_type": "code",
   "execution_count": 12,
   "metadata": {},
   "outputs": [],
   "source": [
    "with torch.no_grad():\n",
    "    tst_out = net(tst_features, tst_lens)\n",
    "    tst_loss = loss_fn(tst_out, tst_labels)\n",
    "    tst_guesses = torch.round(nn.Sigmoid()(tst_out))\n",
    "    accuracy_tst = (tst_guesses == tst_labels).float().mean().item()"
   ]
  },
  {
   "cell_type": "code",
   "execution_count": 13,
   "metadata": {},
   "outputs": [
    {
     "data": {
      "text/plain": [
       "0.996114194393158"
      ]
     },
     "execution_count": 13,
     "metadata": {},
     "output_type": "execute_result"
    }
   ],
   "source": [
    "accuracy_tst"
   ]
  }
 ],
 "metadata": {
  "kernelspec": {
   "display_name": "news",
   "language": "python",
   "name": "news"
  },
  "language_info": {
   "codemirror_mode": {
    "name": "ipython",
    "version": 3
   },
   "file_extension": ".py",
   "mimetype": "text/x-python",
   "name": "python",
   "nbconvert_exporter": "python",
   "pygments_lexer": "ipython3",
   "version": "3.6.10"
  }
 },
 "nbformat": 4,
 "nbformat_minor": 4
}
