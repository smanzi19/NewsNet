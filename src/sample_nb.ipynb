{
 "cells": [
  {
   "cell_type": "code",
   "execution_count": 1,
   "metadata": {},
   "outputs": [],
   "source": [
    "import pandas as pd\n",
    "import torch\n",
    "from torch import nn\n",
    "from torch.optim import Adam\n",
    "from data_loading import process_text_df, NewsText\n",
    "from utils import generate_val_set, collate_fn\n",
    "from tqdm import tqdm\n",
    "from models import NewsNet\n",
    "import matplotlib.pyplot as plt\n",
    "from torch.utils.data import Dataset, DataLoader\n",
    "from torch import tensor"
   ]
  },
  {
   "cell_type": "code",
   "execution_count": 2,
   "metadata": {},
   "outputs": [
    {
     "data": {
      "text/plain": [
       "[Text(0, 0, 'False'), Text(0, 0, 'True')]"
      ]
     },
     "execution_count": 2,
     "metadata": {},
     "output_type": "execute_result"
    },
    {
     "data": {
      "image/png": "[encoded data removed]",
      "text/plain": [
       "<Figure size 432x288 with 1 Axes>"
      ]
     },
     "metadata": {
      "needs_background": "light"
     },
     "output_type": "display_data"
    }
   ],
   "source": [
    "fake, true = pd.read_csv('data/Fake.csv'), pd.read_csv('data/True.csv')\n",
    "fake['label'] = 'fake'\n",
    "true['label'] = 'true'\n",
    "news = pd.concat((fake, true))\n",
    "news = news.sample(frac=1)\n",
    "news.reset_index(inplace=True, drop=True)\n",
    "ax = news.label.apply(lambda l: 1 if l =='true' else 0).value_counts().plot(kind='bar')\n",
    "ax.set_xticklabels(['False', 'True'])"
   ]
  },
  {
   "cell_type": "code",
   "execution_count": 3,
   "metadata": {},
   "outputs": [],
   "source": [
    "p1 = process_text_df(news, ['title', 'text'])"
   ]
  },
  {
   "cell_type": "code",
   "execution_count": 4,
   "metadata": {},
   "outputs": [
    {
     "name": "stdout",
     "output_type": "stream",
     "text": [
      "CPU times: user 2.82 s, sys: 1.23 s, total: 4.05 s\n",
      "Wall time: 4min 28s\n"
     ]
    }
   ],
   "source": [
    "%%time\n",
    "p1.process_text_col()"
   ]
  },
  {
   "cell_type": "code",
   "execution_count": 5,
   "metadata": {},
   "outputs": [
    {
     "data": {
      "text/html": [
       "<div>\n",
       "<style scoped>\n",
       "    .dataframe tbody tr th:only-of-type {\n",
       "        vertical-align: middle;\n",
       "    }\n",
       "\n",
       "    .dataframe tbody tr th {\n",
       "        vertical-align: top;\n",
       "    }\n",
       "\n",
       "    .dataframe thead th {\n",
       "        text-align: right;\n",
       "    }\n",
       "</style>\n",
       "<table border=\"1\" class=\"dataframe\">\n",
       "  <thead>\n",
       "    <tr style=\"text-align: right;\">\n",
       "      <th></th>\n",
       "      <th>title</th>\n",
       "      <th>text</th>\n",
       "      <th>subject</th>\n",
       "      <th>date</th>\n",
       "      <th>label</th>\n",
       "    </tr>\n",
       "  </thead>\n",
       "  <tbody>\n",
       "    <tr>\n",
       "      <th>0</th>\n",
       "      <td>[best, reason, trump, qualifi, presidenti, can...</td>\n",
       "      <td>[obama, trump, check, media, trump, check, est...</td>\n",
       "      <td>politics</td>\n",
       "      <td>May 18, 2016</td>\n",
       "      <td>fake</td>\n",
       "    </tr>\n",
       "    <tr>\n",
       "      <th>1</th>\n",
       "      <td>[i, dont, think, standard, report, call, claim...</td>\n",
       "      <td>[think, standard, tim, carney, new, york, time...</td>\n",
       "      <td>politics</td>\n",
       "      <td>Dec 15, 2017</td>\n",
       "      <td>fake</td>\n",
       "    </tr>\n",
       "    <tr>\n",
       "      <th>2</th>\n",
       "      <td>[hollywood, actress, lena, dunham, havent, abo...</td>\n",
       "      <td>[abort, wish, lena, dunhamactress, lena, dunha...</td>\n",
       "      <td>left-news</td>\n",
       "      <td>Dec 20, 2016</td>\n",
       "      <td>fake</td>\n",
       "    </tr>\n",
       "    <tr>\n",
       "      <th>3</th>\n",
       "      <td>[flashback, key, democrat, call, violenc, stre...</td>\n",
       "      <td>[wonder, violenc, like, today, shoot, happen, ...</td>\n",
       "      <td>left-news</td>\n",
       "      <td>Jun 14, 2017</td>\n",
       "      <td>fake</td>\n",
       "    </tr>\n",
       "    <tr>\n",
       "      <th>4</th>\n",
       "      <td>[senior, democrat, nation, committe, offici, r...</td>\n",
       "      <td>[new, yorkwashington, reuter, , three, senior,...</td>\n",
       "      <td>politicsNews</td>\n",
       "      <td>August 2, 2016</td>\n",
       "      <td>true</td>\n",
       "    </tr>\n",
       "    <tr>\n",
       "      <th>...</th>\n",
       "      <td>...</td>\n",
       "      <td>...</td>\n",
       "      <td>...</td>\n",
       "      <td>...</td>\n",
       "      <td>...</td>\n",
       "    </tr>\n",
       "    <tr>\n",
       "      <th>44893</th>\n",
       "      <td>[reopen, feud, quota, host, refuge]</td>\n",
       "      <td>[brussel, reuter, , rival, two, side, european...</td>\n",
       "      <td>worldnews</td>\n",
       "      <td>December 13, 2017</td>\n",
       "      <td>true</td>\n",
       "    </tr>\n",
       "    <tr>\n",
       "      <th>44894</th>\n",
       "      <td>[arizona, republican, vote, airplan, seat, com...</td>\n",
       "      <td>[pure, gold, perfect, demonstr, republican, gi...</td>\n",
       "      <td>News</td>\n",
       "      <td>April 8, 2016</td>\n",
       "      <td>fake</td>\n",
       "    </tr>\n",
       "    <tr>\n",
       "      <th>44895</th>\n",
       "      <td>[hot, air, us, gas, export, rush, sell, lng, c...</td>\n",
       "      <td>[beij, reuter, , us, gas, export, trader, aim,...</td>\n",
       "      <td>worldnews</td>\n",
       "      <td>October 27, 2017</td>\n",
       "      <td>true</td>\n",
       "    </tr>\n",
       "    <tr>\n",
       "      <th>44896</th>\n",
       "      <td>[isi, march, belgium, burn, obama, hang, new, ...</td>\n",
       "      <td>[parti, barri, expect, see, behavior, first, c...</td>\n",
       "      <td>left-news</td>\n",
       "      <td>Mar 23, 2016</td>\n",
       "      <td>fake</td>\n",
       "    </tr>\n",
       "    <tr>\n",
       "      <th>44897</th>\n",
       "      <td>[trump, respons, leftist, threat, get, lawn]</td>\n",
       "      <td>[actual, quit, refresh, see, someon, right, un...</td>\n",
       "      <td>left-news</td>\n",
       "      <td>Jun 27, 2015</td>\n",
       "      <td>fake</td>\n",
       "    </tr>\n",
       "  </tbody>\n",
       "</table>\n",
       "<p>44898 rows × 5 columns</p>\n",
       "</div>"
      ],
      "text/plain": [
       "                                                   title  \\\n",
       "0      [best, reason, trump, qualifi, presidenti, can...   \n",
       "1      [i, dont, think, standard, report, call, claim...   \n",
       "2      [hollywood, actress, lena, dunham, havent, abo...   \n",
       "3      [flashback, key, democrat, call, violenc, stre...   \n",
       "4      [senior, democrat, nation, committe, offici, r...   \n",
       "...                                                  ...   \n",
       "44893                [reopen, feud, quota, host, refuge]   \n",
       "44894  [arizona, republican, vote, airplan, seat, com...   \n",
       "44895  [hot, air, us, gas, export, rush, sell, lng, c...   \n",
       "44896  [isi, march, belgium, burn, obama, hang, new, ...   \n",
       "44897       [trump, respons, leftist, threat, get, lawn]   \n",
       "\n",
       "                                                    text       subject  \\\n",
       "0      [obama, trump, check, media, trump, check, est...      politics   \n",
       "1      [think, standard, tim, carney, new, york, time...      politics   \n",
       "2      [abort, wish, lena, dunhamactress, lena, dunha...     left-news   \n",
       "3      [wonder, violenc, like, today, shoot, happen, ...     left-news   \n",
       "4      [new, yorkwashington, reuter, , three, senior,...  politicsNews   \n",
       "...                                                  ...           ...   \n",
       "44893  [brussel, reuter, , rival, two, side, european...     worldnews   \n",
       "44894  [pure, gold, perfect, demonstr, republican, gi...          News   \n",
       "44895  [beij, reuter, , us, gas, export, trader, aim,...     worldnews   \n",
       "44896  [parti, barri, expect, see, behavior, first, c...     left-news   \n",
       "44897  [actual, quit, refresh, see, someon, right, un...     left-news   \n",
       "\n",
       "                     date label  \n",
       "0            May 18, 2016  fake  \n",
       "1            Dec 15, 2017  fake  \n",
       "2            Dec 20, 2016  fake  \n",
       "3            Jun 14, 2017  fake  \n",
       "4         August 2, 2016   true  \n",
       "...                   ...   ...  \n",
       "44893  December 13, 2017   true  \n",
       "44894       April 8, 2016  fake  \n",
       "44895   October 27, 2017   true  \n",
       "44896        Mar 23, 2016  fake  \n",
       "44897        Jun 27, 2015  fake  \n",
       "\n",
       "[44898 rows x 5 columns]"
      ]
     },
     "execution_count": 5,
     "metadata": {},
     "output_type": "execute_result"
    }
   ],
   "source": [
    "p1.df"
   ]
  },
  {
   "cell_type": "code",
   "execution_count": 6,
   "metadata": {},
   "outputs": [
    {
     "data": {
      "text/html": [
       "<div>\n",
       "<style scoped>\n",
       "    .dataframe tbody tr th:only-of-type {\n",
       "        vertical-align: middle;\n",
       "    }\n",
       "\n",
       "    .dataframe tbody tr th {\n",
       "        vertical-align: top;\n",
       "    }\n",
       "\n",
       "    .dataframe thead th {\n",
       "        text-align: right;\n",
       "    }\n",
       "</style>\n",
       "<table border=\"1\" class=\"dataframe\">\n",
       "  <thead>\n",
       "    <tr style=\"text-align: right;\">\n",
       "      <th></th>\n",
       "      <th>title</th>\n",
       "      <th>text</th>\n",
       "      <th>subject</th>\n",
       "      <th>date</th>\n",
       "      <th>label</th>\n",
       "    </tr>\n",
       "  </thead>\n",
       "  <tbody>\n",
       "    <tr>\n",
       "      <th>0</th>\n",
       "      <td>[7354, 7353, 7352, 7351, 7350, 7349, 7348, 7347]</td>\n",
       "      <td>[7339, 7352, 7035, 7141, 7352, 7035, 5978, 732...</td>\n",
       "      <td>politics</td>\n",
       "      <td>May 18, 2016</td>\n",
       "      <td>fake</td>\n",
       "    </tr>\n",
       "    <tr>\n",
       "      <th>1</th>\n",
       "      <td>[7346, 7345, 7344, 7343, 7342, 7341, 7340, 733...</td>\n",
       "      <td>[7344, 7343, 6976, 0, 7275, 6131, 5953, 7342, ...</td>\n",
       "      <td>politics</td>\n",
       "      <td>Dec 15, 2017</td>\n",
       "      <td>fake</td>\n",
       "    </tr>\n",
       "    <tr>\n",
       "      <th>2</th>\n",
       "      <td>[7333, 7332, 0, 7331, 7330, 7329, 7328, 7327]</td>\n",
       "      <td>[7329, 7328, 0, 0, 0, 7331, 7060, 6963, 7329, ...</td>\n",
       "      <td>left-news</td>\n",
       "      <td>Dec 20, 2016</td>\n",
       "      <td>fake</td>\n",
       "    </tr>\n",
       "    <tr>\n",
       "      <th>3</th>\n",
       "      <td>[7326, 7325, 7324, 7341, 7323, 0, 7322, 7321, ...</td>\n",
       "      <td>[2286, 7323, 6775, 4836, 7065, 6967, 5815, 664...</td>\n",
       "      <td>left-news</td>\n",
       "      <td>Jun 14, 2017</td>\n",
       "      <td>fake</td>\n",
       "    </tr>\n",
       "    <tr>\n",
       "      <th>4</th>\n",
       "      <td>[7320, 7324, 7319, 7318, 7317, 7316, 7315]</td>\n",
       "      <td>[7275, 0, 5473, 7290, 5681, 7320, 7317, 7324, ...</td>\n",
       "      <td>politicsNews</td>\n",
       "      <td>August 2, 2016</td>\n",
       "      <td>true</td>\n",
       "    </tr>\n",
       "    <tr>\n",
       "      <th>...</th>\n",
       "      <td>...</td>\n",
       "      <td>...</td>\n",
       "      <td>...</td>\n",
       "      <td>...</td>\n",
       "      <td>...</td>\n",
       "    </tr>\n",
       "    <tr>\n",
       "      <th>44893</th>\n",
       "      <td>[6436, 5589, 4543, 6802, 7104]</td>\n",
       "      <td>[4538, 5473, 7290, 5201, 6991, 5737, 6070, 486...</td>\n",
       "      <td>worldnews</td>\n",
       "      <td>December 13, 2017</td>\n",
       "      <td>true</td>\n",
       "    </tr>\n",
       "    <tr>\n",
       "      <th>44894</th>\n",
       "      <td>[4375, 6827, 7158, 1827, 4442, 4738, 6116, 391...</td>\n",
       "      <td>[3104, 4898, 7208, 4079, 6827, 7089, 4522, 703...</td>\n",
       "      <td>News</td>\n",
       "      <td>April 8, 2016</td>\n",
       "      <td>fake</td>\n",
       "    </tr>\n",
       "    <tr>\n",
       "      <th>44895</th>\n",
       "      <td>[5486, 6808, 7283, 7212, 2337, 7295, 5627, 0, ...</td>\n",
       "      <td>[3238, 5473, 7290, 7283, 7212, 2337, 1279, 510...</td>\n",
       "      <td>worldnews</td>\n",
       "      <td>October 27, 2017</td>\n",
       "      <td>true</td>\n",
       "    </tr>\n",
       "    <tr>\n",
       "      <th>44896</th>\n",
       "      <td>[6588, 6052, 3966, 6029, 7339, 3891, 7275, 0, ...</td>\n",
       "      <td>[7259, 4900, 6396, 7150, 4953, 7145, 5826, 431...</td>\n",
       "      <td>left-news</td>\n",
       "      <td>Mar 23, 2016</td>\n",
       "      <td>fake</td>\n",
       "    </tr>\n",
       "    <tr>\n",
       "      <th>44897</th>\n",
       "      <td>[7352, 7102, 5162, 6418, 7230, 2495]</td>\n",
       "      <td>[5372, 6095, 2182, 7150, 4913, 7013, 0, 4010, ...</td>\n",
       "      <td>left-news</td>\n",
       "      <td>Jun 27, 2015</td>\n",
       "      <td>fake</td>\n",
       "    </tr>\n",
       "  </tbody>\n",
       "</table>\n",
       "<p>44898 rows × 5 columns</p>\n",
       "</div>"
      ],
      "text/plain": [
       "                                                   title  \\\n",
       "0       [7354, 7353, 7352, 7351, 7350, 7349, 7348, 7347]   \n",
       "1      [7346, 7345, 7344, 7343, 7342, 7341, 7340, 733...   \n",
       "2          [7333, 7332, 0, 7331, 7330, 7329, 7328, 7327]   \n",
       "3      [7326, 7325, 7324, 7341, 7323, 0, 7322, 7321, ...   \n",
       "4             [7320, 7324, 7319, 7318, 7317, 7316, 7315]   \n",
       "...                                                  ...   \n",
       "44893                     [6436, 5589, 4543, 6802, 7104]   \n",
       "44894  [4375, 6827, 7158, 1827, 4442, 4738, 6116, 391...   \n",
       "44895  [5486, 6808, 7283, 7212, 2337, 7295, 5627, 0, ...   \n",
       "44896  [6588, 6052, 3966, 6029, 7339, 3891, 7275, 0, ...   \n",
       "44897               [7352, 7102, 5162, 6418, 7230, 2495]   \n",
       "\n",
       "                                                    text       subject  \\\n",
       "0      [7339, 7352, 7035, 7141, 7352, 7035, 5978, 732...      politics   \n",
       "1      [7344, 7343, 6976, 0, 7275, 6131, 5953, 7342, ...      politics   \n",
       "2      [7329, 7328, 0, 0, 0, 7331, 7060, 6963, 7329, ...     left-news   \n",
       "3      [2286, 7323, 6775, 4836, 7065, 6967, 5815, 664...     left-news   \n",
       "4      [7275, 0, 5473, 7290, 5681, 7320, 7317, 7324, ...  politicsNews   \n",
       "...                                                  ...           ...   \n",
       "44893  [4538, 5473, 7290, 5201, 6991, 5737, 6070, 486...     worldnews   \n",
       "44894  [3104, 4898, 7208, 4079, 6827, 7089, 4522, 703...          News   \n",
       "44895  [3238, 5473, 7290, 7283, 7212, 2337, 1279, 510...     worldnews   \n",
       "44896  [7259, 4900, 6396, 7150, 4953, 7145, 5826, 431...     left-news   \n",
       "44897  [5372, 6095, 2182, 7150, 4913, 7013, 0, 4010, ...     left-news   \n",
       "\n",
       "                     date label  \n",
       "0            May 18, 2016  fake  \n",
       "1            Dec 15, 2017  fake  \n",
       "2            Dec 20, 2016  fake  \n",
       "3            Jun 14, 2017  fake  \n",
       "4         August 2, 2016   true  \n",
       "...                   ...   ...  \n",
       "44893  December 13, 2017   true  \n",
       "44894       April 8, 2016  fake  \n",
       "44895   October 27, 2017   true  \n",
       "44896        Mar 23, 2016  fake  \n",
       "44897        Jun 27, 2015  fake  \n",
       "\n",
       "[44898 rows x 5 columns]"
      ]
     },
     "execution_count": 6,
     "metadata": {},
     "output_type": "execute_result"
    }
   ],
   "source": [
    "p1.tokenize_sentences()\n",
    "p1.df"
   ]
  },
  {
   "cell_type": "code",
   "execution_count": 7,
   "metadata": {},
   "outputs": [],
   "source": [
    "l, labs = p1.tensorize_sentences('text', 'label', n_feature_tokens=50)"
   ]
  },
  {
   "cell_type": "code",
   "execution_count": 8,
   "metadata": {
    "scrolled": true
   },
   "outputs": [
    {
     "name": "stderr",
     "output_type": "stream",
     "text": [
      "Completed 50 out of 50: 100%|██████████| 50/50 [38:59<00:00, 46.79s/it]"
     ]
    }
   ],
   "source": [
    "idx = len(l) // 4\n",
    "l_tr, labs_tr = l[:2 * idx], labs[:2 * idx]\n",
    "l_val, labs_val = l[2 * idx:3 * idx], labs[2 * idx:3 * idx]\n",
    "l_tst, labs_tst = l[-idx:], labs[-idx:]\n",
    "tr_set = NewsText(l_tr, labs_tr)\n",
    "loader = DataLoader(tr_set, batch_size=8, collate_fn=collate_fn)\n",
    "\n",
    "val_set = NewsText(l_val, labs_val)\n",
    "val_set = generate_val_set(val_set)\n",
    "val_features, val_labels, val_lens = val_set\n",
    "val_labels = val_labels.unsqueeze(-1).float()\n",
    "\n",
    "net = NewsNet(p1.vocab, hidden_size=4, embedding_dim=8, num_layers=2)\n",
    "loss_fn = nn.BCEWithLogitsLoss()\n",
    "optimizer = Adam(net.parameters(), lr=1e-4, weight_decay=5e-6)\n",
    "loss_list = []\n",
    "val_loss_list = []\n",
    "accuracy_list = []\n",
    "epochs = 50\n",
    "pbar = tqdm(total=epochs)\n",
    "for i in range(epochs):\n",
    "    pbar.update()\n",
    "    for sents, labels, lens in loader:\n",
    "        net.train()\n",
    "        labels = labels.float().unsqueeze(-1)\n",
    "        out = net(sents, lens)\n",
    "        loss = loss_fn(out, labels)\n",
    "        optimizer.zero_grad()\n",
    "        loss.backward()\n",
    "        optimizer.step()\n",
    "        net.eval()\n",
    "    with torch.no_grad():\n",
    "        val_out = net(val_features, val_lens)\n",
    "        val_loss = loss_fn(val_out, val_labels)\n",
    "        val_loss_list.append(val_loss.item())\n",
    "        val_guesses = torch.round(nn.Sigmoid()(val_out))\n",
    "        accuracy = (val_guesses == val_labels).float().mean().item()\n",
    "        \n",
    "        accuracy_list.append(accuracy)\n",
    "    pbar.set_description(desc=f'Completed {i + 1} out of {epochs}')\n",
    "    loss_list.append(loss.item())"
   ]
  },
  {
   "cell_type": "code",
   "execution_count": 9,
   "metadata": {
    "scrolled": true
   },
   "outputs": [
    {
     "data": {
      "text/plain": [
       "<matplotlib.legend.Legend at 0x7fcf4d14d240>"
      ]
     },
     "execution_count": 9,
     "metadata": {},
     "output_type": "execute_result"
    },
    {
     "data": {
      "image/png": "[encoded data removed]",
      "text/plain": [
       "<Figure size 648x432 with 1 Axes>"
      ]
     },
     "metadata": {
      "needs_background": "light"
     },
     "output_type": "display_data"
    }
   ],
   "source": [
    "fig, ax = plt.subplots()\n",
    "pd.Series(loss_list).plot(ax=ax, label='Tr')\n",
    "pd.Series(val_loss_list).plot(ax=ax, label='Val')\n",
    "fig.set_size_inches(fig.get_size_inches() * 1.5)\n",
    "ax.legend()"
   ]
  },
  {
   "cell_type": "code",
   "execution_count": 10,
   "metadata": {},
   "outputs": [
    {
     "data": {
      "text/plain": [
       "<matplotlib.axes._subplots.AxesSubplot at 0x7fcf6cad7748>"
      ]
     },
     "execution_count": 10,
     "metadata": {},
     "output_type": "execute_result"
    },
    {
     "data": {
      "image/png": "[encoded data removed]",
      "text/plain": [
       "<Figure size 432x288 with 1 Axes>"
      ]
     },
     "metadata": {
      "needs_background": "light"
     },
     "output_type": "display_data"
    }
   ],
   "source": [
    "pd.Series(accuracy_list).plot()"
   ]
  },
  {
   "cell_type": "code",
   "execution_count": 11,
   "metadata": {},
   "outputs": [],
   "source": [
    "tst_set = NewsText(l_tst, labs_tst)\n",
    "tst_set = generate_val_set(tst_set)\n",
    "tst_features, tst_labels, tst_lens = tst_set\n",
    "tst_labels = tst_labels.unsqueeze(-1).float()"
   ]
  },
  {
   "cell_type": "code",
   "execution_count": 12,
   "metadata": {},
   "outputs": [],
   "source": [
    "with torch.no_grad():\n",
    "    tst_out = net(tst_features, tst_lens)\n",
    "    tst_loss = loss_fn(tst_out, tst_labels)\n",
    "    tst_guesses = torch.round(nn.Sigmoid()(tst_out))\n",
    "    accuracy_tst = (tst_guesses == tst_labels).float().mean().item()"
   ]
  },
  {
   "cell_type": "code",
   "execution_count": 13,
   "metadata": {},
   "outputs": [
    {
     "data": {
      "text/plain": [
       "0.9936743378639221"
      ]
     },
     "execution_count": 13,
     "metadata": {},
     "output_type": "execute_result"
    }
   ],
   "source": [
    "accuracy_tst"
   ]
  }
 ],
 "metadata": {
  "kernelspec": {
   "display_name": "news",
   "language": "python",
   "name": "news"
  },
  "language_info": {
   "codemirror_mode": {
    "name": "ipython",
    "version": 3
   },
   "file_extension": ".py",
   "mimetype": "text/x-python",
   "name": "python",
   "nbconvert_exporter": "python",
   "pygments_lexer": "ipython3",
   "version": "3.6.10"
  }
 },
 "nbformat": 4,
 "nbformat_minor": 4
}
