{
 "cells": [
  {
   "cell_type": "code",
   "execution_count": 1,
   "metadata": {},
   "outputs": [],
   "source": [
    "import pandas as pd\n",
    "from nltk import WhitespaceTokenizer\n",
    "from nltk.corpus import stopwords, words, wordnet\n",
    "from nltk.lm import Vocabulary\n",
    "from collections import OrderedDict\n",
    "import numpy as np\n",
    "import torch\n",
    "from torch import nn\n",
    "import concurrent.futures\n",
    "from torch.optim import Adam\n",
    "from data_loading import process_text_df, NewsText, tensorize_sentences, collate_fn\n",
    "from tqdm import tqdm as pbar\n",
    "from models import NewsNet\n",
    "import matplotlib.pyplot as plt\n",
    "from torch.utils.data import Dataset, DataLoader\n",
    "from torch import tensor\n",
    "import matplotlib.pyplot as plt\n",
    "import tqdm\n",
    "stopwords = stopwords.words()\n",
    "words = words.words() \n",
    "wordnet = wordnet.words()"
   ]
  },
  {
   "cell_type": "code",
   "execution_count": 2,
   "metadata": {},
   "outputs": [],
   "source": [
    "import pandas as pd\n",
    "from nltk import WhitespaceTokenizer\n",
    "from nltk.corpus import stopwords, words, wordnet\n",
    "from nltk.lm import Vocabulary\n",
    "import numpy as np\n",
    "import torch\n",
    "from torch import nn\n",
    "import concurrent.futures\n",
    "from torch.utils.data import Dataset, DataLoader\n",
    "from nltk.stem.snowball import EnglishStemmer\n",
    "from torch import tensor\n",
    "stopwords = stopwords.words()\n",
    "words = words.words() \n",
    "wordnet = wordnet.words()\n",
    "\n",
    "class process_text_df():\n",
    "    \n",
    "    def __init__(self, df, text_cols):\n",
    "        self.df = df.copy()\n",
    "        self.text_cols = text_cols\n",
    "        self.stemmer = EnglishStemmer()\n",
    "        \n",
    "    def word_only(self, l):\n",
    "        nopunkt = lambda w: ''.join([char for char in w if char.isalnum()])\n",
    "        l = [nopunkt(w) for w in l]\n",
    "        return l\n",
    "\n",
    "    def clean_text_col(self, text_col):\n",
    "        text_col = text_col.apply(lambda text: WhitespaceTokenizer().tokenize(text))\n",
    "        text_col = text_col.apply(lambda sent: [word.lower() for word in sent])\n",
    "        text_col = text_col.apply(lambda sent: [word for word in sent if word not in stopwords])\n",
    "        text_col = text_col.apply(lambda sent: self.word_only(sent))\n",
    "        text_col = text_col.apply(lambda sent: [self.stemmer.stem(word) for word in sent])\n",
    "        return text_col\n",
    "\n",
    "    def chunk_arr(self, arr, n_partitions=8):\n",
    "        size = len(arr) // n_partitions\n",
    "        out = [arr[i * size:(i + 1) * size] for i in range(n_partitions + 1)]\n",
    "        return out\n",
    "\n",
    "    def clean_tokenize(self, text_col):\n",
    "        with concurrent.futures.ProcessPoolExecutor(4) as executor:\n",
    "            chunks = self.chunk_arr(self.df[text_col], 4)\n",
    "            results = executor.map(self.clean_text_col, chunks)\n",
    "            out = [result for result in results]\n",
    "        out = pd.concat(out)\n",
    "        return out\n",
    "\n",
    "    def process_text_col(self):\n",
    "        for text_col in self.text_cols:\n",
    "            self.df[text_col] = self.clean_tokenize(text_col)\n",
    "            \n",
    "    def build_vocab(self):\n",
    "        out = []\n",
    "        for col in self.text_cols:\n",
    "            col_ = self.df[col]\n",
    "            extend = [w for sent in col_ for w in sent]\n",
    "            out.extend(extend)\n",
    "        out = list(Vocabulary(out, unk_cutoff=100))\n",
    "        out = {out[i]:len(out) - (i + 1) for i in range(len(out))}\n",
    "        self.vocab = out\n",
    "    \n",
    "    def tokenize_sentences(self):\n",
    "        self.build_vocab()\n",
    "        for text_col in self.text_cols:\n",
    "            self.df[text_col] =\\\n",
    "            self.df[text_col].apply(lambda sent: [word if word in self.vocab else '<UNK>' for word in sent])\n",
    "            self.df[text_col] =\\\n",
    "            self.df[text_col].apply(lambda sent: [self.vocab[word] for word in sent])\n",
    "        \n",
    "def tensorize_sentences(text_series, labels):\n",
    "    sentences, labels = [torch.tensor(text) for text in text_series], \\\n",
    "                        tensor(labels.apply(lambda l: 1 if l == 'true' else 0))\n",
    "    return sentences, labels\n",
    "\n",
    "class NewsText(Dataset):\n",
    "\n",
    "    def __init__(self, news_text_list, labels):\n",
    "        self.news_text_list = news_text_list\n",
    "        self.labels = labels\n",
    "\n",
    "    def __len__(self):\n",
    "        assert(len(self.news_text_list) == len(self.labels))\n",
    "        return len(self.labels)\n",
    "\n",
    "    def __getitem__(self, idx):\n",
    "        sample = self.news_text_list[idx], self.labels[idx]\n",
    "        return sample\n",
    "\n",
    "def pad_sent(sents, max_seq_len):\n",
    "    max_seq_len = min(100, max_seq_len)\n",
    "    out = []\n",
    "    for i in range(len(sents)):\n",
    "        sent = sents[i]\n",
    "        append_tensor = tensor([sent[j] if j < len(sent) else 0 for j in range(max_seq_len)]).unsqueeze(0)\n",
    "        out.append(append_tensor)\n",
    "    out = torch.cat(out)\n",
    "    return out\n",
    "    \n",
    "\n",
    "def collate_fn(sample):\n",
    "\n",
    "    labels = tensor([s[1] for s in sample])\n",
    "    sents = [s[0] for s in sample]\n",
    "    max_seq_len = max([sent.shape[0] for sent in sents])\n",
    "    sents = pad_sent(sents, max_seq_len)\n",
    "    return sents, labels\n",
    "\n"
   ]
  },
  {
   "cell_type": "code",
   "execution_count": 3,
   "metadata": {},
   "outputs": [],
   "source": [
    "fake, true = pd.read_csv('Fake.csv'), pd.read_csv('True.csv')\n",
    "fake['label'] = 'fake'\n",
    "true['label'] = 'true'\n",
    "news = pd.concat((fake, true))\n",
    "news = news.sample(frac=1)\n",
    "news.reset_index(inplace=True, drop=True)"
   ]
  },
  {
   "cell_type": "code",
   "execution_count": null,
   "metadata": {},
   "outputs": [],
   "source": []
  },
  {
   "cell_type": "code",
   "execution_count": 4,
   "metadata": {},
   "outputs": [],
   "source": [
    "p1 = process_text_df(news, ['title', 'text'])"
   ]
  },
  {
   "cell_type": "code",
   "execution_count": 5,
   "metadata": {},
   "outputs": [
    {
     "name": "stdout",
     "output_type": "stream",
     "text": [
      "CPU times: user 2.96 s, sys: 1.34 s, total: 4.3 s\n",
      "Wall time: 4min 28s\n"
     ]
    }
   ],
   "source": [
    "%%time\n",
    "p1.process_text_col()"
   ]
  },
  {
   "cell_type": "code",
   "execution_count": 6,
   "metadata": {},
   "outputs": [
    {
     "data": {
      "text/html": [
       "<div>\n",
       "<style scoped>\n",
       "    .dataframe tbody tr th:only-of-type {\n",
       "        vertical-align: middle;\n",
       "    }\n",
       "\n",
       "    .dataframe tbody tr th {\n",
       "        vertical-align: top;\n",
       "    }\n",
       "\n",
       "    .dataframe thead th {\n",
       "        text-align: right;\n",
       "    }\n",
       "</style>\n",
       "<table border=\"1\" class=\"dataframe\">\n",
       "  <thead>\n",
       "    <tr style=\"text-align: right;\">\n",
       "      <th></th>\n",
       "      <th>title</th>\n",
       "      <th>text</th>\n",
       "      <th>subject</th>\n",
       "      <th>date</th>\n",
       "      <th>label</th>\n",
       "    </tr>\n",
       "  </thead>\n",
       "  <tbody>\n",
       "    <tr>\n",
       "      <th>0</th>\n",
       "      <td>[poland, alloc, addit, 55, bllion, defens, 203...</td>\n",
       "      <td>[warsaw, reuter, , poland, alloc, addit, 200, ...</td>\n",
       "      <td>worldnews</td>\n",
       "      <td>August 23, 2017</td>\n",
       "      <td>true</td>\n",
       "    </tr>\n",
       "    <tr>\n",
       "      <th>1</th>\n",
       "      <td>[michell, obama, dish, dirt, barack, he, bare,...</td>\n",
       "      <td>[thank, intel, mooch, outsid, ambit, fundament...</td>\n",
       "      <td>left-news</td>\n",
       "      <td>Jan 27, 2016</td>\n",
       "      <td>fake</td>\n",
       "    </tr>\n",
       "    <tr>\n",
       "      <th>2</th>\n",
       "      <td>[new, russian, envoy, describ, warm, meet, tru...</td>\n",
       "      <td>[moscow, reuter, , russia, newli, instal, amba...</td>\n",
       "      <td>politicsNews</td>\n",
       "      <td>September 8, 2017</td>\n",
       "      <td>true</td>\n",
       "    </tr>\n",
       "    <tr>\n",
       "      <th>3</th>\n",
       "      <td>[cambodia, detain, opposit, leader, deni, trea...</td>\n",
       "      <td>[phnom, penh, reuter, , cambodia, detain, oppo...</td>\n",
       "      <td>worldnews</td>\n",
       "      <td>October 2, 2017</td>\n",
       "      <td>true</td>\n",
       "    </tr>\n",
       "    <tr>\n",
       "      <th>4</th>\n",
       "      <td>[kurdish, leader, barzani, condemn, iraqi, par...</td>\n",
       "      <td>[reuter, , kurdish, presid, massoud, barzani, ...</td>\n",
       "      <td>worldnews</td>\n",
       "      <td>September 14, 2017</td>\n",
       "      <td>true</td>\n",
       "    </tr>\n",
       "    <tr>\n",
       "      <th>...</th>\n",
       "      <td>...</td>\n",
       "      <td>...</td>\n",
       "      <td>...</td>\n",
       "      <td>...</td>\n",
       "      <td>...</td>\n",
       "    </tr>\n",
       "    <tr>\n",
       "      <th>44893</th>\n",
       "      <td>[food, stamp, rap, song, ebt, card, mani, way,...</td>\n",
       "      <td>[month, cost, fed, pay, food, stamp, sicken, t...</td>\n",
       "      <td>Government News</td>\n",
       "      <td>Dec 22, 2015</td>\n",
       "      <td>fake</td>\n",
       "    </tr>\n",
       "    <tr>\n",
       "      <th>44894</th>\n",
       "      <td>[nevertrump, gop, intellig, expert, launch, in...</td>\n",
       "      <td>[nevertrump, faction, gop, long, independ, con...</td>\n",
       "      <td>News</td>\n",
       "      <td>August 8, 2016</td>\n",
       "      <td>fake</td>\n",
       "    </tr>\n",
       "    <tr>\n",
       "      <th>44895</th>\n",
       "      <td>[taiwan, boost, defens, spend, us, concern, po...</td>\n",
       "      <td>[taipei, reuter, , taiwan, increas, futur, def...</td>\n",
       "      <td>worldnews</td>\n",
       "      <td>October 30, 2017</td>\n",
       "      <td>true</td>\n",
       "    </tr>\n",
       "    <tr>\n",
       "      <th>44896</th>\n",
       "      <td>[islam, state, flag, fli, bosnia, pm]</td>\n",
       "      <td>[sarajevo, reuter, , islam, state, flag, fli, ...</td>\n",
       "      <td>worldnews</td>\n",
       "      <td>September 12, 2017</td>\n",
       "      <td>true</td>\n",
       "    </tr>\n",
       "    <tr>\n",
       "      <th>44897</th>\n",
       "      <td>[us, labor, dept, nomine, puzder, withdraw, bl...</td>\n",
       "      <td>[washington, reuter, , blow, presid, donald, t...</td>\n",
       "      <td>politicsNews</td>\n",
       "      <td>February 15, 2017</td>\n",
       "      <td>true</td>\n",
       "    </tr>\n",
       "  </tbody>\n",
       "</table>\n",
       "<p>44898 rows × 5 columns</p>\n",
       "</div>"
      ],
      "text/plain": [
       "                                                   title  \\\n",
       "0      [poland, alloc, addit, 55, bllion, defens, 203...   \n",
       "1      [michell, obama, dish, dirt, barack, he, bare,...   \n",
       "2      [new, russian, envoy, describ, warm, meet, tru...   \n",
       "3      [cambodia, detain, opposit, leader, deni, trea...   \n",
       "4      [kurdish, leader, barzani, condemn, iraqi, par...   \n",
       "...                                                  ...   \n",
       "44893  [food, stamp, rap, song, ebt, card, mani, way,...   \n",
       "44894  [nevertrump, gop, intellig, expert, launch, in...   \n",
       "44895  [taiwan, boost, defens, spend, us, concern, po...   \n",
       "44896              [islam, state, flag, fli, bosnia, pm]   \n",
       "44897  [us, labor, dept, nomine, puzder, withdraw, bl...   \n",
       "\n",
       "                                                    text          subject  \\\n",
       "0      [warsaw, reuter, , poland, alloc, addit, 200, ...        worldnews   \n",
       "1      [thank, intel, mooch, outsid, ambit, fundament...        left-news   \n",
       "2      [moscow, reuter, , russia, newli, instal, amba...     politicsNews   \n",
       "3      [phnom, penh, reuter, , cambodia, detain, oppo...        worldnews   \n",
       "4      [reuter, , kurdish, presid, massoud, barzani, ...        worldnews   \n",
       "...                                                  ...              ...   \n",
       "44893  [month, cost, fed, pay, food, stamp, sicken, t...  Government News   \n",
       "44894  [nevertrump, faction, gop, long, independ, con...             News   \n",
       "44895  [taipei, reuter, , taiwan, increas, futur, def...        worldnews   \n",
       "44896  [sarajevo, reuter, , islam, state, flag, fli, ...        worldnews   \n",
       "44897  [washington, reuter, , blow, presid, donald, t...     politicsNews   \n",
       "\n",
       "                      date label  \n",
       "0         August 23, 2017   true  \n",
       "1             Jan 27, 2016  fake  \n",
       "2       September 8, 2017   true  \n",
       "3         October 2, 2017   true  \n",
       "4      September 14, 2017   true  \n",
       "...                    ...   ...  \n",
       "44893         Dec 22, 2015  fake  \n",
       "44894       August 8, 2016  fake  \n",
       "44895    October 30, 2017   true  \n",
       "44896  September 12, 2017   true  \n",
       "44897   February 15, 2017   true  \n",
       "\n",
       "[44898 rows x 5 columns]"
      ]
     },
     "execution_count": 6,
     "metadata": {},
     "output_type": "execute_result"
    }
   ],
   "source": [
    "p1.df"
   ]
  },
  {
   "cell_type": "code",
   "execution_count": 7,
   "metadata": {},
   "outputs": [],
   "source": [
    "p1.tokenize_sentences()"
   ]
  },
  {
   "cell_type": "code",
   "execution_count": 8,
   "metadata": {},
   "outputs": [],
   "source": [
    "l, labs = tensorize_sentences(p1.df.text.apply(lambda sent: sent[:], p1.df.label)"
   ]
  },
  {
   "cell_type": "code",
   "execution_count": 9,
   "metadata": {},
   "outputs": [],
   "source": [
    "# l, labs = tensorize_sentences(p1.df.text.apply(lambda sent: sent[:100]), p1.df.label)"
   ]
  },
  {
   "cell_type": "code",
   "execution_count": 10,
   "metadata": {},
   "outputs": [],
   "source": [
    "from torch import nn\n",
    "from collections import OrderedDict\n",
    "\n",
    "class LinearBlock(nn.Module):\n",
    "    \n",
    "    def __init__(self, layer_sequence, add_relu=False):\n",
    "        super(LinearBlock, self).__init__()\n",
    "        num_layers = len(layer_sequence) - 1\n",
    "        layers = []\n",
    "        names = []\n",
    "        for i in range(num_layers):\n",
    "            layers.append(nn.Linear(in_features=layer_sequence[i],\n",
    "                                    out_features=layer_sequence[i + 1],\n",
    "                                    bias=False)\n",
    "                         )\n",
    "            names.append(f'fc{i + 1}')\n",
    "                \n",
    "            if add_relu and i != num_layers - 1:\n",
    "                layers.append(nn.ReLU())\n",
    "                names.append(f'relu{i + 1}')\n",
    "        \n",
    "        self.module_dict = OrderedDict(zip(names, layers))\n",
    "        self.block = nn.Sequential(self.module_dict)\n",
    "        \n",
    "    def forward(self, x):\n",
    "        out = self.block(x)\n",
    "        \n",
    "        return out\n",
    "\n",
    "class NewsNet(nn.Module):\n",
    "    \n",
    "    def __init__(self, vocab, hidden_size=10, embedding_dim=16, num_layers=2, pretrained_embeddings=None):\n",
    "        super(NewsNet, self).__init__()\n",
    "        self.hidden_size = hidden_size\n",
    "        self.embedding_dim = embedding_dim\n",
    "        self.num_layers = num_layers\n",
    "        self.word_embeddings = nn.Embedding(num_embeddings=len(vocab), embedding_dim=self.embedding_dim)\n",
    "        if pretrained_embeddings is not None:\n",
    "            self.word_embeddings.weight.data.copy_(pretrained_embeddings.weight.data)\n",
    "        self.lstm = nn.LSTM(input_size=self.embedding_dim, \n",
    "                            bias=False, \n",
    "                            hidden_size=self.hidden_size, \n",
    "                            batch_first=True,\n",
    "                            num_layers=self.num_layers)\n",
    "        self.linear_block = LinearBlock([self.hidden_size, self.hidden_size * 2, self.hidden_size, 1])\n",
    "        \n",
    "    def forward(self, s):\n",
    "        \n",
    "        out = self.word_embeddings(s)\n",
    "        sequence_out, (h, c) = self.lstm(out)\n",
    "        out = h[-1]\n",
    "        out = self.linear_block(out)\n",
    "        \n",
    "        return out"
   ]
  },
  {
   "cell_type": "code",
   "execution_count": 11,
   "metadata": {
    "scrolled": true
   },
   "outputs": [
    {
     "name": "stderr",
     "output_type": "stream",
     "text": [
      "  1%|          | 20/2806 [00:00<00:14, 196.02it/s]"
     ]
    },
    {
     "name": "stdout",
     "output_type": "stream",
     "text": [
      "Epoch 1\n"
     ]
    },
    {
     "name": "stderr",
     "output_type": "stream",
     "text": [
      "100%|██████████| 2806/2806 [00:12<00:00, 226.07it/s]\n",
      "  1%|          | 21/2806 [00:00<00:13, 209.27it/s]"
     ]
    },
    {
     "name": "stdout",
     "output_type": "stream",
     "text": [
      "Epoch 2\n"
     ]
    },
    {
     "name": "stderr",
     "output_type": "stream",
     "text": [
      "100%|██████████| 2806/2806 [00:12<00:00, 221.03it/s]\n",
      "  1%|          | 22/2806 [00:00<00:13, 211.39it/s]"
     ]
    },
    {
     "name": "stdout",
     "output_type": "stream",
     "text": [
      "Epoch 3\n"
     ]
    },
    {
     "name": "stderr",
     "output_type": "stream",
     "text": [
      "100%|██████████| 2806/2806 [00:12<00:00, 218.07it/s]\n",
      "  1%|          | 21/2806 [00:00<00:13, 202.59it/s]"
     ]
    },
    {
     "name": "stdout",
     "output_type": "stream",
     "text": [
      "Epoch 4\n"
     ]
    },
    {
     "name": "stderr",
     "output_type": "stream",
     "text": [
      "100%|██████████| 2806/2806 [00:13<00:00, 214.89it/s]\n",
      "  1%|          | 21/2806 [00:00<00:13, 202.05it/s]"
     ]
    },
    {
     "name": "stdout",
     "output_type": "stream",
     "text": [
      "Epoch 5\n"
     ]
    },
    {
     "name": "stderr",
     "output_type": "stream",
     "text": [
      "100%|██████████| 2806/2806 [00:13<00:00, 213.20it/s]\n",
      "  1%|          | 22/2806 [00:00<00:13, 212.75it/s]"
     ]
    },
    {
     "name": "stdout",
     "output_type": "stream",
     "text": [
      "Epoch 6\n"
     ]
    },
    {
     "name": "stderr",
     "output_type": "stream",
     "text": [
      "100%|██████████| 2806/2806 [00:13<00:00, 211.99it/s]\n",
      "  1%|          | 22/2806 [00:00<00:13, 212.70it/s]"
     ]
    },
    {
     "name": "stdout",
     "output_type": "stream",
     "text": [
      "Epoch 7\n"
     ]
    },
    {
     "name": "stderr",
     "output_type": "stream",
     "text": [
      "100%|██████████| 2806/2806 [00:13<00:00, 203.63it/s]\n",
      "  1%|          | 20/2806 [00:00<00:14, 194.10it/s]"
     ]
    },
    {
     "name": "stdout",
     "output_type": "stream",
     "text": [
      "Epoch 8\n"
     ]
    },
    {
     "name": "stderr",
     "output_type": "stream",
     "text": [
      "100%|██████████| 2806/2806 [00:13<00:00, 202.03it/s]\n",
      "  1%|          | 22/2806 [00:00<00:13, 213.67it/s]"
     ]
    },
    {
     "name": "stdout",
     "output_type": "stream",
     "text": [
      "Epoch 9\n"
     ]
    },
    {
     "name": "stderr",
     "output_type": "stream",
     "text": [
      "100%|██████████| 2806/2806 [00:13<00:00, 210.40it/s]\n",
      "  1%|          | 22/2806 [00:00<00:13, 212.60it/s]"
     ]
    },
    {
     "name": "stdout",
     "output_type": "stream",
     "text": [
      "Epoch 10\n"
     ]
    },
    {
     "name": "stderr",
     "output_type": "stream",
     "text": [
      "100%|██████████| 2806/2806 [00:13<00:00, 212.86it/s]\n",
      "  1%|          | 22/2806 [00:00<00:13, 212.15it/s]"
     ]
    },
    {
     "name": "stdout",
     "output_type": "stream",
     "text": [
      "Epoch 11\n"
     ]
    },
    {
     "name": "stderr",
     "output_type": "stream",
     "text": [
      "100%|██████████| 2806/2806 [00:13<00:00, 213.44it/s]\n",
      "  1%|          | 19/2806 [00:00<00:14, 186.81it/s]"
     ]
    },
    {
     "name": "stdout",
     "output_type": "stream",
     "text": [
      "Epoch 12\n"
     ]
    },
    {
     "name": "stderr",
     "output_type": "stream",
     "text": [
      "100%|██████████| 2806/2806 [00:13<00:00, 213.25it/s]\n",
      "  1%|          | 22/2806 [00:00<00:13, 211.23it/s]"
     ]
    },
    {
     "name": "stdout",
     "output_type": "stream",
     "text": [
      "Epoch 13\n"
     ]
    },
    {
     "name": "stderr",
     "output_type": "stream",
     "text": [
      "100%|██████████| 2806/2806 [00:13<00:00, 214.05it/s]\n",
      "  1%|          | 22/2806 [00:00<00:13, 214.12it/s]"
     ]
    },
    {
     "name": "stdout",
     "output_type": "stream",
     "text": [
      "Epoch 14\n"
     ]
    },
    {
     "name": "stderr",
     "output_type": "stream",
     "text": [
      "100%|██████████| 2806/2806 [00:13<00:00, 212.92it/s]\n",
      "  1%|          | 22/2806 [00:00<00:13, 212.39it/s]"
     ]
    },
    {
     "name": "stdout",
     "output_type": "stream",
     "text": [
      "Epoch 15\n"
     ]
    },
    {
     "name": "stderr",
     "output_type": "stream",
     "text": [
      "100%|██████████| 2806/2806 [00:13<00:00, 214.25it/s]\n",
      "  1%|          | 22/2806 [00:00<00:13, 213.80it/s]"
     ]
    },
    {
     "name": "stdout",
     "output_type": "stream",
     "text": [
      "Epoch 16\n"
     ]
    },
    {
     "name": "stderr",
     "output_type": "stream",
     "text": [
      "100%|██████████| 2806/2806 [00:13<00:00, 211.91it/s]\n",
      "  1%|          | 22/2806 [00:00<00:12, 215.58it/s]"
     ]
    },
    {
     "name": "stdout",
     "output_type": "stream",
     "text": [
      "Epoch 17\n"
     ]
    },
    {
     "name": "stderr",
     "output_type": "stream",
     "text": [
      "100%|██████████| 2806/2806 [00:13<00:00, 212.38it/s]\n",
      "  1%|          | 22/2806 [00:00<00:13, 211.75it/s]"
     ]
    },
    {
     "name": "stdout",
     "output_type": "stream",
     "text": [
      "Epoch 18\n"
     ]
    },
    {
     "name": "stderr",
     "output_type": "stream",
     "text": [
      "100%|██████████| 2806/2806 [00:13<00:00, 213.39it/s]\n",
      "  1%|          | 22/2806 [00:00<00:13, 209.75it/s]"
     ]
    },
    {
     "name": "stdout",
     "output_type": "stream",
     "text": [
      "Epoch 19\n"
     ]
    },
    {
     "name": "stderr",
     "output_type": "stream",
     "text": [
      "100%|██████████| 2806/2806 [00:13<00:00, 213.23it/s]\n",
      "  1%|          | 22/2806 [00:00<00:13, 212.22it/s]"
     ]
    },
    {
     "name": "stdout",
     "output_type": "stream",
     "text": [
      "Epoch 20\n"
     ]
    },
    {
     "name": "stderr",
     "output_type": "stream",
     "text": [
      "100%|██████████| 2806/2806 [00:13<00:00, 201.91it/s]\n",
      "  1%|          | 22/2806 [00:00<00:13, 212.85it/s]"
     ]
    },
    {
     "name": "stdout",
     "output_type": "stream",
     "text": [
      "Epoch 21\n"
     ]
    },
    {
     "name": "stderr",
     "output_type": "stream",
     "text": [
      "100%|██████████| 2806/2806 [00:13<00:00, 209.47it/s]\n",
      "  1%|          | 22/2806 [00:00<00:13, 211.32it/s]"
     ]
    },
    {
     "name": "stdout",
     "output_type": "stream",
     "text": [
      "Epoch 22\n"
     ]
    },
    {
     "name": "stderr",
     "output_type": "stream",
     "text": [
      "100%|██████████| 2806/2806 [00:13<00:00, 209.41it/s]\n",
      "  1%|          | 21/2806 [00:00<00:13, 208.76it/s]"
     ]
    },
    {
     "name": "stdout",
     "output_type": "stream",
     "text": [
      "Epoch 23\n"
     ]
    },
    {
     "name": "stderr",
     "output_type": "stream",
     "text": [
      "100%|██████████| 2806/2806 [00:13<00:00, 208.65it/s]\n",
      "  1%|          | 21/2806 [00:00<00:13, 206.74it/s]"
     ]
    },
    {
     "name": "stdout",
     "output_type": "stream",
     "text": [
      "Epoch 24\n"
     ]
    },
    {
     "name": "stderr",
     "output_type": "stream",
     "text": [
      "100%|██████████| 2806/2806 [00:13<00:00, 208.78it/s]\n",
      "  1%|          | 21/2806 [00:00<00:13, 206.88it/s]"
     ]
    },
    {
     "name": "stdout",
     "output_type": "stream",
     "text": [
      "Epoch 25\n"
     ]
    },
    {
     "name": "stderr",
     "output_type": "stream",
     "text": [
      "100%|██████████| 2806/2806 [00:13<00:00, 208.21it/s]\n",
      "  1%|          | 21/2806 [00:00<00:13, 208.34it/s]"
     ]
    },
    {
     "name": "stdout",
     "output_type": "stream",
     "text": [
      "Epoch 26\n"
     ]
    },
    {
     "name": "stderr",
     "output_type": "stream",
     "text": [
      "100%|██████████| 2806/2806 [00:13<00:00, 208.87it/s]\n",
      "  1%|▏         | 42/2806 [00:00<00:13, 206.53it/s]"
     ]
    },
    {
     "name": "stdout",
     "output_type": "stream",
     "text": [
      "Epoch 27\n"
     ]
    },
    {
     "name": "stderr",
     "output_type": "stream",
     "text": [
      "100%|██████████| 2806/2806 [00:13<00:00, 206.75it/s]\n",
      "  1%|          | 22/2806 [00:00<00:13, 210.63it/s]"
     ]
    },
    {
     "name": "stdout",
     "output_type": "stream",
     "text": [
      "Epoch 28\n"
     ]
    },
    {
     "name": "stderr",
     "output_type": "stream",
     "text": [
      "100%|██████████| 2806/2806 [00:13<00:00, 208.23it/s]\n",
      "  1%|          | 20/2806 [00:00<00:14, 194.91it/s]"
     ]
    },
    {
     "name": "stdout",
     "output_type": "stream",
     "text": [
      "Epoch 29\n"
     ]
    },
    {
     "name": "stderr",
     "output_type": "stream",
     "text": [
      "100%|██████████| 2806/2806 [00:13<00:00, 208.56it/s]\n",
      "  1%|          | 21/2806 [00:00<00:13, 206.57it/s]"
     ]
    },
    {
     "name": "stdout",
     "output_type": "stream",
     "text": [
      "Epoch 30\n"
     ]
    },
    {
     "name": "stderr",
     "output_type": "stream",
     "text": [
      "100%|██████████| 2806/2806 [00:13<00:00, 207.33it/s]\n",
      "  2%|▏         | 43/2806 [00:00<00:13, 209.39it/s]"
     ]
    },
    {
     "name": "stdout",
     "output_type": "stream",
     "text": [
      "Epoch 31\n"
     ]
    },
    {
     "name": "stderr",
     "output_type": "stream",
     "text": [
      "100%|██████████| 2806/2806 [00:13<00:00, 207.87it/s]\n",
      "  1%|          | 22/2806 [00:00<00:13, 209.89it/s]"
     ]
    },
    {
     "name": "stdout",
     "output_type": "stream",
     "text": [
      "Epoch 32\n"
     ]
    },
    {
     "name": "stderr",
     "output_type": "stream",
     "text": [
      "100%|██████████| 2806/2806 [00:13<00:00, 207.97it/s]\n",
      "  1%|          | 22/2806 [00:00<00:13, 210.11it/s]"
     ]
    },
    {
     "name": "stdout",
     "output_type": "stream",
     "text": [
      "Epoch 33\n"
     ]
    },
    {
     "name": "stderr",
     "output_type": "stream",
     "text": [
      "100%|██████████| 2806/2806 [00:13<00:00, 208.47it/s]\n",
      "  1%|▏         | 42/2806 [00:00<00:13, 206.95it/s]"
     ]
    },
    {
     "name": "stdout",
     "output_type": "stream",
     "text": [
      "Epoch 34\n"
     ]
    },
    {
     "name": "stderr",
     "output_type": "stream",
     "text": [
      "100%|██████████| 2806/2806 [00:13<00:00, 208.20it/s]\n",
      "  1%|▏         | 42/2806 [00:00<00:13, 205.78it/s]"
     ]
    },
    {
     "name": "stdout",
     "output_type": "stream",
     "text": [
      "Epoch 35\n"
     ]
    },
    {
     "name": "stderr",
     "output_type": "stream",
     "text": [
      "100%|██████████| 2806/2806 [00:13<00:00, 208.37it/s]\n",
      "  1%|▏         | 42/2806 [00:00<00:13, 207.54it/s]"
     ]
    },
    {
     "name": "stdout",
     "output_type": "stream",
     "text": [
      "Epoch 36\n"
     ]
    },
    {
     "name": "stderr",
     "output_type": "stream",
     "text": [
      "100%|██████████| 2806/2806 [00:13<00:00, 208.99it/s]\n",
      "  1%|▏         | 42/2806 [00:00<00:13, 206.71it/s]"
     ]
    },
    {
     "name": "stdout",
     "output_type": "stream",
     "text": [
      "Epoch 37\n"
     ]
    },
    {
     "name": "stderr",
     "output_type": "stream",
     "text": [
      "100%|██████████| 2806/2806 [00:13<00:00, 206.61it/s]\n",
      "  1%|▏         | 42/2806 [00:00<00:13, 206.01it/s]"
     ]
    },
    {
     "name": "stdout",
     "output_type": "stream",
     "text": [
      "Epoch 38\n"
     ]
    },
    {
     "name": "stderr",
     "output_type": "stream",
     "text": [
      "100%|██████████| 2806/2806 [00:13<00:00, 208.78it/s]\n",
      "  1%|▏         | 42/2806 [00:00<00:13, 208.31it/s]"
     ]
    },
    {
     "name": "stdout",
     "output_type": "stream",
     "text": [
      "Epoch 39\n"
     ]
    },
    {
     "name": "stderr",
     "output_type": "stream",
     "text": [
      "100%|██████████| 2806/2806 [00:13<00:00, 209.63it/s]\n",
      "  1%|▏         | 42/2806 [00:00<00:13, 207.40it/s]"
     ]
    },
    {
     "name": "stdout",
     "output_type": "stream",
     "text": [
      "Epoch 40\n"
     ]
    },
    {
     "name": "stderr",
     "output_type": "stream",
     "text": [
      "100%|██████████| 2806/2806 [00:13<00:00, 206.81it/s]\n",
      "  2%|▏         | 44/2806 [00:00<00:13, 210.65it/s]"
     ]
    },
    {
     "name": "stdout",
     "output_type": "stream",
     "text": [
      "Epoch 41\n"
     ]
    },
    {
     "name": "stderr",
     "output_type": "stream",
     "text": [
      "100%|██████████| 2806/2806 [00:13<00:00, 208.24it/s]\n",
      "  1%|▏         | 42/2806 [00:00<00:13, 207.36it/s]"
     ]
    },
    {
     "name": "stdout",
     "output_type": "stream",
     "text": [
      "Epoch 42\n"
     ]
    },
    {
     "name": "stderr",
     "output_type": "stream",
     "text": [
      "100%|██████████| 2806/2806 [00:13<00:00, 209.68it/s]\n",
      "  1%|          | 21/2806 [00:00<00:13, 208.76it/s]"
     ]
    },
    {
     "name": "stdout",
     "output_type": "stream",
     "text": [
      "Epoch 43\n"
     ]
    },
    {
     "name": "stderr",
     "output_type": "stream",
     "text": [
      "100%|██████████| 2806/2806 [00:13<00:00, 208.59it/s]\n",
      "  1%|▏         | 42/2806 [00:00<00:13, 208.14it/s]"
     ]
    },
    {
     "name": "stdout",
     "output_type": "stream",
     "text": [
      "Epoch 44\n"
     ]
    },
    {
     "name": "stderr",
     "output_type": "stream",
     "text": [
      "100%|██████████| 2806/2806 [00:13<00:00, 208.16it/s]\n",
      "  1%|▏         | 42/2806 [00:00<00:13, 208.38it/s]"
     ]
    },
    {
     "name": "stdout",
     "output_type": "stream",
     "text": [
      "Epoch 45\n"
     ]
    },
    {
     "name": "stderr",
     "output_type": "stream",
     "text": [
      "100%|██████████| 2806/2806 [00:13<00:00, 208.54it/s]\n",
      "  2%|▏         | 43/2806 [00:00<00:13, 209.17it/s]"
     ]
    },
    {
     "name": "stdout",
     "output_type": "stream",
     "text": [
      "Epoch 46\n"
     ]
    },
    {
     "name": "stderr",
     "output_type": "stream",
     "text": [
      "100%|██████████| 2806/2806 [00:15<00:00, 185.78it/s]\n",
      "  1%|          | 21/2806 [00:00<00:13, 202.02it/s]"
     ]
    },
    {
     "name": "stdout",
     "output_type": "stream",
     "text": [
      "Epoch 47\n"
     ]
    },
    {
     "name": "stderr",
     "output_type": "stream",
     "text": [
      "100%|██████████| 2806/2806 [00:14<00:00, 195.88it/s]\n",
      "  1%|          | 20/2806 [00:00<00:14, 196.36it/s]"
     ]
    },
    {
     "name": "stdout",
     "output_type": "stream",
     "text": [
      "Epoch 48\n"
     ]
    },
    {
     "name": "stderr",
     "output_type": "stream",
     "text": [
      "100%|██████████| 2806/2806 [00:14<00:00, 198.40it/s]\n",
      "  1%|          | 21/2806 [00:00<00:13, 202.24it/s]"
     ]
    },
    {
     "name": "stdout",
     "output_type": "stream",
     "text": [
      "Epoch 49\n"
     ]
    },
    {
     "name": "stderr",
     "output_type": "stream",
     "text": [
      "100%|██████████| 2806/2806 [00:14<00:00, 189.27it/s]\n",
      "  1%|          | 21/2806 [00:00<00:13, 205.57it/s]"
     ]
    },
    {
     "name": "stdout",
     "output_type": "stream",
     "text": [
      "Epoch 50\n"
     ]
    },
    {
     "name": "stderr",
     "output_type": "stream",
     "text": [
      "100%|██████████| 2806/2806 [00:13<00:00, 204.14it/s]\n"
     ]
    }
   ],
   "source": [
    "net = NewsNet(p1.vocab, hidden_size=4, embedding_dim=8, num_layers=2)\n",
    "loss_fn = nn.BCEWithLogitsLoss()\n",
    "optimizer = Adam(net.parameters(), lr=1e-4, weight_decay=5e-6)\n",
    "idx = len(l) // 4\n",
    "\n",
    "l_tr, labs_tr = l[:-2 * idx], labs[: -2 * idx]\n",
    "l_val, labs_val = l[-2 * idx:-idx], labs[-2 * idx:-idx]\n",
    "l_tst, labs_tst = l[-idx:], labs[-idx:]\n",
    "l_tr, l_val, labs_tr, labs_val = l[:idx], l[idx:], labs[:idx], labs[idx:]\n",
    "tr_set = NewsText(l_tr, labs_tr)\n",
    "val_set = NewsText(l_val, labs_val)\n",
    "_, val_set = enumerate(DataLoader(val_set, batch_size=len(val_set), collate_fn=collate_fn)).__next__()\n",
    "val_features, val_labels = val_set\n",
    "val_labels = val_labels.unsqueeze(-1).float()\n",
    "loader = DataLoader(tr_set, batch_size=4, collate_fn=collate_fn)\n",
    "loss_list = []\n",
    "val_loss_list = []\n",
    "accuracy_list = []\n",
    "epochs = 50\n",
    "for i in range(epochs):\n",
    "    print(f'Epoch {i + 1}')\n",
    "    for sents, labels in pbar(loader):\n",
    "        net.train()\n",
    "        labels = labels.float().unsqueeze(-1)\n",
    "        out = net(sents)\n",
    "        loss = loss_fn(out, labels)\n",
    "        optimizer.zero_grad()\n",
    "        loss.backward()\n",
    "        optimizer.step()\n",
    "        net.eval()\n",
    "    with torch.no_grad():\n",
    "        val_out = net(val_features)\n",
    "        val_loss = loss_fn(val_out, val_labels)\n",
    "        val_loss_list.append(val_loss.item())\n",
    "        val_guesses = torch.round(nn.Sigmoid()(val_out))\n",
    "        accuracy = (val_guesses == val_labels).float().mean().item()\n",
    "        \n",
    "        accuracy_list.append(accuracy)\n",
    "        \n",
    "    loss_list.append(loss.item())"
   ]
  },
  {
   "cell_type": "code",
   "execution_count": 12,
   "metadata": {
    "scrolled": true
   },
   "outputs": [
    {
     "data": {
      "text/plain": [
       "<matplotlib.legend.Legend at 0x7f9a22a25940>"
      ]
     },
     "execution_count": 12,
     "metadata": {},
     "output_type": "execute_result"
    },
    {
     "data": {
      "image/png": "[encoded data removed]",
      "text/plain": [
       "<Figure size 648x432 with 1 Axes>"
      ]
     },
     "metadata": {
      "needs_background": "light"
     },
     "output_type": "display_data"
    }
   ],
   "source": [
    "fig, ax = plt.subplots()\n",
    "pd.Series(loss_list).plot(ax=ax, label='Tr')\n",
    "pd.Series(val_loss_list).plot(ax=ax, label='Val')\n",
    "fig.set_size_inches(fig.get_size_inches() * 1.5)\n",
    "ax.legend()"
   ]
  },
  {
   "cell_type": "code",
   "execution_count": 13,
   "metadata": {},
   "outputs": [
    {
     "data": {
      "text/plain": [
       "<matplotlib.axes._subplots.AxesSubplot at 0x7f9a06fa0588>"
      ]
     },
     "execution_count": 13,
     "metadata": {},
     "output_type": "execute_result"
    },
    {
     "data": {
      "image/png": "[encoded data removed]",
      "text/plain": [
       "<Figure size 432x288 with 1 Axes>"
      ]
     },
     "metadata": {
      "needs_background": "light"
     },
     "output_type": "display_data"
    }
   ],
   "source": [
    "pd.Series(accuracy_list).plot()"
   ]
  },
  {
   "cell_type": "code",
   "execution_count": 14,
   "metadata": {},
   "outputs": [],
   "source": [
    "tst_set = NewsText(l_tst, labs_tst)\n",
    "_, tst_set = enumerate(DataLoader(tst_set, batch_size=len(tst_set), collate_fn=collate_fn)).__next__()\n",
    "tst_features, tst_labels = tst_set\n",
    "tst_labels = tst_labels.unsqueeze(-1).float()"
   ]
  },
  {
   "cell_type": "code",
   "execution_count": 15,
   "metadata": {},
   "outputs": [],
   "source": [
    "with torch.no_grad():\n",
    "    tst_out = net(tst_features)\n",
    "    tst_loss = loss_fn(tst_out, tst_labels)\n",
    "    tst_guesses = torch.round(nn.Sigmoid()(tst_out))\n",
    "    accuracy_tst = (tst_guesses == tst_labels).float().mean().item()"
   ]
  },
  {
   "cell_type": "code",
   "execution_count": 16,
   "metadata": {},
   "outputs": [
    {
     "data": {
      "text/plain": [
       "0.897719144821167"
      ]
     },
     "execution_count": 16,
     "metadata": {},
     "output_type": "execute_result"
    }
   ],
   "source": [
    "accuracy_tst"
   ]
  },
  {
   "cell_type": "code",
   "execution_count": 23,
   "metadata": {
    "scrolled": true
   },
   "outputs": [
    {
     "name": "stderr",
     "output_type": "stream",
     "text": [
      "  1%|▏         | 41/2806 [00:00<00:14, 197.00it/s]"
     ]
    },
    {
     "name": "stdout",
     "output_type": "stream",
     "text": [
      "Epoch 1\n"
     ]
    },
    {
     "name": "stderr",
     "output_type": "stream",
     "text": [
      "100%|██████████| 2806/2806 [00:13<00:00, 210.38it/s]\n",
      "  1%|          | 21/2806 [00:00<00:13, 204.99it/s]"
     ]
    },
    {
     "name": "stdout",
     "output_type": "stream",
     "text": [
      "Epoch 2\n"
     ]
    },
    {
     "name": "stderr",
     "output_type": "stream",
     "text": [
      "100%|██████████| 2806/2806 [00:13<00:00, 211.05it/s]\n",
      "  1%|          | 20/2806 [00:00<00:14, 197.26it/s]"
     ]
    },
    {
     "name": "stdout",
     "output_type": "stream",
     "text": [
      "Epoch 3\n"
     ]
    },
    {
     "name": "stderr",
     "output_type": "stream",
     "text": [
      "100%|██████████| 2806/2806 [00:14<00:00, 198.95it/s]\n",
      "  1%|          | 20/2806 [00:00<00:14, 192.74it/s]"
     ]
    },
    {
     "name": "stdout",
     "output_type": "stream",
     "text": [
      "Epoch 4\n"
     ]
    },
    {
     "name": "stderr",
     "output_type": "stream",
     "text": [
      "100%|██████████| 2806/2806 [00:14<00:00, 198.24it/s]\n",
      "  1%|          | 18/2806 [00:00<00:16, 171.02it/s]"
     ]
    },
    {
     "name": "stdout",
     "output_type": "stream",
     "text": [
      "Epoch 5\n"
     ]
    },
    {
     "name": "stderr",
     "output_type": "stream",
     "text": [
      "100%|██████████| 2806/2806 [00:14<00:00, 199.54it/s]\n",
      "  1%|          | 21/2806 [00:00<00:13, 208.14it/s]"
     ]
    },
    {
     "name": "stdout",
     "output_type": "stream",
     "text": [
      "Epoch 6\n"
     ]
    },
    {
     "name": "stderr",
     "output_type": "stream",
     "text": [
      "100%|██████████| 2806/2806 [00:13<00:00, 205.67it/s]\n",
      "  1%|          | 22/2806 [00:00<00:13, 212.31it/s]"
     ]
    },
    {
     "name": "stdout",
     "output_type": "stream",
     "text": [
      "Epoch 7\n"
     ]
    },
    {
     "name": "stderr",
     "output_type": "stream",
     "text": [
      "100%|██████████| 2806/2806 [00:13<00:00, 207.89it/s]\n",
      "  1%|          | 22/2806 [00:00<00:13, 212.24it/s]"
     ]
    },
    {
     "name": "stdout",
     "output_type": "stream",
     "text": [
      "Epoch 8\n"
     ]
    },
    {
     "name": "stderr",
     "output_type": "stream",
     "text": [
      "100%|██████████| 2806/2806 [00:13<00:00, 202.25it/s]\n",
      "  1%|          | 22/2806 [00:00<00:12, 214.58it/s]"
     ]
    },
    {
     "name": "stdout",
     "output_type": "stream",
     "text": [
      "Epoch 9\n"
     ]
    },
    {
     "name": "stderr",
     "output_type": "stream",
     "text": [
      "100%|██████████| 2806/2806 [00:14<00:00, 199.88it/s]\n",
      "  1%|          | 21/2806 [00:00<00:13, 209.24it/s]"
     ]
    },
    {
     "name": "stdout",
     "output_type": "stream",
     "text": [
      "Epoch 10\n"
     ]
    },
    {
     "name": "stderr",
     "output_type": "stream",
     "text": [
      "100%|██████████| 2806/2806 [00:13<00:00, 202.77it/s]\n",
      "  1%|          | 22/2806 [00:00<00:13, 210.22it/s]"
     ]
    },
    {
     "name": "stdout",
     "output_type": "stream",
     "text": [
      "Epoch 11\n"
     ]
    },
    {
     "name": "stderr",
     "output_type": "stream",
     "text": [
      "100%|██████████| 2806/2806 [00:13<00:00, 205.03it/s]\n",
      "  1%|          | 22/2806 [00:00<00:13, 212.57it/s]"
     ]
    },
    {
     "name": "stdout",
     "output_type": "stream",
     "text": [
      "Epoch 12\n"
     ]
    },
    {
     "name": "stderr",
     "output_type": "stream",
     "text": [
      "100%|██████████| 2806/2806 [00:16<00:00, 173.68it/s]\n",
      "  1%|          | 20/2806 [00:00<00:14, 196.50it/s]"
     ]
    },
    {
     "name": "stdout",
     "output_type": "stream",
     "text": [
      "Epoch 13\n"
     ]
    },
    {
     "name": "stderr",
     "output_type": "stream",
     "text": [
      "100%|██████████| 2806/2806 [00:16<00:00, 172.10it/s]\n",
      "  1%|          | 21/2806 [00:00<00:13, 209.32it/s]"
     ]
    },
    {
     "name": "stdout",
     "output_type": "stream",
     "text": [
      "Epoch 14\n"
     ]
    },
    {
     "name": "stderr",
     "output_type": "stream",
     "text": [
      "100%|██████████| 2806/2806 [00:15<00:00, 177.09it/s]\n",
      "  1%|          | 20/2806 [00:00<00:14, 195.95it/s]"
     ]
    },
    {
     "name": "stdout",
     "output_type": "stream",
     "text": [
      "Epoch 15\n"
     ]
    },
    {
     "name": "stderr",
     "output_type": "stream",
     "text": [
      "100%|██████████| 2806/2806 [00:16<00:00, 166.80it/s]\n",
      "  1%|          | 21/2806 [00:00<00:13, 204.45it/s]"
     ]
    },
    {
     "name": "stdout",
     "output_type": "stream",
     "text": [
      "Epoch 16\n"
     ]
    },
    {
     "name": "stderr",
     "output_type": "stream",
     "text": [
      "100%|██████████| 2806/2806 [00:14<00:00, 192.82it/s]\n",
      "  1%|          | 22/2806 [00:00<00:12, 214.16it/s]"
     ]
    },
    {
     "name": "stdout",
     "output_type": "stream",
     "text": [
      "Epoch 17\n"
     ]
    },
    {
     "name": "stderr",
     "output_type": "stream",
     "text": [
      "100%|██████████| 2806/2806 [00:13<00:00, 205.31it/s]\n",
      "  1%|          | 21/2806 [00:00<00:14, 195.06it/s]"
     ]
    },
    {
     "name": "stdout",
     "output_type": "stream",
     "text": [
      "Epoch 18\n"
     ]
    },
    {
     "name": "stderr",
     "output_type": "stream",
     "text": [
      "100%|██████████| 2806/2806 [00:13<00:00, 202.22it/s]\n",
      "  1%|          | 20/2806 [00:00<00:14, 191.74it/s]"
     ]
    },
    {
     "name": "stdout",
     "output_type": "stream",
     "text": [
      "Epoch 19\n"
     ]
    },
    {
     "name": "stderr",
     "output_type": "stream",
     "text": [
      "100%|██████████| 2806/2806 [00:13<00:00, 202.59it/s]\n",
      "  1%|          | 19/2806 [00:00<00:14, 189.02it/s]"
     ]
    },
    {
     "name": "stdout",
     "output_type": "stream",
     "text": [
      "Epoch 20\n"
     ]
    },
    {
     "name": "stderr",
     "output_type": "stream",
     "text": [
      "100%|██████████| 2806/2806 [00:15<00:00, 176.02it/s]\n",
      "  1%|          | 17/2806 [00:00<00:16, 168.91it/s]"
     ]
    },
    {
     "name": "stdout",
     "output_type": "stream",
     "text": [
      "Epoch 21\n"
     ]
    },
    {
     "name": "stderr",
     "output_type": "stream",
     "text": [
      "100%|██████████| 2806/2806 [00:16<00:00, 170.29it/s]\n",
      "  1%|          | 20/2806 [00:00<00:14, 194.52it/s]"
     ]
    },
    {
     "name": "stdout",
     "output_type": "stream",
     "text": [
      "Epoch 22\n"
     ]
    },
    {
     "name": "stderr",
     "output_type": "stream",
     "text": [
      "100%|██████████| 2806/2806 [00:15<00:00, 185.85it/s]\n",
      "  1%|          | 21/2806 [00:00<00:13, 208.07it/s]"
     ]
    },
    {
     "name": "stdout",
     "output_type": "stream",
     "text": [
      "Epoch 23\n"
     ]
    },
    {
     "name": "stderr",
     "output_type": "stream",
     "text": [
      "100%|██████████| 2806/2806 [00:14<00:00, 197.04it/s]\n",
      "  1%|          | 20/2806 [00:00<00:14, 190.34it/s]"
     ]
    },
    {
     "name": "stdout",
     "output_type": "stream",
     "text": [
      "Epoch 24\n"
     ]
    },
    {
     "name": "stderr",
     "output_type": "stream",
     "text": [
      "100%|██████████| 2806/2806 [00:14<00:00, 187.54it/s]\n",
      "  1%|          | 22/2806 [00:00<00:13, 210.51it/s]"
     ]
    },
    {
     "name": "stdout",
     "output_type": "stream",
     "text": [
      "Epoch 25\n"
     ]
    },
    {
     "name": "stderr",
     "output_type": "stream",
     "text": [
      "100%|██████████| 2806/2806 [00:14<00:00, 194.29it/s]\n",
      "  1%|          | 20/2806 [00:00<00:14, 197.09it/s]"
     ]
    },
    {
     "name": "stdout",
     "output_type": "stream",
     "text": [
      "Epoch 26\n"
     ]
    },
    {
     "name": "stderr",
     "output_type": "stream",
     "text": [
      "100%|██████████| 2806/2806 [00:15<00:00, 182.74it/s]\n",
      "  1%|          | 20/2806 [00:00<00:14, 193.55it/s]"
     ]
    },
    {
     "name": "stdout",
     "output_type": "stream",
     "text": [
      "Epoch 27\n"
     ]
    },
    {
     "name": "stderr",
     "output_type": "stream",
     "text": [
      "100%|██████████| 2806/2806 [00:16<00:00, 173.25it/s]\n",
      "  1%|          | 19/2806 [00:00<00:14, 189.01it/s]"
     ]
    },
    {
     "name": "stdout",
     "output_type": "stream",
     "text": [
      "Epoch 28\n"
     ]
    },
    {
     "name": "stderr",
     "output_type": "stream",
     "text": [
      "100%|██████████| 2806/2806 [00:16<00:00, 170.35it/s]\n",
      "  1%|          | 18/2806 [00:00<00:15, 176.45it/s]"
     ]
    },
    {
     "name": "stdout",
     "output_type": "stream",
     "text": [
      "Epoch 29\n"
     ]
    },
    {
     "name": "stderr",
     "output_type": "stream",
     "text": [
      "100%|██████████| 2806/2806 [00:15<00:00, 179.34it/s]\n",
      "  1%|          | 19/2806 [00:00<00:14, 188.07it/s]"
     ]
    },
    {
     "name": "stdout",
     "output_type": "stream",
     "text": [
      "Epoch 30\n"
     ]
    },
    {
     "name": "stderr",
     "output_type": "stream",
     "text": [
      "100%|██████████| 2806/2806 [00:17<00:00, 164.92it/s]\n",
      "  1%|          | 20/2806 [00:00<00:14, 196.58it/s]"
     ]
    },
    {
     "name": "stdout",
     "output_type": "stream",
     "text": [
      "Epoch 31\n"
     ]
    },
    {
     "name": "stderr",
     "output_type": "stream",
     "text": [
      "100%|██████████| 2806/2806 [00:16<00:00, 171.02it/s]\n",
      "  1%|          | 20/2806 [00:00<00:14, 198.38it/s]"
     ]
    },
    {
     "name": "stdout",
     "output_type": "stream",
     "text": [
      "Epoch 32\n"
     ]
    },
    {
     "name": "stderr",
     "output_type": "stream",
     "text": [
      "100%|██████████| 2806/2806 [00:16<00:00, 166.81it/s]\n",
      "  1%|          | 19/2806 [00:00<00:14, 189.78it/s]"
     ]
    },
    {
     "name": "stdout",
     "output_type": "stream",
     "text": [
      "Epoch 33\n"
     ]
    },
    {
     "name": "stderr",
     "output_type": "stream",
     "text": [
      "100%|██████████| 2806/2806 [00:14<00:00, 196.65it/s]\n",
      "  1%|          | 22/2806 [00:00<00:13, 212.82it/s]"
     ]
    },
    {
     "name": "stdout",
     "output_type": "stream",
     "text": [
      "Epoch 34\n"
     ]
    },
    {
     "name": "stderr",
     "output_type": "stream",
     "text": [
      "100%|██████████| 2806/2806 [00:14<00:00, 199.92it/s]\n",
      "  1%|          | 22/2806 [00:00<00:13, 210.05it/s]"
     ]
    },
    {
     "name": "stdout",
     "output_type": "stream",
     "text": [
      "Epoch 35\n"
     ]
    },
    {
     "name": "stderr",
     "output_type": "stream",
     "text": [
      "100%|██████████| 2806/2806 [00:13<00:00, 204.05it/s]\n",
      "  1%|          | 22/2806 [00:00<00:13, 211.17it/s]"
     ]
    },
    {
     "name": "stdout",
     "output_type": "stream",
     "text": [
      "Epoch 36\n"
     ]
    },
    {
     "name": "stderr",
     "output_type": "stream",
     "text": [
      "100%|██████████| 2806/2806 [00:13<00:00, 204.87it/s]\n",
      "  1%|          | 22/2806 [00:00<00:13, 210.66it/s]"
     ]
    },
    {
     "name": "stdout",
     "output_type": "stream",
     "text": [
      "Epoch 37\n"
     ]
    },
    {
     "name": "stderr",
     "output_type": "stream",
     "text": [
      "100%|██████████| 2806/2806 [00:13<00:00, 209.71it/s]\n",
      "  2%|▏         | 43/2806 [00:00<00:13, 212.30it/s]"
     ]
    },
    {
     "name": "stdout",
     "output_type": "stream",
     "text": [
      "Epoch 38\n"
     ]
    },
    {
     "name": "stderr",
     "output_type": "stream",
     "text": [
      "100%|██████████| 2806/2806 [00:13<00:00, 211.37it/s]\n",
      "  1%|          | 22/2806 [00:00<00:13, 212.37it/s]"
     ]
    },
    {
     "name": "stdout",
     "output_type": "stream",
     "text": [
      "Epoch 39\n"
     ]
    },
    {
     "name": "stderr",
     "output_type": "stream",
     "text": [
      "100%|██████████| 2806/2806 [00:13<00:00, 210.19it/s]\n",
      "  1%|          | 22/2806 [00:00<00:13, 210.09it/s]"
     ]
    },
    {
     "name": "stdout",
     "output_type": "stream",
     "text": [
      "Epoch 40\n"
     ]
    },
    {
     "name": "stderr",
     "output_type": "stream",
     "text": [
      "100%|██████████| 2806/2806 [00:13<00:00, 201.79it/s]\n"
     ]
    }
   ],
   "source": [
    "pretrained_embeddings = net.word_embeddings\n",
    "net2 = NewsNet(p1.vocab, hidden_size=4, embedding_dim=8, num_layers=2, pretrained_embeddings=pretrained_embeddings)\n",
    "loss_fn = nn.BCEWithLogitsLoss()\n",
    "optimizer = Adam(net2.parameters(), lr=1e-4, weight_decay=5e-6)\n",
    "idx = len(l) // 4\n",
    "\n",
    "l_tr, labs_tr = l[:-2 * idx], labs[: -2 * idx]\n",
    "l_val, labs_val = l[-2 * idx:-idx], labs[-2 * idx:-idx]\n",
    "l_tst, labs_tst = l[-idx:], labs[-idx:]\n",
    "l_tr, l_val, labs_tr, labs_val = l[:idx], l[idx:], labs[:idx], labs[idx:]\n",
    "tr_set = NewsText(l_tr, labs_tr)\n",
    "val_set = NewsText(l_val, labs_val)\n",
    "_, val_set = enumerate(DataLoader(val_set, batch_size=len(val_set), collate_fn=collate_fn)).__next__()\n",
    "val_features, val_labels = val_set\n",
    "val_labels = val_labels.unsqueeze(-1).float()\n",
    "loader = DataLoader(tr_set, batch_size=4, collate_fn=collate_fn)\n",
    "loss_list = []\n",
    "val_loss_list = []\n",
    "accuracy_list = []\n",
    "epochs = 40\n",
    "for i in range(epochs):\n",
    "    print(f'Epoch {i + 1}')\n",
    "    for sents, labels in pbar(loader):\n",
    "        net2.train()\n",
    "        labels = labels.float().unsqueeze(-1)\n",
    "        out = net2(sents)\n",
    "        loss = loss_fn(out, labels)\n",
    "        optimizer.zero_grad()\n",
    "        loss.backward()\n",
    "        optimizer.step()\n",
    "        net2.eval()\n",
    "    with torch.no_grad():\n",
    "        val_out = net2(val_features)\n",
    "        val_loss = loss_fn(val_out, val_labels)\n",
    "        val_loss_list.append(val_loss.item())\n",
    "        val_guesses = torch.round(nn.Sigmoid()(val_out))\n",
    "        accuracy = (val_guesses == val_labels).float().mean().item()\n",
    "        \n",
    "        accuracy_list.append(accuracy)\n",
    "        \n",
    "    loss_list.append(loss.item())"
   ]
  },
  {
   "cell_type": "code",
   "execution_count": 24,
   "metadata": {},
   "outputs": [
    {
     "data": {
      "text/plain": [
       "<matplotlib.legend.Legend at 0x7f9a02611908>"
      ]
     },
     "execution_count": 24,
     "metadata": {},
     "output_type": "execute_result"
    },
    {
     "data": {
      "image/png": "[encoded data removed]",
      "text/plain": [
       "<Figure size 648x432 with 1 Axes>"
      ]
     },
     "metadata": {
      "needs_background": "light"
     },
     "output_type": "display_data"
    }
   ],
   "source": [
    "fig, ax = plt.subplots()\n",
    "pd.Series(loss_list).plot(ax=ax, label='Tr')\n",
    "pd.Series(val_loss_list).plot(ax=ax, label='Val')\n",
    "fig.set_size_inches(fig.get_size_inches() * 1.5)\n",
    "ax.legend()"
   ]
  },
  {
   "cell_type": "code",
   "execution_count": 25,
   "metadata": {},
   "outputs": [
    {
     "data": {
      "text/plain": [
       "<matplotlib.axes._subplots.AxesSubplot at 0x7f9a0252d748>"
      ]
     },
     "execution_count": 25,
     "metadata": {},
     "output_type": "execute_result"
    },
    {
     "data": {
      "image/png": "[encoded data removed]",
      "text/plain": [
       "<Figure size 432x288 with 1 Axes>"
      ]
     },
     "metadata": {
      "needs_background": "light"
     },
     "output_type": "display_data"
    }
   ],
   "source": [
    "pd.Series(accuracy_list).plot()"
   ]
  },
  {
   "cell_type": "code",
   "execution_count": 30,
   "metadata": {},
   "outputs": [
    {
     "data": {
      "text/plain": [
       "[0.8024015426635742,\n",
       " 0.574191689491272,\n",
       " 0.5530876517295837,\n",
       " 0.4602629840373993,\n",
       " 0.3656991422176361,\n",
       " 0.302175909280777,\n",
       " 0.27294689416885376,\n",
       " 0.25965043902397156,\n",
       " 0.2518690526485443,\n",
       " 0.24840833246707916,\n",
       " 0.24770767986774445,\n",
       " 0.24836556613445282,\n",
       " 0.2497565746307373,\n",
       " 0.25183776021003723,\n",
       " 0.2547251880168915,\n",
       " 0.2583865523338318,\n",
       " 0.26258912682533264,\n",
       " 0.2670474648475647,\n",
       " 0.27153897285461426,\n",
       " 0.27592208981513977,\n",
       " 0.28010058403015137,\n",
       " 0.2840051054954529,\n",
       " 0.2875882089138031,\n",
       " 0.2908357083797455,\n",
       " 0.2937568426132202,\n",
       " 0.29638198018074036,\n",
       " 0.29874739050865173,\n",
       " 0.3008817136287689,\n",
       " 0.3028077185153961,\n",
       " 0.30451488494873047,\n",
       " 0.30597713589668274,\n",
       " 0.30715814232826233,\n",
       " 0.3080240786075592,\n",
       " 0.30855125188827515,\n",
       " 0.3087382912635803,\n",
       " 0.3086185157299042,\n",
       " 0.3082343339920044,\n",
       " 0.3076380789279938,\n",
       " 0.3068894147872925,\n",
       " 0.3060851991176605]"
      ]
     },
     "execution_count": 30,
     "metadata": {},
     "output_type": "execute_result"
    }
   ],
   "source": [
    "val_loss_list"
   ]
  },
  {
   "cell_type": "code",
   "execution_count": 26,
   "metadata": {},
   "outputs": [],
   "source": [
    "tst_set = NewsText(l_tst, labs_tst)\n",
    "_, tst_set = enumerate(DataLoader(tst_set, batch_size=len(tst_set), collate_fn=collate_fn)).__next__()\n",
    "tst_features, tst_labels = tst_set\n",
    "tst_labels = tst_labels.unsqueeze(-1).float()"
   ]
  },
  {
   "cell_type": "code",
   "execution_count": 27,
   "metadata": {},
   "outputs": [],
   "source": [
    "with torch.no_grad():\n",
    "    tst_out = net2(tst_features)\n",
    "    tst_loss = loss_fn(tst_out, tst_labels)\n",
    "    tst_guesses = torch.round(nn.Sigmoid()(tst_out))\n",
    "    accuracy_tst = (tst_guesses == tst_labels).float().mean().item()"
   ]
  },
  {
   "cell_type": "code",
   "execution_count": 28,
   "metadata": {},
   "outputs": [
    {
     "data": {
      "text/plain": [
       "0.9081432819366455"
      ]
     },
     "execution_count": 28,
     "metadata": {},
     "output_type": "execute_result"
    }
   ],
   "source": [
    "accuracy_tst"
   ]
  },
  {
   "cell_type": "code",
   "execution_count": null,
   "metadata": {},
   "outputs": [],
   "source": []
  }
 ],
 "metadata": {
  "kernelspec": {
   "display_name": "news",
   "language": "python",
   "name": "news"
  },
  "language_info": {
   "codemirror_mode": {
    "name": "ipython",
    "version": 3
   },
   "file_extension": ".py",
   "mimetype": "text/x-python",
   "name": "python",
   "nbconvert_exporter": "python",
   "pygments_lexer": "ipython3",
   "version": "3.6.10"
  }
 },
 "nbformat": 4,
 "nbformat_minor": 4
}
