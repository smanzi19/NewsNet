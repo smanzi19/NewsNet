{
 "cells": [
  {
   "cell_type": "code",
   "execution_count": 1,
   "metadata": {},
   "outputs": [],
   "source": [
    "import pandas as pd\n",
    "from nltk import WhitespaceTokenizer\n",
    "from nltk.corpus import stopwords, words, wordnet\n",
    "from nltk.lm import Vocabulary\n",
    "from collections import OrderedDict\n",
    "import numpy as np\n",
    "import torch\n",
    "from torch import nn\n",
    "import concurrent.futures\n",
    "from torch.optim import Adam\n",
    "from data_loading import process_text_df, NewsText, tensorize_sentences, collate_fn\n",
    "from tqdm import tqdm as pbar\n",
    "from models import NewsNet\n",
    "import matplotlib.pyplot as plt\n",
    "from torch.utils.data import Dataset, DataLoader\n",
    "from torch import tensor\n",
    "import matplotlib.pyplot as plt\n",
    "import tqdm\n",
    "stopwords = stopwords.words()\n",
    "words = words.words() \n",
    "wordnet = wordnet.words()"
   ]
  },
  {
   "cell_type": "code",
   "execution_count": 2,
   "metadata": {},
   "outputs": [],
   "source": [
    "fake, true = pd.read_csv('Fake.csv'), pd.read_csv('True.csv')\n",
    "fake['label'] = 'fake'\n",
    "true['label'] = 'true'\n",
    "news = pd.concat((fake, true))\n",
    "news = news.sample(frac=1)\n",
    "news.reset_index(inplace=True, drop=True)"
   ]
  },
  {
   "cell_type": "code",
   "execution_count": null,
   "metadata": {},
   "outputs": [],
   "source": []
  },
  {
   "cell_type": "code",
   "execution_count": 3,
   "metadata": {},
   "outputs": [],
   "source": [
    "p1 = process_text_df(news, ['title', 'text'])"
   ]
  },
  {
   "cell_type": "code",
   "execution_count": 4,
   "metadata": {},
   "outputs": [
    {
     "name": "stdout",
     "output_type": "stream",
     "text": [
      "CPU times: user 2.82 s, sys: 1.24 s, total: 4.06 s\n",
      "Wall time: 4min 35s\n"
     ]
    }
   ],
   "source": [
    "%%time\n",
    "p1.process_text_col()"
   ]
  },
  {
   "cell_type": "code",
   "execution_count": 5,
   "metadata": {},
   "outputs": [
    {
     "data": {
      "text/html": [
       "<div>\n",
       "<style scoped>\n",
       "    .dataframe tbody tr th:only-of-type {\n",
       "        vertical-align: middle;\n",
       "    }\n",
       "\n",
       "    .dataframe tbody tr th {\n",
       "        vertical-align: top;\n",
       "    }\n",
       "\n",
       "    .dataframe thead th {\n",
       "        text-align: right;\n",
       "    }\n",
       "</style>\n",
       "<table border=\"1\" class=\"dataframe\">\n",
       "  <thead>\n",
       "    <tr style=\"text-align: right;\">\n",
       "      <th></th>\n",
       "      <th>title</th>\n",
       "      <th>text</th>\n",
       "      <th>subject</th>\n",
       "      <th>date</th>\n",
       "      <th>label</th>\n",
       "    </tr>\n",
       "  </thead>\n",
       "  <tbody>\n",
       "    <tr>\n",
       "      <th>0</th>\n",
       "      <td>[break, trump, taj, mahal, shut, down, thousan...</td>\n",
       "      <td>[donald, trump, call, atlant, citi, casino, fo...</td>\n",
       "      <td>News</td>\n",
       "      <td>October 10, 2016</td>\n",
       "      <td>fake</td>\n",
       "    </tr>\n",
       "    <tr>\n",
       "      <th>1</th>\n",
       "      <td>[triumphant, bosnian, serb, command, mladic, r...</td>\n",
       "      <td>[sarajevo, reuter, , 1990s, bur, brash, genera...</td>\n",
       "      <td>worldnews</td>\n",
       "      <td>November 21, 2017</td>\n",
       "      <td>true</td>\n",
       "    </tr>\n",
       "    <tr>\n",
       "      <th>2</th>\n",
       "      <td>[senat, mccain, say, concern, tillerson, nomin]</td>\n",
       "      <td>[vilnius, reuter, , us, presidentelect, donald...</td>\n",
       "      <td>politicsNews</td>\n",
       "      <td>December 29, 2016</td>\n",
       "      <td>true</td>\n",
       "    </tr>\n",
       "    <tr>\n",
       "      <th>3</th>\n",
       "      <td>[racist, explod, death, bundi, milit, blame, j...</td>\n",
       "      <td>[tuesday, night, fbi, final, stop, treat, oreg...</td>\n",
       "      <td>News</td>\n",
       "      <td>January 27, 2016</td>\n",
       "      <td>fake</td>\n",
       "    </tr>\n",
       "    <tr>\n",
       "      <th>4</th>\n",
       "      <td>[cnn, caught, lie, again, time, peac, protest,...</td>\n",
       "      <td>[cnn, fals, tweet, saturday, morn, peac, prote...</td>\n",
       "      <td>left-news</td>\n",
       "      <td>Jul 9, 2017</td>\n",
       "      <td>fake</td>\n",
       "    </tr>\n",
       "    <tr>\n",
       "      <th>...</th>\n",
       "      <td>...</td>\n",
       "      <td>...</td>\n",
       "      <td>...</td>\n",
       "      <td>...</td>\n",
       "      <td>...</td>\n",
       "    </tr>\n",
       "    <tr>\n",
       "      <th>44893</th>\n",
       "      <td>[turkish, plane, investig, copenhagen, airport...</td>\n",
       "      <td>[copenhagen, reuter, , danish, polic, investig...</td>\n",
       "      <td>worldnews</td>\n",
       "      <td>November 13, 2017</td>\n",
       "      <td>true</td>\n",
       "    </tr>\n",
       "    <tr>\n",
       "      <th>44894</th>\n",
       "      <td>[comey, confirm, trump, pressur, flynn, invest...</td>\n",
       "      <td>[washington, reuter, , former, fbi, director, ...</td>\n",
       "      <td>politicsNews</td>\n",
       "      <td>May 31, 2017</td>\n",
       "      <td>true</td>\n",
       "    </tr>\n",
       "    <tr>\n",
       "      <th>44895</th>\n",
       "      <td>[venezuela, un, envoy, say, push, maduro]</td>\n",
       "      <td>[caracashouston, reuter, , venezuela, power, f...</td>\n",
       "      <td>worldnews</td>\n",
       "      <td>December 5, 2017</td>\n",
       "      <td>true</td>\n",
       "    </tr>\n",
       "    <tr>\n",
       "      <th>44896</th>\n",
       "      <td>[harri, reid, torch, fbi, director, comey, i, ...</td>\n",
       "      <td>[senat, minor, leader, harri, reid, dnv, wrote...</td>\n",
       "      <td>News</td>\n",
       "      <td>October 30, 2016</td>\n",
       "      <td>fake</td>\n",
       "    </tr>\n",
       "    <tr>\n",
       "      <th>44897</th>\n",
       "      <td>[munich, memori, mark, 1972, olymp, game, atta...</td>\n",
       "      <td>[munich, germani, reuter, , victim, attack, is...</td>\n",
       "      <td>worldnews</td>\n",
       "      <td>September 6, 2017</td>\n",
       "      <td>true</td>\n",
       "    </tr>\n",
       "  </tbody>\n",
       "</table>\n",
       "<p>44898 rows × 5 columns</p>\n",
       "</div>"
      ],
      "text/plain": [
       "                                                   title  \\\n",
       "0      [break, trump, taj, mahal, shut, down, thousan...   \n",
       "1      [triumphant, bosnian, serb, command, mladic, r...   \n",
       "2        [senat, mccain, say, concern, tillerson, nomin]   \n",
       "3      [racist, explod, death, bundi, milit, blame, j...   \n",
       "4      [cnn, caught, lie, again, time, peac, protest,...   \n",
       "...                                                  ...   \n",
       "44893  [turkish, plane, investig, copenhagen, airport...   \n",
       "44894  [comey, confirm, trump, pressur, flynn, invest...   \n",
       "44895          [venezuela, un, envoy, say, push, maduro]   \n",
       "44896  [harri, reid, torch, fbi, director, comey, i, ...   \n",
       "44897  [munich, memori, mark, 1972, olymp, game, atta...   \n",
       "\n",
       "                                                    text       subject  \\\n",
       "0      [donald, trump, call, atlant, citi, casino, fo...          News   \n",
       "1      [sarajevo, reuter, , 1990s, bur, brash, genera...     worldnews   \n",
       "2      [vilnius, reuter, , us, presidentelect, donald...  politicsNews   \n",
       "3      [tuesday, night, fbi, final, stop, treat, oreg...          News   \n",
       "4      [cnn, fals, tweet, saturday, morn, peac, prote...     left-news   \n",
       "...                                                  ...           ...   \n",
       "44893  [copenhagen, reuter, , danish, polic, investig...     worldnews   \n",
       "44894  [washington, reuter, , former, fbi, director, ...  politicsNews   \n",
       "44895  [caracashouston, reuter, , venezuela, power, f...     worldnews   \n",
       "44896  [senat, minor, leader, harri, reid, dnv, wrote...          News   \n",
       "44897  [munich, germani, reuter, , victim, attack, is...     worldnews   \n",
       "\n",
       "                     date label  \n",
       "0        October 10, 2016  fake  \n",
       "1      November 21, 2017   true  \n",
       "2      December 29, 2016   true  \n",
       "3        January 27, 2016  fake  \n",
       "4             Jul 9, 2017  fake  \n",
       "...                   ...   ...  \n",
       "44893  November 13, 2017   true  \n",
       "44894       May 31, 2017   true  \n",
       "44895   December 5, 2017   true  \n",
       "44896    October 30, 2016  fake  \n",
       "44897  September 6, 2017   true  \n",
       "\n",
       "[44898 rows x 5 columns]"
      ]
     },
     "execution_count": 5,
     "metadata": {},
     "output_type": "execute_result"
    }
   ],
   "source": [
    "p1.df"
   ]
  },
  {
   "cell_type": "code",
   "execution_count": 6,
   "metadata": {},
   "outputs": [],
   "source": [
    "p1.tokenize_sentences()"
   ]
  },
  {
   "cell_type": "code",
   "execution_count": 7,
   "metadata": {},
   "outputs": [],
   "source": [
    "l, labs = tensorize_sentences(p1.df.text.apply(lambda sent: sent[:50]), p1.df.label)"
   ]
  },
  {
   "cell_type": "code",
   "execution_count": 8,
   "metadata": {},
   "outputs": [],
   "source": [
    "from torch.nn.utils.rnn import pad_packed_sequence, pack_padded_sequence"
   ]
  },
  {
   "cell_type": "code",
   "execution_count": 9,
   "metadata": {},
   "outputs": [],
   "source": [
    "from torch import nn\n",
    "from collections import OrderedDict\n",
    "\n",
    "class LinearBlock(nn.Module):\n",
    "    \n",
    "    def __init__(self, layer_sequence, add_relu=False):\n",
    "        super(LinearBlock, self).__init__()\n",
    "        num_layers = len(layer_sequence) - 1\n",
    "        layers = []\n",
    "        names = []\n",
    "        for i in range(num_layers):\n",
    "            layers.append(nn.Linear(in_features=layer_sequence[i],\n",
    "                                    out_features=layer_sequence[i + 1],\n",
    "                                    bias=False)\n",
    "                         )\n",
    "            names.append(f'fc{i + 1}')\n",
    "                \n",
    "            if add_relu and i != num_layers - 1:\n",
    "                layers.append(nn.ReLU())\n",
    "                names.append(f'relu{i + 1}')\n",
    "        \n",
    "        self.module_dict = OrderedDict(zip(names, layers))\n",
    "        self.block = nn.Sequential(self.module_dict)\n",
    "        \n",
    "    def forward(self, x):\n",
    "        out = self.block(x)\n",
    "        \n",
    "        return out\n",
    "\n",
    "class NewsNet(nn.Module):\n",
    "    \n",
    "    def __init__(self, vocab, hidden_size=10, embedding_dim=16, num_layers=2, pretrained_embeddings=None):\n",
    "        super(NewsNet, self).__init__()\n",
    "        self.hidden_size = hidden_size\n",
    "        self.embedding_dim = embedding_dim\n",
    "        self.num_layers = num_layers\n",
    "        self.word_embeddings = nn.Embedding(num_embeddings=len(vocab), embedding_dim=self.embedding_dim)\n",
    "        if pretrained_embeddings is not None:\n",
    "            self.word_embeddings.weight.data.copy_(pretrained_embeddings.weight.data)\n",
    "        self.lstm = nn.LSTM(input_size=self.embedding_dim, \n",
    "                            bias=False, \n",
    "                            hidden_size=self.hidden_size, \n",
    "                            batch_first=True,\n",
    "                            num_layers=self.num_layers)\n",
    "        self.linear_block = LinearBlock([self.hidden_size, self.hidden_size * 2, self.hidden_size, 1])\n",
    "        \n",
    "    def forward(self, s, l):\n",
    "        \n",
    "        out = self.word_embeddings(s)\n",
    "        out = pack_padded_sequence(input=out, lengths=l, batch_first=True, enforce_sorted=False)\n",
    "        sequence_out, (h, c) = self.lstm(out)\n",
    "        out = h[-1]\n",
    "        out = self.linear_block(out)\n",
    "        \n",
    "        return out"
   ]
  },
  {
   "cell_type": "code",
   "execution_count": 10,
   "metadata": {
    "scrolled": true
   },
   "outputs": [
    {
     "name": "stderr",
     "output_type": "stream",
     "text": [
      "  0%|          | 5/1384 [00:00<00:31, 43.70it/s]"
     ]
    },
    {
     "name": "stdout",
     "output_type": "stream",
     "text": [
      "Epoch 1\n"
     ]
    },
    {
     "name": "stderr",
     "output_type": "stream",
     "text": [
      "100%|██████████| 1384/1384 [00:27<00:00, 50.98it/s]\n",
      "  0%|          | 5/1384 [00:00<00:28, 47.97it/s]"
     ]
    },
    {
     "name": "stdout",
     "output_type": "stream",
     "text": [
      "Epoch 2\n"
     ]
    },
    {
     "name": "stderr",
     "output_type": "stream",
     "text": [
      "100%|██████████| 1384/1384 [00:27<00:00, 50.95it/s]\n",
      "  0%|          | 5/1384 [00:00<00:28, 48.09it/s]"
     ]
    },
    {
     "name": "stdout",
     "output_type": "stream",
     "text": [
      "Epoch 3\n"
     ]
    },
    {
     "name": "stderr",
     "output_type": "stream",
     "text": [
      "100%|██████████| 1384/1384 [00:27<00:00, 50.82it/s]\n",
      "  0%|          | 5/1384 [00:00<00:29, 47.31it/s]"
     ]
    },
    {
     "name": "stdout",
     "output_type": "stream",
     "text": [
      "Epoch 4\n"
     ]
    },
    {
     "name": "stderr",
     "output_type": "stream",
     "text": [
      "100%|██████████| 1384/1384 [00:27<00:00, 50.96it/s]\n",
      "  0%|          | 5/1384 [00:00<00:28, 47.67it/s]"
     ]
    },
    {
     "name": "stdout",
     "output_type": "stream",
     "text": [
      "Epoch 5\n"
     ]
    },
    {
     "name": "stderr",
     "output_type": "stream",
     "text": [
      "100%|██████████| 1384/1384 [00:27<00:00, 50.56it/s]\n",
      "  1%|          | 10/1384 [00:00<00:28, 48.99it/s]"
     ]
    },
    {
     "name": "stdout",
     "output_type": "stream",
     "text": [
      "Epoch 6\n"
     ]
    },
    {
     "name": "stderr",
     "output_type": "stream",
     "text": [
      "100%|██████████| 1384/1384 [00:27<00:00, 51.16it/s]\n",
      "  1%|          | 10/1384 [00:00<00:27, 49.50it/s]"
     ]
    },
    {
     "name": "stdout",
     "output_type": "stream",
     "text": [
      "Epoch 7\n"
     ]
    },
    {
     "name": "stderr",
     "output_type": "stream",
     "text": [
      "100%|██████████| 1384/1384 [00:27<00:00, 50.96it/s]\n",
      "  0%|          | 5/1384 [00:00<00:28, 48.66it/s]"
     ]
    },
    {
     "name": "stdout",
     "output_type": "stream",
     "text": [
      "Epoch 8\n"
     ]
    },
    {
     "name": "stderr",
     "output_type": "stream",
     "text": [
      "100%|██████████| 1384/1384 [00:27<00:00, 51.21it/s]\n",
      "  1%|          | 10/1384 [00:00<00:27, 49.47it/s]"
     ]
    },
    {
     "name": "stdout",
     "output_type": "stream",
     "text": [
      "Epoch 9\n"
     ]
    },
    {
     "name": "stderr",
     "output_type": "stream",
     "text": [
      "100%|██████████| 1384/1384 [00:27<00:00, 51.13it/s]\n",
      "  0%|          | 5/1384 [00:00<00:27, 49.69it/s]"
     ]
    },
    {
     "name": "stdout",
     "output_type": "stream",
     "text": [
      "Epoch 10\n"
     ]
    },
    {
     "name": "stderr",
     "output_type": "stream",
     "text": [
      "100%|██████████| 1384/1384 [00:27<00:00, 51.10it/s]\n",
      "  1%|          | 10/1384 [00:00<00:27, 49.53it/s]"
     ]
    },
    {
     "name": "stdout",
     "output_type": "stream",
     "text": [
      "Epoch 11\n"
     ]
    },
    {
     "name": "stderr",
     "output_type": "stream",
     "text": [
      "100%|██████████| 1384/1384 [00:27<00:00, 51.22it/s]\n",
      "  1%|          | 10/1384 [00:00<00:27, 49.09it/s]"
     ]
    },
    {
     "name": "stdout",
     "output_type": "stream",
     "text": [
      "Epoch 12\n"
     ]
    },
    {
     "name": "stderr",
     "output_type": "stream",
     "text": [
      "100%|██████████| 1384/1384 [00:27<00:00, 51.03it/s]\n",
      "  0%|          | 5/1384 [00:00<00:27, 49.57it/s]"
     ]
    },
    {
     "name": "stdout",
     "output_type": "stream",
     "text": [
      "Epoch 13\n"
     ]
    },
    {
     "name": "stderr",
     "output_type": "stream",
     "text": [
      "100%|██████████| 1384/1384 [00:27<00:00, 51.24it/s]\n",
      "  1%|          | 10/1384 [00:00<00:27, 49.34it/s]"
     ]
    },
    {
     "name": "stdout",
     "output_type": "stream",
     "text": [
      "Epoch 14\n"
     ]
    },
    {
     "name": "stderr",
     "output_type": "stream",
     "text": [
      "100%|██████████| 1384/1384 [00:27<00:00, 51.25it/s]\n",
      "  1%|          | 10/1384 [00:00<00:27, 49.54it/s]"
     ]
    },
    {
     "name": "stdout",
     "output_type": "stream",
     "text": [
      "Epoch 15\n"
     ]
    },
    {
     "name": "stderr",
     "output_type": "stream",
     "text": [
      "100%|██████████| 1384/1384 [00:26<00:00, 51.30it/s]\n",
      "  1%|          | 10/1384 [00:00<00:27, 49.52it/s]"
     ]
    },
    {
     "name": "stdout",
     "output_type": "stream",
     "text": [
      "Epoch 16\n"
     ]
    },
    {
     "name": "stderr",
     "output_type": "stream",
     "text": [
      "100%|██████████| 1384/1384 [00:27<00:00, 51.16it/s]\n",
      "  1%|          | 10/1384 [00:00<00:27, 49.74it/s]"
     ]
    },
    {
     "name": "stdout",
     "output_type": "stream",
     "text": [
      "Epoch 17\n"
     ]
    },
    {
     "name": "stderr",
     "output_type": "stream",
     "text": [
      "100%|██████████| 1384/1384 [00:27<00:00, 51.25it/s]\n",
      "  0%|          | 5/1384 [00:00<00:27, 49.46it/s]"
     ]
    },
    {
     "name": "stdout",
     "output_type": "stream",
     "text": [
      "Epoch 18\n"
     ]
    },
    {
     "name": "stderr",
     "output_type": "stream",
     "text": [
      "100%|██████████| 1384/1384 [00:27<00:00, 51.17it/s]\n",
      "  1%|          | 10/1384 [00:00<00:27, 49.08it/s]"
     ]
    },
    {
     "name": "stdout",
     "output_type": "stream",
     "text": [
      "Epoch 19\n"
     ]
    },
    {
     "name": "stderr",
     "output_type": "stream",
     "text": [
      "100%|██████████| 1384/1384 [00:27<00:00, 50.98it/s]\n",
      "  1%|          | 10/1384 [00:00<00:27, 49.19it/s]"
     ]
    },
    {
     "name": "stdout",
     "output_type": "stream",
     "text": [
      "Epoch 20\n"
     ]
    },
    {
     "name": "stderr",
     "output_type": "stream",
     "text": [
      "100%|██████████| 1384/1384 [00:27<00:00, 51.22it/s]\n",
      "  1%|          | 10/1384 [00:00<00:27, 49.37it/s]"
     ]
    },
    {
     "name": "stdout",
     "output_type": "stream",
     "text": [
      "Epoch 21\n"
     ]
    },
    {
     "name": "stderr",
     "output_type": "stream",
     "text": [
      "100%|██████████| 1384/1384 [00:27<00:00, 51.22it/s]\n",
      "  1%|          | 10/1384 [00:00<00:27, 49.13it/s]"
     ]
    },
    {
     "name": "stdout",
     "output_type": "stream",
     "text": [
      "Epoch 22\n"
     ]
    },
    {
     "name": "stderr",
     "output_type": "stream",
     "text": [
      "100%|██████████| 1384/1384 [00:27<00:00, 51.18it/s]\n",
      "  1%|          | 10/1384 [00:00<00:27, 49.56it/s]"
     ]
    },
    {
     "name": "stdout",
     "output_type": "stream",
     "text": [
      "Epoch 23\n"
     ]
    },
    {
     "name": "stderr",
     "output_type": "stream",
     "text": [
      "100%|██████████| 1384/1384 [00:27<00:00, 51.01it/s]\n",
      "  1%|          | 10/1384 [00:00<00:27, 49.13it/s]"
     ]
    },
    {
     "name": "stdout",
     "output_type": "stream",
     "text": [
      "Epoch 24\n"
     ]
    },
    {
     "name": "stderr",
     "output_type": "stream",
     "text": [
      "100%|██████████| 1384/1384 [00:26<00:00, 51.30it/s]\n",
      "  0%|          | 5/1384 [00:00<00:27, 49.26it/s]"
     ]
    },
    {
     "name": "stdout",
     "output_type": "stream",
     "text": [
      "Epoch 25\n"
     ]
    },
    {
     "name": "stderr",
     "output_type": "stream",
     "text": [
      "100%|██████████| 1384/1384 [00:27<00:00, 51.24it/s]\n",
      "  0%|          | 6/1384 [00:00<00:27, 50.52it/s]"
     ]
    },
    {
     "name": "stdout",
     "output_type": "stream",
     "text": [
      "Epoch 26\n"
     ]
    },
    {
     "name": "stderr",
     "output_type": "stream",
     "text": [
      "100%|██████████| 1384/1384 [00:26<00:00, 51.34it/s]\n",
      "  1%|          | 10/1384 [00:00<00:28, 48.94it/s]"
     ]
    },
    {
     "name": "stdout",
     "output_type": "stream",
     "text": [
      "Epoch 27\n"
     ]
    },
    {
     "name": "stderr",
     "output_type": "stream",
     "text": [
      "100%|██████████| 1384/1384 [00:27<00:00, 51.21it/s]\n",
      "  1%|          | 10/1384 [00:00<00:27, 49.38it/s]"
     ]
    },
    {
     "name": "stdout",
     "output_type": "stream",
     "text": [
      "Epoch 28\n"
     ]
    },
    {
     "name": "stderr",
     "output_type": "stream",
     "text": [
      "100%|██████████| 1384/1384 [00:26<00:00, 51.36it/s]\n",
      "  1%|          | 10/1384 [00:00<00:27, 49.40it/s]"
     ]
    },
    {
     "name": "stdout",
     "output_type": "stream",
     "text": [
      "Epoch 29\n"
     ]
    },
    {
     "name": "stderr",
     "output_type": "stream",
     "text": [
      "100%|██████████| 1384/1384 [00:26<00:00, 51.30it/s]\n",
      "  1%|          | 10/1384 [00:00<00:27, 49.55it/s]"
     ]
    },
    {
     "name": "stdout",
     "output_type": "stream",
     "text": [
      "Epoch 30\n"
     ]
    },
    {
     "name": "stderr",
     "output_type": "stream",
     "text": [
      "100%|██████████| 1384/1384 [00:26<00:00, 51.38it/s]\n",
      "  0%|          | 5/1384 [00:00<00:28, 48.25it/s]"
     ]
    },
    {
     "name": "stdout",
     "output_type": "stream",
     "text": [
      "Epoch 31\n"
     ]
    },
    {
     "name": "stderr",
     "output_type": "stream",
     "text": [
      "100%|██████████| 1384/1384 [00:26<00:00, 51.31it/s]\n",
      "  1%|          | 10/1384 [00:00<00:27, 49.17it/s]"
     ]
    },
    {
     "name": "stdout",
     "output_type": "stream",
     "text": [
      "Epoch 32\n"
     ]
    },
    {
     "name": "stderr",
     "output_type": "stream",
     "text": [
      "100%|██████████| 1384/1384 [00:27<00:00, 50.97it/s]\n",
      "  1%|          | 10/1384 [00:00<00:27, 49.62it/s]"
     ]
    },
    {
     "name": "stdout",
     "output_type": "stream",
     "text": [
      "Epoch 33\n"
     ]
    },
    {
     "name": "stderr",
     "output_type": "stream",
     "text": [
      "100%|██████████| 1384/1384 [00:27<00:00, 51.19it/s]\n",
      "  1%|          | 10/1384 [00:00<00:27, 49.58it/s]"
     ]
    },
    {
     "name": "stdout",
     "output_type": "stream",
     "text": [
      "Epoch 34\n"
     ]
    },
    {
     "name": "stderr",
     "output_type": "stream",
     "text": [
      "100%|██████████| 1384/1384 [00:26<00:00, 51.55it/s]\n",
      "  0%|          | 5/1384 [00:00<00:27, 49.84it/s]"
     ]
    },
    {
     "name": "stdout",
     "output_type": "stream",
     "text": [
      "Epoch 35\n"
     ]
    },
    {
     "name": "stderr",
     "output_type": "stream",
     "text": [
      "100%|██████████| 1384/1384 [00:26<00:00, 52.72it/s]\n",
      "  0%|          | 6/1384 [00:00<00:27, 50.58it/s]"
     ]
    },
    {
     "name": "stdout",
     "output_type": "stream",
     "text": [
      "Epoch 36\n"
     ]
    },
    {
     "name": "stderr",
     "output_type": "stream",
     "text": [
      "100%|██████████| 1384/1384 [00:26<00:00, 52.63it/s]\n",
      "  0%|          | 6/1384 [00:00<00:27, 50.59it/s]"
     ]
    },
    {
     "name": "stdout",
     "output_type": "stream",
     "text": [
      "Epoch 37\n"
     ]
    },
    {
     "name": "stderr",
     "output_type": "stream",
     "text": [
      "100%|██████████| 1384/1384 [00:26<00:00, 52.63it/s]\n",
      "  0%|          | 6/1384 [00:00<00:26, 51.39it/s]"
     ]
    },
    {
     "name": "stdout",
     "output_type": "stream",
     "text": [
      "Epoch 38\n"
     ]
    },
    {
     "name": "stderr",
     "output_type": "stream",
     "text": [
      "100%|██████████| 1384/1384 [00:26<00:00, 52.76it/s]\n",
      "  0%|          | 6/1384 [00:00<00:27, 50.34it/s]"
     ]
    },
    {
     "name": "stdout",
     "output_type": "stream",
     "text": [
      "Epoch 39\n"
     ]
    },
    {
     "name": "stderr",
     "output_type": "stream",
     "text": [
      "100%|██████████| 1384/1384 [00:26<00:00, 52.74it/s]\n",
      "  0%|          | 5/1384 [00:00<00:27, 49.55it/s]"
     ]
    },
    {
     "name": "stdout",
     "output_type": "stream",
     "text": [
      "Epoch 40\n"
     ]
    },
    {
     "name": "stderr",
     "output_type": "stream",
     "text": [
      "100%|██████████| 1384/1384 [00:26<00:00, 52.69it/s]\n",
      "  0%|          | 6/1384 [00:00<00:27, 50.07it/s]"
     ]
    },
    {
     "name": "stdout",
     "output_type": "stream",
     "text": [
      "Epoch 41\n"
     ]
    },
    {
     "name": "stderr",
     "output_type": "stream",
     "text": [
      "100%|██████████| 1384/1384 [00:26<00:00, 52.82it/s]\n",
      "  0%|          | 6/1384 [00:00<00:27, 50.49it/s]"
     ]
    },
    {
     "name": "stdout",
     "output_type": "stream",
     "text": [
      "Epoch 42\n"
     ]
    },
    {
     "name": "stderr",
     "output_type": "stream",
     "text": [
      "100%|██████████| 1384/1384 [00:26<00:00, 52.87it/s]\n",
      "  1%|          | 10/1384 [00:00<00:27, 49.65it/s]"
     ]
    },
    {
     "name": "stdout",
     "output_type": "stream",
     "text": [
      "Epoch 43\n"
     ]
    },
    {
     "name": "stderr",
     "output_type": "stream",
     "text": [
      "100%|██████████| 1384/1384 [00:26<00:00, 52.67it/s]\n",
      "  0%|          | 6/1384 [00:00<00:27, 50.84it/s]"
     ]
    },
    {
     "name": "stdout",
     "output_type": "stream",
     "text": [
      "Epoch 44\n"
     ]
    },
    {
     "name": "stderr",
     "output_type": "stream",
     "text": [
      "100%|██████████| 1384/1384 [00:26<00:00, 52.86it/s]\n",
      "  0%|          | 6/1384 [00:00<00:26, 51.07it/s]"
     ]
    },
    {
     "name": "stdout",
     "output_type": "stream",
     "text": [
      "Epoch 45\n"
     ]
    },
    {
     "name": "stderr",
     "output_type": "stream",
     "text": [
      "100%|██████████| 1384/1384 [00:26<00:00, 52.33it/s]\n",
      "  0%|          | 6/1384 [00:00<00:27, 50.33it/s]"
     ]
    },
    {
     "name": "stdout",
     "output_type": "stream",
     "text": [
      "Epoch 46\n"
     ]
    },
    {
     "name": "stderr",
     "output_type": "stream",
     "text": [
      "100%|██████████| 1384/1384 [00:26<00:00, 52.87it/s]\n",
      "  0%|          | 5/1384 [00:00<00:28, 48.79it/s]"
     ]
    },
    {
     "name": "stdout",
     "output_type": "stream",
     "text": [
      "Epoch 47\n"
     ]
    },
    {
     "name": "stderr",
     "output_type": "stream",
     "text": [
      "100%|██████████| 1384/1384 [00:26<00:00, 52.41it/s]\n",
      "  1%|          | 10/1384 [00:00<00:27, 49.50it/s]"
     ]
    },
    {
     "name": "stdout",
     "output_type": "stream",
     "text": [
      "Epoch 48\n"
     ]
    },
    {
     "name": "stderr",
     "output_type": "stream",
     "text": [
      "100%|██████████| 1384/1384 [00:26<00:00, 52.55it/s]\n",
      "  0%|          | 6/1384 [00:00<00:27, 50.51it/s]"
     ]
    },
    {
     "name": "stdout",
     "output_type": "stream",
     "text": [
      "Epoch 49\n"
     ]
    },
    {
     "name": "stderr",
     "output_type": "stream",
     "text": [
      "100%|██████████| 1384/1384 [00:26<00:00, 52.81it/s]\n",
      "  0%|          | 5/1384 [00:00<00:28, 48.78it/s]"
     ]
    },
    {
     "name": "stdout",
     "output_type": "stream",
     "text": [
      "Epoch 50\n"
     ]
    },
    {
     "name": "stderr",
     "output_type": "stream",
     "text": [
      "100%|██████████| 1384/1384 [00:26<00:00, 52.64it/s]\n"
     ]
    }
   ],
   "source": [
    "net = NewsNet(p1.vocab, hidden_size=4, embedding_dim=8, num_layers=2)\n",
    "loss_fn = nn.BCEWithLogitsLoss()\n",
    "optimizer = Adam(net.parameters(), lr=1e-4, weight_decay=5e-6)\n",
    "idx = len(l) // 4\n",
    "\n",
    "l_tr, labs_tr = l[:2 * idx], labs[:2 * idx]\n",
    "l_val, labs_val = l[2 * idx:3 * idx], labs[2 * idx:3 * idx]\n",
    "l_tst, labs_tst = l[-idx:], labs[-idx:]\n",
    "tr_set = NewsText(l_tr, labs_tr)\n",
    "val_set = NewsText(l_val, labs_val)\n",
    "_, val_set = enumerate(DataLoader(val_set, batch_size=len(val_set), collate_fn=collate_fn)).__next__()\n",
    "val_features, val_labels, val_lens = val_set\n",
    "val_labels = val_labels.unsqueeze(-1).float()\n",
    "loader = DataLoader(tr_set, batch_size=16, collate_fn=collate_fn)\n",
    "loss_list = []\n",
    "val_loss_list = []\n",
    "accuracy_list = []\n",
    "epochs = 50\n",
    "for i in range(epochs):\n",
    "    print(f'Epoch {i + 1}')\n",
    "    for sents, labels, lens in pbar(loader):\n",
    "        net.train()\n",
    "        labels = labels.float().unsqueeze(-1)\n",
    "        out = net(sents, lens)\n",
    "        loss = loss_fn(out, labels)\n",
    "        optimizer.zero_grad()\n",
    "        loss.backward()\n",
    "        optimizer.step()\n",
    "        net.eval()\n",
    "    with torch.no_grad():\n",
    "        val_out = net(val_features, val_lens)\n",
    "        val_loss = loss_fn(val_out, val_labels)\n",
    "        val_loss_list.append(val_loss.item())\n",
    "        val_guesses = torch.round(nn.Sigmoid()(val_out))\n",
    "        accuracy = (val_guesses == val_labels).float().mean().item()\n",
    "        \n",
    "        accuracy_list.append(accuracy)\n",
    "        \n",
    "    loss_list.append(loss.item())"
   ]
  },
  {
   "cell_type": "code",
   "execution_count": 11,
   "metadata": {
    "scrolled": true
   },
   "outputs": [
    {
     "data": {
      "text/plain": [
       "<matplotlib.legend.Legend at 0x7f8d7e7620b8>"
      ]
     },
     "execution_count": 11,
     "metadata": {},
     "output_type": "execute_result"
    },
    {
     "data": {
      "image/png": "[encoded data removed]",
      "text/plain": [
       "<Figure size 648x432 with 1 Axes>"
      ]
     },
     "metadata": {
      "needs_background": "light"
     },
     "output_type": "display_data"
    }
   ],
   "source": [
    "fig, ax = plt.subplots()\n",
    "pd.Series(loss_list).plot(ax=ax, label='Tr')\n",
    "pd.Series(val_loss_list).plot(ax=ax, label='Val')\n",
    "fig.set_size_inches(fig.get_size_inches() * 1.5)\n",
    "ax.legend()"
   ]
  },
  {
   "cell_type": "code",
   "execution_count": 12,
   "metadata": {},
   "outputs": [
    {
     "data": {
      "text/plain": [
       "<matplotlib.axes._subplots.AxesSubplot at 0x7f8d7e7610b8>"
      ]
     },
     "execution_count": 12,
     "metadata": {},
     "output_type": "execute_result"
    },
    {
     "data": {
      "image/png": "[encoded data removed]",
      "text/plain": [
       "<Figure size 432x288 with 1 Axes>"
      ]
     },
     "metadata": {
      "needs_background": "light"
     },
     "output_type": "display_data"
    }
   ],
   "source": [
    "pd.Series(accuracy_list).plot()"
   ]
  },
  {
   "cell_type": "code",
   "execution_count": 13,
   "metadata": {},
   "outputs": [],
   "source": [
    "tst_set = NewsText(l_tst, labs_tst)\n",
    "_, tst_set = enumerate(DataLoader(tst_set, batch_size=len(tst_set), collate_fn=collate_fn)).__next__()\n",
    "tst_features, tst_labels, test_lens = tst_set\n",
    "tst_labels = tst_labels.unsqueeze(-1).float()"
   ]
  },
  {
   "cell_type": "code",
   "execution_count": 14,
   "metadata": {},
   "outputs": [],
   "source": [
    "with torch.no_grad():\n",
    "    tst_out = net(tst_features, test_lens)\n",
    "    tst_loss = loss_fn(tst_out, tst_labels)\n",
    "    tst_guesses = torch.round(nn.Sigmoid()(tst_out))\n",
    "    accuracy_tst = (tst_guesses == tst_labels).float().mean().item()"
   ]
  },
  {
   "cell_type": "code",
   "execution_count": 15,
   "metadata": {},
   "outputs": [
    {
     "data": {
      "text/plain": [
       "0.99575275182724"
      ]
     },
     "execution_count": 15,
     "metadata": {},
     "output_type": "execute_result"
    }
   ],
   "source": [
    "accuracy_tst"
   ]
  },
  {
   "cell_type": "code",
   "execution_count": null,
   "metadata": {},
   "outputs": [],
   "source": []
  }
 ],
 "metadata": {
  "kernelspec": {
   "display_name": "news",
   "language": "python",
   "name": "news"
  },
  "language_info": {
   "codemirror_mode": {
    "name": "ipython",
    "version": 3
   },
   "file_extension": ".py",
   "mimetype": "text/x-python",
   "name": "python",
   "nbconvert_exporter": "python",
   "pygments_lexer": "ipython3",
   "version": "3.6.10"
  }
 },
 "nbformat": 4,
 "nbformat_minor": 4
}
