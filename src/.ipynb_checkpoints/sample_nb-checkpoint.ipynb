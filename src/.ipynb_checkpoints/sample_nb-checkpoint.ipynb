{
 "cells": [
  {
   "cell_type": "code",
   "execution_count": 1,
   "metadata": {},
   "outputs": [],
   "source": [
    "import pandas as pd\n",
    "from nltk import WhitespaceTokenizer\n",
    "from nltk.corpus import stopwords, words, wordnet\n",
    "from nltk.lm import Vocabulary\n",
    "from collections import OrderedDict\n",
    "import numpy as np\n",
    "import torch\n",
    "from torch import nn\n",
    "import concurrent.futures\n",
    "from torch.optim import Adam\n",
    "from data_loading import process_text_df, NewsText\n",
    "from utils import generate_val_set, collate_fn\n",
    "from tqdm import tqdm\n",
    "from models import NewsNet\n",
    "import matplotlib.pyplot as plt\n",
    "from torch.utils.data import Dataset, DataLoader\n",
    "from torch import tensor\n",
    "import matplotlib.pyplot as plt"
   ]
  },
  {
   "cell_type": "code",
   "execution_count": 2,
   "metadata": {},
   "outputs": [],
   "source": [
    "fake, true = pd.read_csv('Fake.csv'), pd.read_csv('True.csv')\n",
    "fake['label'] = 'fake'\n",
    "true['label'] = 'true'\n",
    "news = pd.concat((fake, true))\n",
    "news = news.sample(frac=1)\n",
    "news.reset_index(inplace=True, drop=True)"
   ]
  },
  {
   "cell_type": "code",
   "execution_count": 3,
   "metadata": {},
   "outputs": [],
   "source": [
    "p1 = process_text_df(news, ['title', 'text'])"
   ]
  },
  {
   "cell_type": "code",
   "execution_count": 4,
   "metadata": {},
   "outputs": [
    {
     "name": "stdout",
     "output_type": "stream",
     "text": [
      "CPU times: user 2.85 s, sys: 1.27 s, total: 4.12 s\n",
      "Wall time: 4min 21s\n"
     ]
    }
   ],
   "source": [
    "%%time\n",
    "p1.process_text_col()"
   ]
  },
  {
   "cell_type": "code",
   "execution_count": 5,
   "metadata": {},
   "outputs": [
    {
     "data": {
      "text/html": [
       "<div>\n",
       "<style scoped>\n",
       "    .dataframe tbody tr th:only-of-type {\n",
       "        vertical-align: middle;\n",
       "    }\n",
       "\n",
       "    .dataframe tbody tr th {\n",
       "        vertical-align: top;\n",
       "    }\n",
       "\n",
       "    .dataframe thead th {\n",
       "        text-align: right;\n",
       "    }\n",
       "</style>\n",
       "<table border=\"1\" class=\"dataframe\">\n",
       "  <thead>\n",
       "    <tr style=\"text-align: right;\">\n",
       "      <th></th>\n",
       "      <th>title</th>\n",
       "      <th>text</th>\n",
       "      <th>subject</th>\n",
       "      <th>date</th>\n",
       "      <th>label</th>\n",
       "    </tr>\n",
       "  </thead>\n",
       "  <tbody>\n",
       "    <tr>\n",
       "      <th>0</th>\n",
       "      <td>[north, carolina, lawmak, pass, curb, incom, d...</td>\n",
       "      <td>[raleigh, nc, reuter, , north, carolina, repub...</td>\n",
       "      <td>politicsNews</td>\n",
       "      <td>December 17, 2016</td>\n",
       "      <td>true</td>\n",
       "    </tr>\n",
       "    <tr>\n",
       "      <th>1</th>\n",
       "      <td>[maldiv, rush, trade, pact, china, despit, opp...</td>\n",
       "      <td>[male, reuter, , maldiv, govern, sign, free, t...</td>\n",
       "      <td>worldnews</td>\n",
       "      <td>December 8, 2017</td>\n",
       "      <td>true</td>\n",
       "    </tr>\n",
       "    <tr>\n",
       "      <th>2</th>\n",
       "      <td>[trump, erupt, secret, meet, press, transit, c...</td>\n",
       "      <td>[donald, trump, rocki, relationship, press, ev...</td>\n",
       "      <td>News</td>\n",
       "      <td>November 21, 2016</td>\n",
       "      <td>fake</td>\n",
       "    </tr>\n",
       "    <tr>\n",
       "      <th>3</th>\n",
       "      <td>[russian, militari, syria, govern, troop, cont...</td>\n",
       "      <td>[moscow, reuter, , syrian, govern, forc, date,...</td>\n",
       "      <td>worldnews</td>\n",
       "      <td>September 12, 2017</td>\n",
       "      <td>true</td>\n",
       "    </tr>\n",
       "    <tr>\n",
       "      <th>4</th>\n",
       "      <td>[former, trump, advis, page, russian, offici, ...</td>\n",
       "      <td>[washington, reuter, , carter, page, former, f...</td>\n",
       "      <td>politicsNews</td>\n",
       "      <td>November 7, 2017</td>\n",
       "      <td>true</td>\n",
       "    </tr>\n",
       "    <tr>\n",
       "      <th>...</th>\n",
       "      <td>...</td>\n",
       "      <td>...</td>\n",
       "      <td>...</td>\n",
       "      <td>...</td>\n",
       "      <td>...</td>\n",
       "    </tr>\n",
       "    <tr>\n",
       "      <th>44893</th>\n",
       "      <td>[us, tax, cut, make, hous, afford, analyst]</td>\n",
       "      <td>[reuter, , us, tax, overhaul, current, propos,...</td>\n",
       "      <td>politicsNews</td>\n",
       "      <td>December 19, 2017</td>\n",
       "      <td>true</td>\n",
       "    </tr>\n",
       "    <tr>\n",
       "      <th>44894</th>\n",
       "      <td>[republican, retreat, plan, curb, press, camer...</td>\n",
       "      <td>[washington, reuter, , republicanl, senat, pan...</td>\n",
       "      <td>politicsNews</td>\n",
       "      <td>June 13, 2017</td>\n",
       "      <td>true</td>\n",
       "    </tr>\n",
       "    <tr>\n",
       "      <th>44895</th>\n",
       "      <td>[trump, play, golf, wake, damn, comey, testimoni]</td>\n",
       "      <td>[rather, stick, around, washington, follow, fo...</td>\n",
       "      <td>News</td>\n",
       "      <td>June 11, 2017</td>\n",
       "      <td>fake</td>\n",
       "    </tr>\n",
       "    <tr>\n",
       "      <th>44896</th>\n",
       "      <td>[respons, gun, owner, tri, 2nd, amend, child, ...</td>\n",
       "      <td>[okay, probabl, get, it, independ, day, weeken...</td>\n",
       "      <td>News</td>\n",
       "      <td>July 4, 2016</td>\n",
       "      <td>fake</td>\n",
       "    </tr>\n",
       "    <tr>\n",
       "      <th>44897</th>\n",
       "      <td>[lawyer, egypt, expremi, meet, cairo, hotel, f...</td>\n",
       "      <td>[cairo, reuter, , former, egyptian, prime, min...</td>\n",
       "      <td>worldnews</td>\n",
       "      <td>December 3, 2017</td>\n",
       "      <td>true</td>\n",
       "    </tr>\n",
       "  </tbody>\n",
       "</table>\n",
       "<p>44898 rows × 5 columns</p>\n",
       "</div>"
      ],
      "text/plain": [
       "                                                   title  \\\n",
       "0      [north, carolina, lawmak, pass, curb, incom, d...   \n",
       "1      [maldiv, rush, trade, pact, china, despit, opp...   \n",
       "2      [trump, erupt, secret, meet, press, transit, c...   \n",
       "3      [russian, militari, syria, govern, troop, cont...   \n",
       "4      [former, trump, advis, page, russian, offici, ...   \n",
       "...                                                  ...   \n",
       "44893        [us, tax, cut, make, hous, afford, analyst]   \n",
       "44894  [republican, retreat, plan, curb, press, camer...   \n",
       "44895  [trump, play, golf, wake, damn, comey, testimoni]   \n",
       "44896  [respons, gun, owner, tri, 2nd, amend, child, ...   \n",
       "44897  [lawyer, egypt, expremi, meet, cairo, hotel, f...   \n",
       "\n",
       "                                                    text       subject  \\\n",
       "0      [raleigh, nc, reuter, , north, carolina, repub...  politicsNews   \n",
       "1      [male, reuter, , maldiv, govern, sign, free, t...     worldnews   \n",
       "2      [donald, trump, rocki, relationship, press, ev...          News   \n",
       "3      [moscow, reuter, , syrian, govern, forc, date,...     worldnews   \n",
       "4      [washington, reuter, , carter, page, former, f...  politicsNews   \n",
       "...                                                  ...           ...   \n",
       "44893  [reuter, , us, tax, overhaul, current, propos,...  politicsNews   \n",
       "44894  [washington, reuter, , republicanl, senat, pan...  politicsNews   \n",
       "44895  [rather, stick, around, washington, follow, fo...          News   \n",
       "44896  [okay, probabl, get, it, independ, day, weeken...          News   \n",
       "44897  [cairo, reuter, , former, egyptian, prime, min...     worldnews   \n",
       "\n",
       "                      date label  \n",
       "0       December 17, 2016   true  \n",
       "1        December 8, 2017   true  \n",
       "2        November 21, 2016  fake  \n",
       "3      September 12, 2017   true  \n",
       "4        November 7, 2017   true  \n",
       "...                    ...   ...  \n",
       "44893   December 19, 2017   true  \n",
       "44894       June 13, 2017   true  \n",
       "44895        June 11, 2017  fake  \n",
       "44896         July 4, 2016  fake  \n",
       "44897    December 3, 2017   true  \n",
       "\n",
       "[44898 rows x 5 columns]"
      ]
     },
     "execution_count": 5,
     "metadata": {},
     "output_type": "execute_result"
    }
   ],
   "source": [
    "p1.df"
   ]
  },
  {
   "cell_type": "code",
   "execution_count": 6,
   "metadata": {},
   "outputs": [
    {
     "data": {
      "text/html": [
       "<div>\n",
       "<style scoped>\n",
       "    .dataframe tbody tr th:only-of-type {\n",
       "        vertical-align: middle;\n",
       "    }\n",
       "\n",
       "    .dataframe tbody tr th {\n",
       "        vertical-align: top;\n",
       "    }\n",
       "\n",
       "    .dataframe thead th {\n",
       "        text-align: right;\n",
       "    }\n",
       "</style>\n",
       "<table border=\"1\" class=\"dataframe\">\n",
       "  <thead>\n",
       "    <tr style=\"text-align: right;\">\n",
       "      <th></th>\n",
       "      <th>title</th>\n",
       "      <th>text</th>\n",
       "      <th>subject</th>\n",
       "      <th>date</th>\n",
       "      <th>label</th>\n",
       "    </tr>\n",
       "  </thead>\n",
       "  <tbody>\n",
       "    <tr>\n",
       "      <th>0</th>\n",
       "      <td>[7354, 7353, 7352, 7351, 7350, 7349, 7348, 7347]</td>\n",
       "      <td>[0, 3831, 3989, 7324, 7354, 7353, 0, 2297, 735...</td>\n",
       "      <td>politicsNews</td>\n",
       "      <td>December 17, 2016</td>\n",
       "      <td>true</td>\n",
       "    </tr>\n",
       "    <tr>\n",
       "      <th>1</th>\n",
       "      <td>[0, 7346, 7345, 7344, 7343, 7342, 7341]</td>\n",
       "      <td>[6688, 3989, 7324, 0, 7329, 6571, 6627, 7345, ...</td>\n",
       "      <td>worldnews</td>\n",
       "      <td>December 8, 2017</td>\n",
       "      <td>true</td>\n",
       "    </tr>\n",
       "    <tr>\n",
       "      <th>2</th>\n",
       "      <td>[7340, 7339, 7338, 7337, 7336, 7335, 7334, 7333]</td>\n",
       "      <td>[6836, 7340, 1863, 6227, 7336, 6711, 5369, 684...</td>\n",
       "      <td>News</td>\n",
       "      <td>November 21, 2016</td>\n",
       "      <td>fake</td>\n",
       "    </tr>\n",
       "    <tr>\n",
       "      <th>3</th>\n",
       "      <td>[7332, 7331, 7330, 7329, 7328, 7327, 7326, 732...</td>\n",
       "      <td>[7317, 3989, 7324, 5955, 7329, 6987, 4356, 686...</td>\n",
       "      <td>worldnews</td>\n",
       "      <td>September 12, 2017</td>\n",
       "      <td>true</td>\n",
       "    </tr>\n",
       "    <tr>\n",
       "      <th>4</th>\n",
       "      <td>[7322, 7340, 7321, 7320, 7332, 7319, 7318, 731...</td>\n",
       "      <td>[6794, 3989, 7324, 4229, 7320, 7322, 6873, 688...</td>\n",
       "      <td>politicsNews</td>\n",
       "      <td>November 7, 2017</td>\n",
       "      <td>true</td>\n",
       "    </tr>\n",
       "    <tr>\n",
       "      <th>...</th>\n",
       "      <td>...</td>\n",
       "      <td>...</td>\n",
       "      <td>...</td>\n",
       "      <td>...</td>\n",
       "      <td>...</td>\n",
       "    </tr>\n",
       "    <tr>\n",
       "      <th>44893</th>\n",
       "      <td>[7211, 7262, 6870, 6704, 7174, 5877, 4124]</td>\n",
       "      <td>[3989, 7324, 7211, 7262, 6171, 4820, 6657, 670...</td>\n",
       "      <td>politicsNews</td>\n",
       "      <td>December 19, 2017</td>\n",
       "      <td>true</td>\n",
       "    </tr>\n",
       "    <tr>\n",
       "      <th>44894</th>\n",
       "      <td>[7314, 6808, 6719, 7350, 7336, 6653, 6085, 721...</td>\n",
       "      <td>[6794, 3989, 7324, 399, 6936, 6262, 7257, 5410...</td>\n",
       "      <td>politicsNews</td>\n",
       "      <td>June 13, 2017</td>\n",
       "      <td>true</td>\n",
       "    </tr>\n",
       "    <tr>\n",
       "      <th>44895</th>\n",
       "      <td>[7340, 6152, 4405, 5022, 4767, 7097, 6585]</td>\n",
       "      <td>[5377, 5797, 7208, 6794, 6966, 7322, 7231, 679...</td>\n",
       "      <td>News</td>\n",
       "      <td>June 11, 2017</td>\n",
       "      <td>fake</td>\n",
       "    </tr>\n",
       "    <tr>\n",
       "      <th>44896</th>\n",
       "      <td>[7026, 7025, 7024, 6550, 3975, 4959, 4489, 1376]</td>\n",
       "      <td>[4268, 5230, 6880, 7187, 7014, 7214, 3386, 155...</td>\n",
       "      <td>News</td>\n",
       "      <td>July 4, 2016</td>\n",
       "      <td>fake</td>\n",
       "    </tr>\n",
       "    <tr>\n",
       "      <th>44897</th>\n",
       "      <td>[6747, 5676, 0, 7337, 5309, 3614, 5480, 5910]</td>\n",
       "      <td>[5309, 3989, 7324, 7322, 7298, 4908, 6522, 410...</td>\n",
       "      <td>worldnews</td>\n",
       "      <td>December 3, 2017</td>\n",
       "      <td>true</td>\n",
       "    </tr>\n",
       "  </tbody>\n",
       "</table>\n",
       "<p>44898 rows × 5 columns</p>\n",
       "</div>"
      ],
      "text/plain": [
       "                                                   title  \\\n",
       "0       [7354, 7353, 7352, 7351, 7350, 7349, 7348, 7347]   \n",
       "1                [0, 7346, 7345, 7344, 7343, 7342, 7341]   \n",
       "2       [7340, 7339, 7338, 7337, 7336, 7335, 7334, 7333]   \n",
       "3      [7332, 7331, 7330, 7329, 7328, 7327, 7326, 732...   \n",
       "4      [7322, 7340, 7321, 7320, 7332, 7319, 7318, 731...   \n",
       "...                                                  ...   \n",
       "44893         [7211, 7262, 6870, 6704, 7174, 5877, 4124]   \n",
       "44894  [7314, 6808, 6719, 7350, 7336, 6653, 6085, 721...   \n",
       "44895         [7340, 6152, 4405, 5022, 4767, 7097, 6585]   \n",
       "44896   [7026, 7025, 7024, 6550, 3975, 4959, 4489, 1376]   \n",
       "44897      [6747, 5676, 0, 7337, 5309, 3614, 5480, 5910]   \n",
       "\n",
       "                                                    text       subject  \\\n",
       "0      [0, 3831, 3989, 7324, 7354, 7353, 0, 2297, 735...  politicsNews   \n",
       "1      [6688, 3989, 7324, 0, 7329, 6571, 6627, 7345, ...     worldnews   \n",
       "2      [6836, 7340, 1863, 6227, 7336, 6711, 5369, 684...          News   \n",
       "3      [7317, 3989, 7324, 5955, 7329, 6987, 4356, 686...     worldnews   \n",
       "4      [6794, 3989, 7324, 4229, 7320, 7322, 6873, 688...  politicsNews   \n",
       "...                                                  ...           ...   \n",
       "44893  [3989, 7324, 7211, 7262, 6171, 4820, 6657, 670...  politicsNews   \n",
       "44894  [6794, 3989, 7324, 399, 6936, 6262, 7257, 5410...  politicsNews   \n",
       "44895  [5377, 5797, 7208, 6794, 6966, 7322, 7231, 679...          News   \n",
       "44896  [4268, 5230, 6880, 7187, 7014, 7214, 3386, 155...          News   \n",
       "44897  [5309, 3989, 7324, 7322, 7298, 4908, 6522, 410...     worldnews   \n",
       "\n",
       "                      date label  \n",
       "0       December 17, 2016   true  \n",
       "1        December 8, 2017   true  \n",
       "2        November 21, 2016  fake  \n",
       "3      September 12, 2017   true  \n",
       "4        November 7, 2017   true  \n",
       "...                    ...   ...  \n",
       "44893   December 19, 2017   true  \n",
       "44894       June 13, 2017   true  \n",
       "44895        June 11, 2017  fake  \n",
       "44896         July 4, 2016  fake  \n",
       "44897    December 3, 2017   true  \n",
       "\n",
       "[44898 rows x 5 columns]"
      ]
     },
     "execution_count": 6,
     "metadata": {},
     "output_type": "execute_result"
    }
   ],
   "source": [
    "p1.tokenize_sentences()\n",
    "p1.df"
   ]
  },
  {
   "cell_type": "code",
   "execution_count": 7,
   "metadata": {},
   "outputs": [],
   "source": [
    "l, labs = p1.tensorize_sentences('text', 'label', n_feature_tokens=50)"
   ]
  },
  {
   "cell_type": "code",
   "execution_count": 8,
   "metadata": {
    "scrolled": true
   },
   "outputs": [
    {
     "name": "stderr",
     "output_type": "stream",
     "text": [
      "Completed 50 out of 50: 100%|██████████| 50/50 [37:18<00:00, 44.73s/it]"
     ]
    }
   ],
   "source": [
    "idx = len(l) // 4\n",
    "l_tr, labs_tr = l[:2 * idx], labs[:2 * idx]\n",
    "l_val, labs_val = l[2 * idx:3 * idx], labs[2 * idx:3 * idx]\n",
    "l_tst, labs_tst = l[-idx:], labs[-idx:]\n",
    "tr_set = NewsText(l_tr, labs_tr)\n",
    "loader = DataLoader(tr_set, batch_size=8, collate_fn=collate_fn)\n",
    "\n",
    "val_set = NewsText(l_val, labs_val)\n",
    "val_set = generate_val_set(val_set)\n",
    "val_features, val_labels, val_lens = val_set\n",
    "val_labels = val_labels.unsqueeze(-1).float()\n",
    "\n",
    "net = NewsNet(p1.vocab, hidden_size=4, embedding_dim=8, num_layers=2)\n",
    "loss_fn = nn.BCEWithLogitsLoss()\n",
    "optimizer = Adam(net.parameters(), lr=1e-4, weight_decay=5e-6)\n",
    "loss_list = []\n",
    "val_loss_list = []\n",
    "accuracy_list = []\n",
    "epochs = 50\n",
    "pbar = tqdm(total=epochs)\n",
    "for i in range(epochs):\n",
    "    pbar.update()\n",
    "    for sents, labels, lens in loader:\n",
    "        net.train()\n",
    "        labels = labels.float().unsqueeze(-1)\n",
    "        out = net(sents, lens)\n",
    "        loss = loss_fn(out, labels)\n",
    "        optimizer.zero_grad()\n",
    "        loss.backward()\n",
    "        optimizer.step()\n",
    "        net.eval()\n",
    "    with torch.no_grad():\n",
    "        val_out = net(val_features, val_lens)\n",
    "        val_loss = loss_fn(val_out, val_labels)\n",
    "        val_loss_list.append(val_loss.item())\n",
    "        val_guesses = torch.round(nn.Sigmoid()(val_out))\n",
    "        accuracy = (val_guesses == val_labels).float().mean().item()\n",
    "        \n",
    "        accuracy_list.append(accuracy)\n",
    "    pbar.set_description(desc=f'Completed {i + 1} out of {epochs}')\n",
    "    loss_list.append(loss.item())"
   ]
  },
  {
   "cell_type": "code",
   "execution_count": 9,
   "metadata": {
    "scrolled": true
   },
   "outputs": [
    {
     "data": {
      "text/plain": [
       "<matplotlib.legend.Legend at 0x7fa85d935710>"
      ]
     },
     "execution_count": 9,
     "metadata": {},
     "output_type": "execute_result"
    },
    {
     "data": {
      "image/png": "[encoded data removed]",
      "text/plain": [
       "<Figure size 648x432 with 1 Axes>"
      ]
     },
     "metadata": {
      "needs_background": "light"
     },
     "output_type": "display_data"
    }
   ],
   "source": [
    "fig, ax = plt.subplots()\n",
    "pd.Series(loss_list).plot(ax=ax, label='Tr')\n",
    "pd.Series(val_loss_list).plot(ax=ax, label='Val')\n",
    "fig.set_size_inches(fig.get_size_inches() * 1.5)\n",
    "ax.legend()"
   ]
  },
  {
   "cell_type": "code",
   "execution_count": 10,
   "metadata": {},
   "outputs": [
    {
     "data": {
      "text/plain": [
       "<matplotlib.axes._subplots.AxesSubplot at 0x7fa866f75b38>"
      ]
     },
     "execution_count": 10,
     "metadata": {},
     "output_type": "execute_result"
    },
    {
     "data": {
      "image/png": "[encoded data removed]",
      "text/plain": [
       "<Figure size 432x288 with 1 Axes>"
      ]
     },
     "metadata": {
      "needs_background": "light"
     },
     "output_type": "display_data"
    }
   ],
   "source": [
    "pd.Series(accuracy_list).plot()"
   ]
  },
  {
   "cell_type": "code",
   "execution_count": 11,
   "metadata": {},
   "outputs": [],
   "source": [
    "tst_set = NewsText(l_tst, labs_tst)\n",
    "tst_set = generate_val_set(tst_set)\n",
    "tst_features, tst_labels, tst_lens = tst_set\n",
    "tst_labels = tst_labels.unsqueeze(-1).float()"
   ]
  },
  {
   "cell_type": "code",
   "execution_count": 12,
   "metadata": {},
   "outputs": [],
   "source": [
    "with torch.no_grad():\n",
    "    tst_out = net(tst_features, tst_lens)\n",
    "    tst_loss = loss_fn(tst_out, tst_labels)\n",
    "    tst_guesses = torch.round(nn.Sigmoid()(tst_out))\n",
    "    accuracy_tst = (tst_guesses == tst_labels).float().mean().item()"
   ]
  },
  {
   "cell_type": "code",
   "execution_count": 13,
   "metadata": {},
   "outputs": [
    {
     "data": {
      "text/plain": [
       "0.995933473110199"
      ]
     },
     "execution_count": 13,
     "metadata": {},
     "output_type": "execute_result"
    }
   ],
   "source": [
    "accuracy_tst"
   ]
  }
 ],
 "metadata": {
  "kernelspec": {
   "display_name": "news",
   "language": "python",
   "name": "news"
  },
  "language_info": {
   "codemirror_mode": {
    "name": "ipython",
    "version": 3
   },
   "file_extension": ".py",
   "mimetype": "text/x-python",
   "name": "python",
   "nbconvert_exporter": "python",
   "pygments_lexer": "ipython3",
   "version": "3.6.10"
  }
 },
 "nbformat": 4,
 "nbformat_minor": 4
}
