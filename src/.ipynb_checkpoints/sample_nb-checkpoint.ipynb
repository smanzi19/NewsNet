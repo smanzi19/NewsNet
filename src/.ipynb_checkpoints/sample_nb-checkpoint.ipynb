{
 "cells": [
  {
   "cell_type": "code",
   "execution_count": 1,
   "metadata": {},
   "outputs": [],
   "source": [
    "import pandas as pd\n",
    "from nltk import WhitespaceTokenizer\n",
    "from nltk.corpus import stopwords, words, wordnet\n",
    "from nltk.lm import Vocabulary\n",
    "from collections import OrderedDict\n",
    "import numpy as np\n",
    "import torch\n",
    "from torch import nn\n",
    "import concurrent.futures\n",
    "from torch.optim import Adam\n",
    "from data_loading import process_text_df, NewsText, tensorize_sentences, collate_fn\n",
    "from tqdm import tqdm as pbar\n",
    "from models import NewsNet\n",
    "import matplotlib.pyplot as plt\n",
    "from torch.utils.data import Dataset, DataLoader\n",
    "from torch import tensor\n",
    "import matplotlib.pyplot as plt\n",
    "import tqdm\n",
    "stopwords = stopwords.words()\n",
    "words = words.words() \n",
    "wordnet = wordnet.words()"
   ]
  },
  {
   "cell_type": "code",
   "execution_count": 2,
   "metadata": {},
   "outputs": [],
   "source": [
    "import pandas as pd\n",
    "from nltk import WhitespaceTokenizer\n",
    "from nltk.corpus import stopwords, words, wordnet\n",
    "from nltk.lm import Vocabulary\n",
    "import numpy as np\n",
    "import torch\n",
    "from torch import nn\n",
    "import concurrent.futures\n",
    "from torch.utils.data import Dataset, DataLoader\n",
    "from nltk.stem.snowball import EnglishStemmer\n",
    "from torch import tensor\n",
    "stopwords = stopwords.words()\n",
    "words = words.words() \n",
    "wordnet = wordnet.words()\n",
    "\n",
    "class process_text_df():\n",
    "    \n",
    "    def __init__(self, df, text_cols):\n",
    "        self.df = df.copy()\n",
    "        self.text_cols = text_cols\n",
    "        self.stemmer = EnglishStemmer()\n",
    "        \n",
    "    def word_only(self, l):\n",
    "        nopunkt = lambda w: ''.join([char for char in w if char.isalnum()])\n",
    "        l = [nopunkt(w) for w in l]\n",
    "        return l\n",
    "\n",
    "    def clean_text_col(self, text_col):\n",
    "        text_col = text_col.apply(lambda text: WhitespaceTokenizer().tokenize(text))\n",
    "        text_col = text_col.apply(lambda sent: [word.lower() for word in sent])\n",
    "        text_col = text_col.apply(lambda sent: [word for word in sent if word not in stopwords])\n",
    "        text_col = text_col.apply(lambda sent: self.word_only(sent))\n",
    "        text_col = text_col.apply(lambda sent: [self.stemmer.stem(word) for word in sent])\n",
    "        return text_col\n",
    "\n",
    "    def chunk_arr(self, arr, n_partitions=8):\n",
    "        size = len(arr) // n_partitions\n",
    "        out = [arr[i * size:(i + 1) * size] for i in range(n_partitions + 1)]\n",
    "        return out\n",
    "\n",
    "    def clean_tokenize(self, text_col):\n",
    "        with concurrent.futures.ProcessPoolExecutor(4) as executor:\n",
    "            chunks = self.chunk_arr(self.df[text_col], 4)\n",
    "            results = executor.map(self.clean_text_col, chunks)\n",
    "            out = [result for result in results]\n",
    "        out = pd.concat(out)\n",
    "        return out\n",
    "\n",
    "    def process_text_col(self):\n",
    "        for text_col in self.text_cols:\n",
    "            self.df[text_col] = self.clean_tokenize(text_col)\n",
    "            \n",
    "    def build_vocab(self):\n",
    "        out = []\n",
    "        for col in self.text_cols:\n",
    "            col_ = self.df[col]\n",
    "            extend = [w for sent in col_ for w in sent]\n",
    "            out.extend(extend)\n",
    "        out = list(Vocabulary(out, unk_cutoff=100))\n",
    "        out = {out[i]:len(out) - (i + 1) for i in range(len(out))}\n",
    "        self.vocab = out\n",
    "    \n",
    "    def tokenize_sentences(self):\n",
    "        self.build_vocab()\n",
    "        for text_col in self.text_cols:\n",
    "            self.df[text_col] =\\\n",
    "            self.df[text_col].apply(lambda sent: [word if word in self.vocab else '<UNK>' for word in sent])\n",
    "            self.df[text_col] =\\\n",
    "            self.df[text_col].apply(lambda sent: [self.vocab[word] for word in sent])\n",
    "        \n",
    "def tensorize_sentences(text_series, labels):\n",
    "    sentences, labels = [torch.tensor(text) for text in text_series], \\\n",
    "                        tensor(labels.apply(lambda l: 1 if l == 'true' else 0))\n",
    "    return sentences, labels\n",
    "\n",
    "class NewsText(Dataset):\n",
    "\n",
    "    def __init__(self, news_text_list, labels):\n",
    "        self.news_text_list = news_text_list\n",
    "        self.labels = labels\n",
    "\n",
    "    def __len__(self):\n",
    "        assert(len(self.news_text_list) == len(self.labels))\n",
    "        return len(self.labels)\n",
    "\n",
    "    def __getitem__(self, idx):\n",
    "        sample = self.news_text_list[idx], self.labels[idx]\n",
    "        return sample\n",
    "\n",
    "def pad_sent(sents, max_seq_len):\n",
    "    max_seq_len = min(100, max_seq_len)\n",
    "    out = []\n",
    "    for i in range(len(sents)):\n",
    "        sent = sents[i]\n",
    "        append_tensor = tensor([sent[j] if j < len(sent) else 0 for j in range(max_seq_len)]).unsqueeze(0)\n",
    "        out.append(append_tensor)\n",
    "    out = torch.cat(out)\n",
    "    return out\n",
    "    \n",
    "\n",
    "def collate_fn(sample):\n",
    "\n",
    "    labels = tensor([s[1] for s in sample])\n",
    "    sents = [s[0] for s in sample]\n",
    "    max_seq_len = max([sent.shape[0] for sent in sents])\n",
    "    sents = pad_sent(sents, max_seq_len)\n",
    "    return sents, labels\n",
    "\n"
   ]
  },
  {
   "cell_type": "code",
   "execution_count": 3,
   "metadata": {},
   "outputs": [],
   "source": [
    "fake, true = pd.read_csv('Fake.csv'), pd.read_csv('True.csv')\n",
    "fake['label'] = 'fake'\n",
    "true['label'] = 'true'\n",
    "news = pd.concat((fake, true))\n",
    "news = news.sample(frac=1)\n",
    "news.reset_index(inplace=True, drop=True)"
   ]
  },
  {
   "cell_type": "code",
   "execution_count": null,
   "metadata": {},
   "outputs": [],
   "source": []
  },
  {
   "cell_type": "code",
   "execution_count": 4,
   "metadata": {},
   "outputs": [],
   "source": [
    "p1 = process_text_df(news, ['title', 'text'])"
   ]
  },
  {
   "cell_type": "code",
   "execution_count": 5,
   "metadata": {},
   "outputs": [
    {
     "name": "stdout",
     "output_type": "stream",
     "text": [
      "CPU times: user 2.97 s, sys: 1.31 s, total: 4.28 s\n",
      "Wall time: 4min 29s\n"
     ]
    }
   ],
   "source": [
    "%%time\n",
    "p1.process_text_col()"
   ]
  },
  {
   "cell_type": "code",
   "execution_count": 6,
   "metadata": {},
   "outputs": [
    {
     "data": {
      "text/html": [
       "<div>\n",
       "<style scoped>\n",
       "    .dataframe tbody tr th:only-of-type {\n",
       "        vertical-align: middle;\n",
       "    }\n",
       "\n",
       "    .dataframe tbody tr th {\n",
       "        vertical-align: top;\n",
       "    }\n",
       "\n",
       "    .dataframe thead th {\n",
       "        text-align: right;\n",
       "    }\n",
       "</style>\n",
       "<table border=\"1\" class=\"dataframe\">\n",
       "  <thead>\n",
       "    <tr style=\"text-align: right;\">\n",
       "      <th></th>\n",
       "      <th>title</th>\n",
       "      <th>text</th>\n",
       "      <th>subject</th>\n",
       "      <th>date</th>\n",
       "      <th>label</th>\n",
       "    </tr>\n",
       "  </thead>\n",
       "  <tbody>\n",
       "    <tr>\n",
       "      <th>0</th>\n",
       "      <td>[trump, celebr, pride, month, say, were, under...</td>\n",
       "      <td>[becom, increas, appar, last, month, donald, t...</td>\n",
       "      <td>News</td>\n",
       "      <td>June 9, 2017</td>\n",
       "      <td>fake</td>\n",
       "    </tr>\n",
       "    <tr>\n",
       "      <th>1</th>\n",
       "      <td>[radic, director, sierra, club, abort, key, su...</td>\n",
       "      <td>[httpswwwyoutubecomwatchtimecontinue139viil1z8...</td>\n",
       "      <td>politics</td>\n",
       "      <td>Feb 4, 2017</td>\n",
       "      <td>fake</td>\n",
       "    </tr>\n",
       "    <tr>\n",
       "      <th>2</th>\n",
       "      <td>[like, victim, spousal, abusemiddl, eastern, c...</td>\n",
       "      <td>[concern, hear, priest, repres, iraqi, christi...</td>\n",
       "      <td>left-news</td>\n",
       "      <td>Feb 9, 2017</td>\n",
       "      <td>fake</td>\n",
       "    </tr>\n",
       "    <tr>\n",
       "      <th>3</th>\n",
       "      <td>[syrian, polit, opposit, say, hope, clinton, w...</td>\n",
       "      <td>[geneva, reuter, , syria, polit, opposit, hope...</td>\n",
       "      <td>politicsNews</td>\n",
       "      <td>October 31, 2016</td>\n",
       "      <td>true</td>\n",
       "    </tr>\n",
       "    <tr>\n",
       "      <th>4</th>\n",
       "      <td>[republican, cruz, speak, high, rubio, ask, po...</td>\n",
       "      <td>[washington, reuter, , republican, white, hous...</td>\n",
       "      <td>politicsNews</td>\n",
       "      <td>April 14, 2016</td>\n",
       "      <td>true</td>\n",
       "    </tr>\n",
       "    <tr>\n",
       "      <th>...</th>\n",
       "      <td>...</td>\n",
       "      <td>...</td>\n",
       "      <td>...</td>\n",
       "      <td>...</td>\n",
       "      <td>...</td>\n",
       "    </tr>\n",
       "    <tr>\n",
       "      <th>44893</th>\n",
       "      <td>[cuba, urg, us, politic, alleg, harm, diplomat]</td>\n",
       "      <td>[unit, nationshavana, reuter, , cuba, urg, uni...</td>\n",
       "      <td>worldnews</td>\n",
       "      <td>September 22, 2017</td>\n",
       "      <td>true</td>\n",
       "    </tr>\n",
       "    <tr>\n",
       "      <th>44894</th>\n",
       "      <td>[new, email, clinton, foundat, vip, donor, buy...</td>\n",
       "      <td>[21st, centuri, wire, say, old, day, scandal, ...</td>\n",
       "      <td>US_News</td>\n",
       "      <td>August 29, 2016</td>\n",
       "      <td>fake</td>\n",
       "    </tr>\n",
       "    <tr>\n",
       "      <th>44895</th>\n",
       "      <td>[china, newspap, say, call, taiwan, tsai, show...</td>\n",
       "      <td>[shanghai, reuter, , chines, state, media, mon...</td>\n",
       "      <td>politicsNews</td>\n",
       "      <td>December 5, 2016</td>\n",
       "      <td>true</td>\n",
       "    </tr>\n",
       "    <tr>\n",
       "      <th>44896</th>\n",
       "      <td>[trump, announc, vice, presidenti, pick, frida...</td>\n",
       "      <td>[washington, reuter, , presumpt, republican, p...</td>\n",
       "      <td>politicsNews</td>\n",
       "      <td>July 14, 2016</td>\n",
       "      <td>true</td>\n",
       "    </tr>\n",
       "    <tr>\n",
       "      <th>44897</th>\n",
       "      <td>[india, prime, minist, modi, inaugur, controve...</td>\n",
       "      <td>[mumbai, reuter, , prime, minist, narendra, mo...</td>\n",
       "      <td>worldnews</td>\n",
       "      <td>September 17, 2017</td>\n",
       "      <td>true</td>\n",
       "    </tr>\n",
       "  </tbody>\n",
       "</table>\n",
       "<p>44898 rows × 5 columns</p>\n",
       "</div>"
      ],
      "text/plain": [
       "                                                   title  \\\n",
       "0      [trump, celebr, pride, month, say, were, under...   \n",
       "1      [radic, director, sierra, club, abort, key, su...   \n",
       "2      [like, victim, spousal, abusemiddl, eastern, c...   \n",
       "3      [syrian, polit, opposit, say, hope, clinton, w...   \n",
       "4      [republican, cruz, speak, high, rubio, ask, po...   \n",
       "...                                                  ...   \n",
       "44893    [cuba, urg, us, politic, alleg, harm, diplomat]   \n",
       "44894  [new, email, clinton, foundat, vip, donor, buy...   \n",
       "44895  [china, newspap, say, call, taiwan, tsai, show...   \n",
       "44896  [trump, announc, vice, presidenti, pick, frida...   \n",
       "44897  [india, prime, minist, modi, inaugur, controve...   \n",
       "\n",
       "                                                    text       subject  \\\n",
       "0      [becom, increas, appar, last, month, donald, t...          News   \n",
       "1      [httpswwwyoutubecomwatchtimecontinue139viil1z8...      politics   \n",
       "2      [concern, hear, priest, repres, iraqi, christi...     left-news   \n",
       "3      [geneva, reuter, , syria, polit, opposit, hope...  politicsNews   \n",
       "4      [washington, reuter, , republican, white, hous...  politicsNews   \n",
       "...                                                  ...           ...   \n",
       "44893  [unit, nationshavana, reuter, , cuba, urg, uni...     worldnews   \n",
       "44894  [21st, centuri, wire, say, old, day, scandal, ...       US_News   \n",
       "44895  [shanghai, reuter, , chines, state, media, mon...  politicsNews   \n",
       "44896  [washington, reuter, , presumpt, republican, p...  politicsNews   \n",
       "44897  [mumbai, reuter, , prime, minist, narendra, mo...     worldnews   \n",
       "\n",
       "                      date label  \n",
       "0             June 9, 2017  fake  \n",
       "1              Feb 4, 2017  fake  \n",
       "2              Feb 9, 2017  fake  \n",
       "3        October 31, 2016   true  \n",
       "4          April 14, 2016   true  \n",
       "...                    ...   ...  \n",
       "44893  September 22, 2017   true  \n",
       "44894      August 29, 2016  fake  \n",
       "44895    December 5, 2016   true  \n",
       "44896       July 14, 2016   true  \n",
       "44897  September 17, 2017   true  \n",
       "\n",
       "[44898 rows x 5 columns]"
      ]
     },
     "execution_count": 6,
     "metadata": {},
     "output_type": "execute_result"
    }
   ],
   "source": [
    "p1.df"
   ]
  },
  {
   "cell_type": "code",
   "execution_count": 7,
   "metadata": {},
   "outputs": [],
   "source": [
    "p1.tokenize_sentences()"
   ]
  },
  {
   "cell_type": "code",
   "execution_count": 8,
   "metadata": {},
   "outputs": [],
   "source": [
    "l, labs = tensorize_sentences(p1.df.text.apply(lambda sent: sent[:50]), p1.df.label)"
   ]
  },
  {
   "cell_type": "code",
   "execution_count": 9,
   "metadata": {},
   "outputs": [],
   "source": [
    "# l, labs = tensorize_sentences(p1.df.text.apply(lambda sent: sent[:100]), p1.df.label)"
   ]
  },
  {
   "cell_type": "code",
   "execution_count": 10,
   "metadata": {
    "scrolled": true
   },
   "outputs": [
    {
     "name": "stderr",
     "output_type": "stream",
     "text": [
      "  0%|          | 6/2806 [00:00<00:49, 56.30it/s]"
     ]
    },
    {
     "name": "stdout",
     "output_type": "stream",
     "text": [
      "Epoch 1\n"
     ]
    },
    {
     "name": "stderr",
     "output_type": "stream",
     "text": [
      "100%|██████████| 2806/2806 [00:39<00:00, 70.23it/s]\n",
      "  0%|          | 7/2806 [00:00<00:44, 62.32it/s]"
     ]
    },
    {
     "name": "stdout",
     "output_type": "stream",
     "text": [
      "Epoch 2\n"
     ]
    },
    {
     "name": "stderr",
     "output_type": "stream",
     "text": [
      "100%|██████████| 2806/2806 [00:40<00:00, 69.30it/s]\n",
      "  0%|          | 7/2806 [00:00<00:46, 60.25it/s]"
     ]
    },
    {
     "name": "stdout",
     "output_type": "stream",
     "text": [
      "Epoch 3\n"
     ]
    },
    {
     "name": "stderr",
     "output_type": "stream",
     "text": [
      "100%|██████████| 2806/2806 [00:40<00:00, 69.12it/s]\n",
      "  0%|          | 7/2806 [00:00<00:43, 64.01it/s]"
     ]
    },
    {
     "name": "stdout",
     "output_type": "stream",
     "text": [
      "Epoch 4\n"
     ]
    },
    {
     "name": "stderr",
     "output_type": "stream",
     "text": [
      "100%|██████████| 2806/2806 [00:40<00:00, 69.45it/s]\n",
      "  0%|          | 7/2806 [00:00<00:44, 62.35it/s]"
     ]
    },
    {
     "name": "stdout",
     "output_type": "stream",
     "text": [
      "Epoch 5\n"
     ]
    },
    {
     "name": "stderr",
     "output_type": "stream",
     "text": [
      "100%|██████████| 2806/2806 [00:40<00:00, 69.58it/s]\n",
      "  0%|          | 14/2806 [00:00<00:41, 67.21it/s]"
     ]
    },
    {
     "name": "stdout",
     "output_type": "stream",
     "text": [
      "Epoch 6\n"
     ]
    },
    {
     "name": "stderr",
     "output_type": "stream",
     "text": [
      "100%|██████████| 2806/2806 [00:40<00:00, 69.90it/s]\n",
      "  0%|          | 7/2806 [00:00<00:41, 67.52it/s]"
     ]
    },
    {
     "name": "stdout",
     "output_type": "stream",
     "text": [
      "Epoch 7\n"
     ]
    },
    {
     "name": "stderr",
     "output_type": "stream",
     "text": [
      "100%|██████████| 2806/2806 [00:40<00:00, 69.70it/s]\n",
      "  0%|          | 7/2806 [00:00<00:42, 65.21it/s]"
     ]
    },
    {
     "name": "stdout",
     "output_type": "stream",
     "text": [
      "Epoch 8\n"
     ]
    },
    {
     "name": "stderr",
     "output_type": "stream",
     "text": [
      "100%|██████████| 2806/2806 [00:40<00:00, 69.78it/s]\n",
      "  0%|          | 7/2806 [00:00<00:41, 66.97it/s]"
     ]
    },
    {
     "name": "stdout",
     "output_type": "stream",
     "text": [
      "Epoch 9\n"
     ]
    },
    {
     "name": "stderr",
     "output_type": "stream",
     "text": [
      "100%|██████████| 2806/2806 [00:40<00:00, 69.64it/s]\n",
      "  0%|          | 14/2806 [00:00<00:41, 67.58it/s]"
     ]
    },
    {
     "name": "stdout",
     "output_type": "stream",
     "text": [
      "Epoch 10\n"
     ]
    },
    {
     "name": "stderr",
     "output_type": "stream",
     "text": [
      "100%|██████████| 2806/2806 [00:40<00:00, 69.35it/s]\n",
      "  0%|          | 14/2806 [00:00<00:41, 67.37it/s]"
     ]
    },
    {
     "name": "stdout",
     "output_type": "stream",
     "text": [
      "Epoch 11\n"
     ]
    },
    {
     "name": "stderr",
     "output_type": "stream",
     "text": [
      "100%|██████████| 2806/2806 [00:40<00:00, 69.59it/s]\n",
      "  0%|          | 7/2806 [00:00<00:42, 66.28it/s]"
     ]
    },
    {
     "name": "stdout",
     "output_type": "stream",
     "text": [
      "Epoch 12\n"
     ]
    },
    {
     "name": "stderr",
     "output_type": "stream",
     "text": [
      "100%|██████████| 2806/2806 [00:40<00:00, 69.86it/s]\n",
      "  0%|          | 14/2806 [00:00<00:41, 67.22it/s]"
     ]
    },
    {
     "name": "stdout",
     "output_type": "stream",
     "text": [
      "Epoch 13\n"
     ]
    },
    {
     "name": "stderr",
     "output_type": "stream",
     "text": [
      "100%|██████████| 2806/2806 [00:41<00:00, 68.34it/s]\n",
      "  0%|          | 7/2806 [00:00<00:41, 66.67it/s]"
     ]
    },
    {
     "name": "stdout",
     "output_type": "stream",
     "text": [
      "Epoch 14\n"
     ]
    },
    {
     "name": "stderr",
     "output_type": "stream",
     "text": [
      "100%|██████████| 2806/2806 [00:41<00:00, 68.40it/s]\n",
      "  0%|          | 7/2806 [00:00<00:42, 65.54it/s]"
     ]
    },
    {
     "name": "stdout",
     "output_type": "stream",
     "text": [
      "Epoch 15\n"
     ]
    },
    {
     "name": "stderr",
     "output_type": "stream",
     "text": [
      "100%|██████████| 2806/2806 [00:40<00:00, 69.44it/s]\n",
      "  0%|          | 7/2806 [00:00<00:42, 66.15it/s]"
     ]
    },
    {
     "name": "stdout",
     "output_type": "stream",
     "text": [
      "Epoch 16\n"
     ]
    },
    {
     "name": "stderr",
     "output_type": "stream",
     "text": [
      "100%|██████████| 2806/2806 [00:40<00:00, 69.23it/s]\n",
      "  0%|          | 7/2806 [00:00<00:41, 67.65it/s]"
     ]
    },
    {
     "name": "stdout",
     "output_type": "stream",
     "text": [
      "Epoch 17\n"
     ]
    },
    {
     "name": "stderr",
     "output_type": "stream",
     "text": [
      "100%|██████████| 2806/2806 [00:40<00:00, 69.46it/s]\n",
      "  0%|          | 7/2806 [00:00<00:41, 67.61it/s]"
     ]
    },
    {
     "name": "stdout",
     "output_type": "stream",
     "text": [
      "Epoch 18\n"
     ]
    },
    {
     "name": "stderr",
     "output_type": "stream",
     "text": [
      "100%|██████████| 2806/2806 [00:40<00:00, 69.58it/s]\n",
      "  0%|          | 7/2806 [00:00<00:41, 66.94it/s]"
     ]
    },
    {
     "name": "stdout",
     "output_type": "stream",
     "text": [
      "Epoch 19\n"
     ]
    },
    {
     "name": "stderr",
     "output_type": "stream",
     "text": [
      "100%|██████████| 2806/2806 [00:40<00:00, 69.88it/s]\n",
      "  0%|          | 7/2806 [00:00<00:42, 66.52it/s]"
     ]
    },
    {
     "name": "stdout",
     "output_type": "stream",
     "text": [
      "Epoch 20\n"
     ]
    },
    {
     "name": "stderr",
     "output_type": "stream",
     "text": [
      "100%|██████████| 2806/2806 [00:40<00:00, 69.93it/s]\n",
      "  0%|          | 7/2806 [00:00<00:42, 66.40it/s]"
     ]
    },
    {
     "name": "stdout",
     "output_type": "stream",
     "text": [
      "Epoch 21\n"
     ]
    },
    {
     "name": "stderr",
     "output_type": "stream",
     "text": [
      "100%|██████████| 2806/2806 [00:40<00:00, 69.78it/s]\n",
      "  0%|          | 14/2806 [00:00<00:41, 67.71it/s]"
     ]
    },
    {
     "name": "stdout",
     "output_type": "stream",
     "text": [
      "Epoch 22\n"
     ]
    },
    {
     "name": "stderr",
     "output_type": "stream",
     "text": [
      "100%|██████████| 2806/2806 [00:40<00:00, 69.38it/s]\n",
      "  0%|          | 14/2806 [00:00<00:41, 67.88it/s]"
     ]
    },
    {
     "name": "stdout",
     "output_type": "stream",
     "text": [
      "Epoch 23\n"
     ]
    },
    {
     "name": "stderr",
     "output_type": "stream",
     "text": [
      "100%|██████████| 2806/2806 [00:40<00:00, 69.50it/s]\n",
      "  0%|          | 7/2806 [00:00<00:41, 67.82it/s]"
     ]
    },
    {
     "name": "stdout",
     "output_type": "stream",
     "text": [
      "Epoch 24\n"
     ]
    },
    {
     "name": "stderr",
     "output_type": "stream",
     "text": [
      "100%|██████████| 2806/2806 [00:40<00:00, 69.51it/s]\n",
      "  0%|          | 7/2806 [00:00<00:41, 66.94it/s]"
     ]
    },
    {
     "name": "stdout",
     "output_type": "stream",
     "text": [
      "Epoch 25\n"
     ]
    },
    {
     "name": "stderr",
     "output_type": "stream",
     "text": [
      "100%|██████████| 2806/2806 [00:40<00:00, 69.49it/s]\n",
      "  0%|          | 14/2806 [00:00<00:41, 67.21it/s]"
     ]
    },
    {
     "name": "stdout",
     "output_type": "stream",
     "text": [
      "Epoch 26\n"
     ]
    },
    {
     "name": "stderr",
     "output_type": "stream",
     "text": [
      "100%|██████████| 2806/2806 [00:40<00:00, 69.47it/s]\n",
      "  0%|          | 7/2806 [00:00<00:42, 65.74it/s]"
     ]
    },
    {
     "name": "stdout",
     "output_type": "stream",
     "text": [
      "Epoch 27\n"
     ]
    },
    {
     "name": "stderr",
     "output_type": "stream",
     "text": [
      "100%|██████████| 2806/2806 [00:40<00:00, 69.58it/s]\n",
      "  0%|          | 14/2806 [00:00<00:41, 67.10it/s]"
     ]
    },
    {
     "name": "stdout",
     "output_type": "stream",
     "text": [
      "Epoch 28\n"
     ]
    },
    {
     "name": "stderr",
     "output_type": "stream",
     "text": [
      "100%|██████████| 2806/2806 [00:40<00:00, 69.35it/s]\n",
      "  0%|          | 7/2806 [00:00<00:42, 66.28it/s]"
     ]
    },
    {
     "name": "stdout",
     "output_type": "stream",
     "text": [
      "Epoch 29\n"
     ]
    },
    {
     "name": "stderr",
     "output_type": "stream",
     "text": [
      "100%|██████████| 2806/2806 [00:40<00:00, 69.27it/s]\n",
      "  0%|          | 7/2806 [00:00<00:41, 66.91it/s]"
     ]
    },
    {
     "name": "stdout",
     "output_type": "stream",
     "text": [
      "Epoch 30\n"
     ]
    },
    {
     "name": "stderr",
     "output_type": "stream",
     "text": [
      "100%|██████████| 2806/2806 [00:40<00:00, 69.80it/s]\n",
      "  0%|          | 7/2806 [00:00<00:41, 66.75it/s]"
     ]
    },
    {
     "name": "stdout",
     "output_type": "stream",
     "text": [
      "Epoch 31\n"
     ]
    },
    {
     "name": "stderr",
     "output_type": "stream",
     "text": [
      "100%|██████████| 2806/2806 [00:40<00:00, 69.46it/s]\n",
      "  0%|          | 14/2806 [00:00<00:41, 67.26it/s]"
     ]
    },
    {
     "name": "stdout",
     "output_type": "stream",
     "text": [
      "Epoch 32\n"
     ]
    },
    {
     "name": "stderr",
     "output_type": "stream",
     "text": [
      "100%|██████████| 2806/2806 [00:40<00:00, 69.73it/s]\n",
      "  0%|          | 7/2806 [00:00<00:41, 66.96it/s]"
     ]
    },
    {
     "name": "stdout",
     "output_type": "stream",
     "text": [
      "Epoch 33\n"
     ]
    },
    {
     "name": "stderr",
     "output_type": "stream",
     "text": [
      "100%|██████████| 2806/2806 [00:40<00:00, 69.64it/s]\n",
      "  0%|          | 7/2806 [00:00<00:42, 66.37it/s]"
     ]
    },
    {
     "name": "stdout",
     "output_type": "stream",
     "text": [
      "Epoch 34\n"
     ]
    },
    {
     "name": "stderr",
     "output_type": "stream",
     "text": [
      "100%|██████████| 2806/2806 [00:40<00:00, 69.32it/s]\n",
      "  0%|          | 7/2806 [00:00<00:42, 65.57it/s]"
     ]
    },
    {
     "name": "stdout",
     "output_type": "stream",
     "text": [
      "Epoch 35\n"
     ]
    },
    {
     "name": "stderr",
     "output_type": "stream",
     "text": [
      "100%|██████████| 2806/2806 [00:40<00:00, 68.83it/s]\n",
      "  0%|          | 7/2806 [00:00<00:42, 66.55it/s]"
     ]
    },
    {
     "name": "stdout",
     "output_type": "stream",
     "text": [
      "Epoch 36\n"
     ]
    },
    {
     "name": "stderr",
     "output_type": "stream",
     "text": [
      "100%|██████████| 2806/2806 [00:40<00:00, 69.34it/s]\n",
      "  0%|          | 7/2806 [00:00<00:43, 63.63it/s]"
     ]
    },
    {
     "name": "stdout",
     "output_type": "stream",
     "text": [
      "Epoch 37\n"
     ]
    },
    {
     "name": "stderr",
     "output_type": "stream",
     "text": [
      "100%|██████████| 2806/2806 [00:40<00:00, 69.75it/s]\n",
      "  0%|          | 7/2806 [00:00<00:42, 65.65it/s]"
     ]
    },
    {
     "name": "stdout",
     "output_type": "stream",
     "text": [
      "Epoch 38\n"
     ]
    },
    {
     "name": "stderr",
     "output_type": "stream",
     "text": [
      "100%|██████████| 2806/2806 [00:40<00:00, 70.15it/s]\n",
      "  0%|          | 7/2806 [00:00<00:42, 66.62it/s]"
     ]
    },
    {
     "name": "stdout",
     "output_type": "stream",
     "text": [
      "Epoch 39\n"
     ]
    },
    {
     "name": "stderr",
     "output_type": "stream",
     "text": [
      "100%|██████████| 2806/2806 [00:39<00:00, 70.29it/s]\n",
      "  0%|          | 7/2806 [00:00<00:41, 67.35it/s]"
     ]
    },
    {
     "name": "stdout",
     "output_type": "stream",
     "text": [
      "Epoch 40\n"
     ]
    },
    {
     "name": "stderr",
     "output_type": "stream",
     "text": [
      "100%|██████████| 2806/2806 [00:40<00:00, 69.99it/s]\n",
      "  0%|          | 7/2806 [00:00<00:42, 65.78it/s]"
     ]
    },
    {
     "name": "stdout",
     "output_type": "stream",
     "text": [
      "Epoch 41\n"
     ]
    },
    {
     "name": "stderr",
     "output_type": "stream",
     "text": [
      "100%|██████████| 2806/2806 [00:40<00:00, 70.09it/s]\n",
      "  0%|          | 7/2806 [00:00<00:42, 66.18it/s]"
     ]
    },
    {
     "name": "stdout",
     "output_type": "stream",
     "text": [
      "Epoch 42\n"
     ]
    },
    {
     "name": "stderr",
     "output_type": "stream",
     "text": [
      "100%|██████████| 2806/2806 [00:40<00:00, 69.72it/s]\n",
      "  0%|          | 7/2806 [00:00<00:42, 66.14it/s]"
     ]
    },
    {
     "name": "stdout",
     "output_type": "stream",
     "text": [
      "Epoch 43\n"
     ]
    },
    {
     "name": "stderr",
     "output_type": "stream",
     "text": [
      "100%|██████████| 2806/2806 [00:40<00:00, 70.09it/s]\n",
      "  0%|          | 7/2806 [00:00<00:42, 66.15it/s]"
     ]
    },
    {
     "name": "stdout",
     "output_type": "stream",
     "text": [
      "Epoch 44\n"
     ]
    },
    {
     "name": "stderr",
     "output_type": "stream",
     "text": [
      "100%|██████████| 2806/2806 [00:40<00:00, 70.13it/s]\n",
      "  0%|          | 14/2806 [00:00<00:41, 67.91it/s]"
     ]
    },
    {
     "name": "stdout",
     "output_type": "stream",
     "text": [
      "Epoch 45\n"
     ]
    },
    {
     "name": "stderr",
     "output_type": "stream",
     "text": [
      "100%|██████████| 2806/2806 [00:39<00:00, 70.32it/s]\n",
      "  0%|          | 14/2806 [00:00<00:41, 67.80it/s]"
     ]
    },
    {
     "name": "stdout",
     "output_type": "stream",
     "text": [
      "Epoch 46\n"
     ]
    },
    {
     "name": "stderr",
     "output_type": "stream",
     "text": [
      "100%|██████████| 2806/2806 [00:42<00:00, 66.35it/s]\n",
      "  0%|          | 7/2806 [00:00<00:42, 65.77it/s]"
     ]
    },
    {
     "name": "stdout",
     "output_type": "stream",
     "text": [
      "Epoch 47\n"
     ]
    },
    {
     "name": "stderr",
     "output_type": "stream",
     "text": [
      "100%|██████████| 2806/2806 [00:40<00:00, 69.98it/s]\n",
      "  0%|          | 7/2806 [00:00<00:42, 66.52it/s]"
     ]
    },
    {
     "name": "stdout",
     "output_type": "stream",
     "text": [
      "Epoch 48\n"
     ]
    },
    {
     "name": "stderr",
     "output_type": "stream",
     "text": [
      "100%|██████████| 2806/2806 [00:40<00:00, 70.07it/s]\n",
      "  0%|          | 7/2806 [00:00<00:41, 67.48it/s]"
     ]
    },
    {
     "name": "stdout",
     "output_type": "stream",
     "text": [
      "Epoch 49\n"
     ]
    },
    {
     "name": "stderr",
     "output_type": "stream",
     "text": [
      "100%|██████████| 2806/2806 [00:40<00:00, 68.79it/s]\n",
      "  0%|          | 7/2806 [00:00<00:42, 65.93it/s]"
     ]
    },
    {
     "name": "stdout",
     "output_type": "stream",
     "text": [
      "Epoch 50\n"
     ]
    },
    {
     "name": "stderr",
     "output_type": "stream",
     "text": [
      "100%|██████████| 2806/2806 [00:41<00:00, 67.31it/s]\n"
     ]
    }
   ],
   "source": [
    "net = NewsNet(p1.vocab, hidden_size=4, embedding_dim=8, num_layers=2)\n",
    "loss_fn = nn.BCEWithLogitsLoss()\n",
    "optimizer = Adam(net.parameters(), lr=1e-4, weight_decay=5e-6)\n",
    "idx = len(l) // 4\n",
    "\n",
    "l_tr, labs_tr = l[:-2 * idx], labs[: -2 * idx]\n",
    "l_val, labs_val = l[-2 * idx:-idx], labs[-2 * idx:-idx]\n",
    "l_tst, labs_tst = l[-idx:], labs[-idx:]\n",
    "l_tr, l_val, labs_tr, labs_val = l[:idx], l[idx:], labs[:idx], labs[idx:]\n",
    "tr_set = NewsText(l_tr, labs_tr)\n",
    "val_set = NewsText(l_val, labs_val)\n",
    "_, val_set = enumerate(DataLoader(val_set, batch_size=len(val_set), collate_fn=collate_fn)).__next__()\n",
    "val_features, val_labels = val_set\n",
    "val_labels = val_labels.unsqueeze(-1).float()\n",
    "loader = DataLoader(tr_set, batch_size=4, collate_fn=collate_fn)\n",
    "loss_list = []\n",
    "val_loss_list = []\n",
    "accuracy_list = []\n",
    "epochs = 50\n",
    "for i in range(epochs):\n",
    "    print(f'Epoch {i + 1}')\n",
    "    for sents, labels in pbar(loader):\n",
    "        net.train()\n",
    "        labels = labels.float().unsqueeze(-1)\n",
    "        out = net(sents)\n",
    "        loss = loss_fn(out, labels)\n",
    "        optimizer.zero_grad()\n",
    "        loss.backward()\n",
    "        optimizer.step()\n",
    "        net.eval()\n",
    "    with torch.no_grad():\n",
    "        val_out = net(val_features)\n",
    "        val_loss = loss_fn(val_out, val_labels)\n",
    "        val_loss_list.append(val_loss.item())\n",
    "        val_guesses = torch.round(nn.Sigmoid()(val_out))\n",
    "        accuracy = (val_guesses == val_labels).float().mean().item()\n",
    "        \n",
    "        accuracy_list.append(accuracy)\n",
    "        \n",
    "    loss_list.append(loss.item())"
   ]
  },
  {
   "cell_type": "code",
   "execution_count": 11,
   "metadata": {
    "scrolled": true
   },
   "outputs": [
    {
     "data": {
      "text/plain": [
       "<matplotlib.legend.Legend at 0x7fe5466ce710>"
      ]
     },
     "execution_count": 11,
     "metadata": {},
     "output_type": "execute_result"
    },
    {
     "data": {
      "image/png": "[encoded data removed]",
      "text/plain": [
       "<Figure size 648x432 with 1 Axes>"
      ]
     },
     "metadata": {
      "needs_background": "light"
     },
     "output_type": "display_data"
    }
   ],
   "source": [
    "fig, ax = plt.subplots()\n",
    "pd.Series(loss_list).plot(ax=ax, label='Tr')\n",
    "pd.Series(val_loss_list).plot(ax=ax, label='Val')\n",
    "fig.set_size_inches(fig.get_size_inches() * 1.5)\n",
    "ax.legend()"
   ]
  },
  {
   "cell_type": "code",
   "execution_count": 12,
   "metadata": {},
   "outputs": [
    {
     "data": {
      "text/plain": [
       "<matplotlib.axes._subplots.AxesSubplot at 0x7fe5502b8be0>"
      ]
     },
     "execution_count": 12,
     "metadata": {},
     "output_type": "execute_result"
    },
    {
     "data": {
      "image/png": "[encoded data removed]",
      "text/plain": [
       "<Figure size 432x288 with 1 Axes>"
      ]
     },
     "metadata": {
      "needs_background": "light"
     },
     "output_type": "display_data"
    }
   ],
   "source": [
    "pd.Series(accuracy_list).plot()"
   ]
  },
  {
   "cell_type": "code",
   "execution_count": 13,
   "metadata": {},
   "outputs": [],
   "source": [
    "tst_set = NewsText(l_tst, labs_tst)\n",
    "_, tst_set = enumerate(DataLoader(tst_set, batch_size=len(tst_set), collate_fn=collate_fn)).__next__()\n",
    "tst_features, tst_labels = tst_set\n",
    "tst_labels = tst_labels.unsqueeze(-1).float()"
   ]
  },
  {
   "cell_type": "code",
   "execution_count": 14,
   "metadata": {},
   "outputs": [],
   "source": [
    "with torch.no_grad():\n",
    "    tst_out = net(tst_features)\n",
    "    tst_loss = loss_fn(tst_out, tst_labels)\n",
    "    tst_guesses = torch.round(nn.Sigmoid()(tst_out))\n",
    "    accuracy_tst = (tst_guesses == tst_labels).float().mean().item()"
   ]
  },
  {
   "cell_type": "code",
   "execution_count": 15,
   "metadata": {},
   "outputs": [
    {
     "data": {
      "text/plain": [
       "0.991536021232605"
      ]
     },
     "execution_count": 15,
     "metadata": {},
     "output_type": "execute_result"
    }
   ],
   "source": [
    "accuracy_tst"
   ]
  },
  {
   "cell_type": "code",
   "execution_count": null,
   "metadata": {
    "scrolled": true
   },
   "outputs": [
    {
     "name": "stderr",
     "output_type": "stream",
     "text": [
      "  0%|          | 5/2806 [00:00<01:02, 44.63it/s]"
     ]
    },
    {
     "name": "stdout",
     "output_type": "stream",
     "text": [
      "Epoch 1\n"
     ]
    },
    {
     "name": "stderr",
     "output_type": "stream",
     "text": [
      " 28%|██▊       | 778/2806 [00:12<00:29, 69.67it/s]"
     ]
    }
   ],
   "source": [
    "pretrained_embeddings = net.word_embeddings\n",
    "net2 = NewsNet(p1.vocab, hidden_size=4, embedding_dim=8, num_layers=2, pretrained_embeddings=pretrained_embeddings)\n",
    "loss_fn = nn.BCEWithLogitsLoss()\n",
    "optimizer = Adam(net2.parameters(), lr=1e-4, weight_decay=5e-6)\n",
    "idx = len(l) // 4\n",
    "\n",
    "l_tr, labs_tr = l[:-2 * idx], labs[: -2 * idx]\n",
    "l_val, labs_val = l[-2 * idx:-idx], labs[-2 * idx:-idx]\n",
    "l_tst, labs_tst = l[-idx:], labs[-idx:]\n",
    "l_tr, l_val, labs_tr, labs_val = l[:idx], l[idx:], labs[:idx], labs[idx:]\n",
    "tr_set = NewsText(l_tr, labs_tr)\n",
    "val_set = NewsText(l_val, labs_val)\n",
    "_, val_set = enumerate(DataLoader(val_set, batch_size=len(val_set), collate_fn=collate_fn)).__next__()\n",
    "val_features, val_labels = val_set\n",
    "val_labels = val_labels.unsqueeze(-1).float()\n",
    "loader = DataLoader(tr_set, batch_size=4, collate_fn=collate_fn)\n",
    "loss_list = []\n",
    "val_loss_list = []\n",
    "accuracy_list = []\n",
    "epochs = 40\n",
    "for i in range(epochs):\n",
    "    print(f'Epoch {i + 1}')\n",
    "    for sents, labels in pbar(loader):\n",
    "        net2.train()\n",
    "        labels = labels.float().unsqueeze(-1)\n",
    "        out = net2(sents)\n",
    "        loss = loss_fn(out, labels)\n",
    "        optimizer.zero_grad()\n",
    "        loss.backward()\n",
    "        optimizer.step()\n",
    "        net2.eval()\n",
    "    with torch.no_grad():\n",
    "        val_out = net2(val_features)\n",
    "        val_loss = loss_fn(val_out, val_labels)\n",
    "        val_loss_list.append(val_loss.item())\n",
    "        val_guesses = torch.round(nn.Sigmoid()(val_out))\n",
    "        accuracy = (val_guesses == val_labels).float().mean().item()\n",
    "        \n",
    "        accuracy_list.append(accuracy)\n",
    "        \n",
    "    loss_list.append(loss.item())"
   ]
  },
  {
   "cell_type": "code",
   "execution_count": null,
   "metadata": {},
   "outputs": [],
   "source": [
    "fig, ax = plt.subplots()\n",
    "pd.Series(loss_list).plot(ax=ax, label='Tr')\n",
    "pd.Series(val_loss_list).plot(ax=ax, label='Val')\n",
    "fig.set_size_inches(fig.get_size_inches() * 1.5)\n",
    "ax.legend()"
   ]
  },
  {
   "cell_type": "code",
   "execution_count": null,
   "metadata": {},
   "outputs": [],
   "source": [
    "pd.Series(accuracy_list).plot()"
   ]
  },
  {
   "cell_type": "code",
   "execution_count": null,
   "metadata": {},
   "outputs": [],
   "source": [
    "val_loss_list"
   ]
  },
  {
   "cell_type": "code",
   "execution_count": null,
   "metadata": {},
   "outputs": [],
   "source": [
    "tst_set = NewsText(l_tst, labs_tst)\n",
    "_, tst_set = enumerate(DataLoader(tst_set, batch_size=len(tst_set), collate_fn=collate_fn)).__next__()\n",
    "tst_features, tst_labels = tst_set\n",
    "tst_labels = tst_labels.unsqueeze(-1).float()"
   ]
  },
  {
   "cell_type": "code",
   "execution_count": null,
   "metadata": {},
   "outputs": [],
   "source": [
    "with torch.no_grad():\n",
    "    tst_out = net2(tst_features)\n",
    "    tst_loss = loss_fn(tst_out, tst_labels)\n",
    "    tst_guesses = torch.round(nn.Sigmoid()(tst_out))\n",
    "    accuracy_tst = (tst_guesses == tst_labels).float().mean().item()"
   ]
  },
  {
   "cell_type": "code",
   "execution_count": null,
   "metadata": {},
   "outputs": [],
   "source": [
    "accuracy_tst"
   ]
  },
  {
   "cell_type": "code",
   "execution_count": null,
   "metadata": {},
   "outputs": [],
   "source": []
  }
 ],
 "metadata": {
  "kernelspec": {
   "display_name": "news",
   "language": "python",
   "name": "news"
  },
  "language_info": {
   "codemirror_mode": {
    "name": "ipython",
    "version": 3
   },
   "file_extension": ".py",
   "mimetype": "text/x-python",
   "name": "python",
   "nbconvert_exporter": "python",
   "pygments_lexer": "ipython3",
   "version": "3.6.10"
  }
 },
 "nbformat": 4,
 "nbformat_minor": 4
}
