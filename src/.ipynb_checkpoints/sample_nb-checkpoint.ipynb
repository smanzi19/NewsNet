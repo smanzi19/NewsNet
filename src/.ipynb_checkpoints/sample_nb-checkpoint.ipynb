{
 "cells": [
  {
   "cell_type": "code",
   "execution_count": 1,
   "metadata": {},
   "outputs": [],
   "source": [
    "import pandas as pd\n",
    "from nltk import WhitespaceTokenizer\n",
    "from nltk.corpus import stopwords, words, wordnet\n",
    "from nltk.lm import Vocabulary\n",
    "from collections import OrderedDict\n",
    "import numpy as np\n",
    "import torch\n",
    "from torch import nn\n",
    "import concurrent.futures\n",
    "from torch.optim import Adam\n",
    "from data_loading import process_text_df, NewsText, tensorize_sentences, collate_fn\n",
    "from tqdm import tqdm as pbar\n",
    "from models import NewsNet\n",
    "import matplotlib.pyplot as plt\n",
    "from torch.utils.data import Dataset, DataLoader\n",
    "from torch import tensor\n",
    "import matplotlib.pyplot as plt\n",
    "import tqdm\n",
    "stopwords = stopwords.words()\n",
    "words = words.words() \n",
    "wordnet = wordnet.words()"
   ]
  },
  {
   "cell_type": "code",
   "execution_count": 2,
   "metadata": {},
   "outputs": [],
   "source": [
    "import pandas as pd\n",
    "from nltk import WhitespaceTokenizer\n",
    "from nltk.corpus import stopwords, words, wordnet\n",
    "from nltk.lm import Vocabulary\n",
    "import numpy as np\n",
    "import torch\n",
    "from torch import nn\n",
    "import concurrent.futures\n",
    "from torch.utils.data import Dataset, DataLoader\n",
    "from nltk.stem.snowball import EnglishStemmer\n",
    "from torch import tensor\n",
    "stopwords = stopwords.words()\n",
    "words = words.words() \n",
    "wordnet = wordnet.words()\n",
    "\n",
    "class process_text_df():\n",
    "    \n",
    "    def __init__(self, df, text_cols):\n",
    "        self.df = df.copy()\n",
    "        self.text_cols = text_cols\n",
    "        self.stemmer = EnglishStemmer()\n",
    "        \n",
    "    def word_only(self, l):\n",
    "        nopunkt = lambda w: ''.join([char for char in w if char.isalnum()])\n",
    "        l = [nopunkt(w) for w in l]\n",
    "        return l\n",
    "\n",
    "    def clean_text_col(self, text_col):\n",
    "        text_col = text_col.apply(lambda text: WhitespaceTokenizer().tokenize(text))\n",
    "        text_col = text_col.apply(lambda sent: [word.lower() for word in sent])\n",
    "        text_col = text_col.apply(lambda sent: [word for word in sent if word not in stopwords])\n",
    "        text_col = text_col.apply(lambda sent: self.word_only(sent))\n",
    "        text_col = text_col.apply(lambda sent: [self.stemmer.stem(word) for word in sent])\n",
    "        return text_col\n",
    "\n",
    "    def chunk_arr(self, arr, n_partitions=8):\n",
    "        size = len(arr) // n_partitions\n",
    "        out = [arr[i * size:(i + 1) * size] for i in range(n_partitions + 1)]\n",
    "        return out\n",
    "\n",
    "    def clean_tokenize(self, text_col):\n",
    "        with concurrent.futures.ProcessPoolExecutor(4) as executor:\n",
    "            chunks = self.chunk_arr(self.df[text_col], 4)\n",
    "            results = executor.map(self.clean_text_col, chunks)\n",
    "            out = [result for result in results]\n",
    "        out = pd.concat(out)\n",
    "        return out\n",
    "\n",
    "    def process_text_col(self):\n",
    "        for text_col in self.text_cols:\n",
    "            self.df[text_col] = self.clean_tokenize(text_col)\n",
    "            \n",
    "    def build_vocab(self):\n",
    "        out = []\n",
    "        for col in self.text_cols:\n",
    "            col_ = self.df[col]\n",
    "            extend = [w for sent in col_ for w in sent]\n",
    "            out.extend(extend)\n",
    "        out = list(Vocabulary(out, unk_cutoff=100))\n",
    "        out = {out[i]:len(out) - (i + 1) for i in range(len(out))}\n",
    "        self.vocab = out\n",
    "    \n",
    "    def tokenize_sentences(self):\n",
    "        self.build_vocab()\n",
    "        for text_col in self.text_cols:\n",
    "            self.df[text_col] =\\\n",
    "            self.df[text_col].apply(lambda sent: [word if word in self.vocab else '<UNK>' for word in sent])\n",
    "            self.df[text_col] =\\\n",
    "            self.df[text_col].apply(lambda sent: [self.vocab[word] for word in sent])\n",
    "        \n",
    "def tensorize_sentences(text_series, labels):\n",
    "    sentences, labels = [torch.tensor(text) for text in text_series], \\\n",
    "                        tensor(labels.apply(lambda l: 1 if l == 'true' else 0))\n",
    "    return sentences, labels\n",
    "\n",
    "class NewsText(Dataset):\n",
    "\n",
    "    def __init__(self, news_text_list, labels):\n",
    "        self.news_text_list = news_text_list\n",
    "        self.labels = labels\n",
    "\n",
    "    def __len__(self):\n",
    "        assert(len(self.news_text_list) == len(self.labels))\n",
    "        return len(self.labels)\n",
    "\n",
    "    def __getitem__(self, idx):\n",
    "        sample = self.news_text_list[idx], self.labels[idx]\n",
    "        return sample\n",
    "\n",
    "def pad_sent(sents, max_seq_len):\n",
    "    max_seq_len = min(100, max_seq_len)\n",
    "    out = []\n",
    "    for i in range(len(sents)):\n",
    "        sent = sents[i]\n",
    "        append_tensor = tensor([sent[j] if j < len(sent) else 0 for j in range(max_seq_len)]).unsqueeze(0)\n",
    "        out.append(append_tensor)\n",
    "    out = torch.cat(out)\n",
    "    return out\n",
    "    \n",
    "\n",
    "def collate_fn(sample):\n",
    "\n",
    "    labels = tensor([s[1] for s in sample])\n",
    "    sents = [s[0] for s in sample]\n",
    "    max_seq_len = max([sent.shape[0] for sent in sents])\n",
    "    sents = pad_sent(sents, max_seq_len)\n",
    "    return sents, labels\n",
    "\n"
   ]
  },
  {
   "cell_type": "code",
   "execution_count": 3,
   "metadata": {},
   "outputs": [],
   "source": [
    "fake, true = pd.read_csv('Fake.csv'), pd.read_csv('True.csv')\n",
    "fake['label'] = 'fake'\n",
    "true['label'] = 'true'\n",
    "news = pd.concat((fake, true))\n",
    "news = news.sample(frac=1)\n",
    "news.reset_index(inplace=True, drop=True)"
   ]
  },
  {
   "cell_type": "code",
   "execution_count": null,
   "metadata": {},
   "outputs": [],
   "source": []
  },
  {
   "cell_type": "code",
   "execution_count": 4,
   "metadata": {},
   "outputs": [],
   "source": [
    "p1 = process_text_df(news, ['title', 'text'])"
   ]
  },
  {
   "cell_type": "code",
   "execution_count": 5,
   "metadata": {},
   "outputs": [
    {
     "name": "stdout",
     "output_type": "stream",
     "text": [
      "CPU times: user 32.5 ms, sys: 46.4 ms, total: 78.9 ms\n",
      "Wall time: 759 ms\n"
     ]
    }
   ],
   "source": [
    "%%time\n",
    "p1.process_text_col()"
   ]
  },
  {
   "cell_type": "code",
   "execution_count": 6,
   "metadata": {},
   "outputs": [
    {
     "data": {
      "text/html": [
       "<div>\n",
       "<style scoped>\n",
       "    .dataframe tbody tr th:only-of-type {\n",
       "        vertical-align: middle;\n",
       "    }\n",
       "\n",
       "    .dataframe tbody tr th {\n",
       "        vertical-align: top;\n",
       "    }\n",
       "\n",
       "    .dataframe thead th {\n",
       "        text-align: right;\n",
       "    }\n",
       "</style>\n",
       "<table border=\"1\" class=\"dataframe\">\n",
       "  <thead>\n",
       "    <tr style=\"text-align: right;\">\n",
       "      <th></th>\n",
       "      <th>title</th>\n",
       "      <th>text</th>\n",
       "      <th>subject</th>\n",
       "      <th>date</th>\n",
       "      <th>label</th>\n",
       "    </tr>\n",
       "  </thead>\n",
       "  <tbody>\n",
       "    <tr>\n",
       "      <th>0</th>\n",
       "      <td>[germani, schulz, call, trump, unamerican, war...</td>\n",
       "      <td>[berlin, reuter, , germani, centerleft, chance...</td>\n",
       "      <td>politicsNews</td>\n",
       "      <td>February 1, 2017</td>\n",
       "      <td>true</td>\n",
       "    </tr>\n",
       "    <tr>\n",
       "      <th>1</th>\n",
       "      <td>[coalit, merkel, automat, option, open, german...</td>\n",
       "      <td>[berlin, reuter, , leader, germani, social, de...</td>\n",
       "      <td>worldnews</td>\n",
       "      <td>December 1, 2017</td>\n",
       "      <td>true</td>\n",
       "    </tr>\n",
       "    <tr>\n",
       "      <th>2</th>\n",
       "      <td>[leak, audio, msnbc, work, trump, town, hall, ...</td>\n",
       "      <td>[us, watch, shame, msnbc, prime, time, trump, ...</td>\n",
       "      <td>News</td>\n",
       "      <td>February 22, 2016</td>\n",
       "      <td>fake</td>\n",
       "    </tr>\n",
       "    <tr>\n",
       "      <th>3</th>\n",
       "      <td>[senat, plan, delay, corpor, tax, cut, repeal,...</td>\n",
       "      <td>[washington, reuter, , us, senat, republican, ...</td>\n",
       "      <td>politicsNews</td>\n",
       "      <td>November 9, 2017</td>\n",
       "      <td>true</td>\n",
       "    </tr>\n",
       "    <tr>\n",
       "      <th>4</th>\n",
       "      <td>[senat, vote, begin, tax, bill, negoti, hous]</td>\n",
       "      <td>[washington, reuter, , us, senat, vote, wednes...</td>\n",
       "      <td>politicsNews</td>\n",
       "      <td>December 6, 2017</td>\n",
       "      <td>true</td>\n",
       "    </tr>\n",
       "    <tr>\n",
       "      <th>...</th>\n",
       "      <td>...</td>\n",
       "      <td>...</td>\n",
       "      <td>...</td>\n",
       "      <td>...</td>\n",
       "      <td>...</td>\n",
       "    </tr>\n",
       "    <tr>\n",
       "      <th>95</th>\n",
       "      <td>[refuge, health, problem, greec, most, unmet, ...</td>\n",
       "      <td>[athen, reuter, , refuge, migrant, greec, rece...</td>\n",
       "      <td>worldnews</td>\n",
       "      <td>October 3, 2017</td>\n",
       "      <td>true</td>\n",
       "    </tr>\n",
       "    <tr>\n",
       "      <th>96</th>\n",
       "      <td>[north, korea, say, trump, screwi, all, wise, ...</td>\n",
       "      <td>[seoul, reuter, , north, korea, back, presumpt...</td>\n",
       "      <td>politicsNews</td>\n",
       "      <td>June 1, 2016</td>\n",
       "      <td>true</td>\n",
       "    </tr>\n",
       "    <tr>\n",
       "      <th>97</th>\n",
       "      <td>[session, say, discuss, comey, senat, panel]</td>\n",
       "      <td>[washington, reuter, , us, attorney, general, ...</td>\n",
       "      <td>politicsNews</td>\n",
       "      <td>June 10, 2017</td>\n",
       "      <td>true</td>\n",
       "    </tr>\n",
       "    <tr>\n",
       "      <th>98</th>\n",
       "      <td>[senat, bank, chair, want, financi, rule, refo...</td>\n",
       "      <td>[reuter, , chairman, us, senat, bank, committe...</td>\n",
       "      <td>politicsNews</td>\n",
       "      <td>March 30, 2017</td>\n",
       "      <td>true</td>\n",
       "    </tr>\n",
       "    <tr>\n",
       "      <th>99</th>\n",
       "      <td>[trump, right, audit, reveal, state, dept, cyb...</td>\n",
       "      <td>[new, document, appear, show, pattern, deterio...</td>\n",
       "      <td>Government News</td>\n",
       "      <td>Oct 19, 2015</td>\n",
       "      <td>fake</td>\n",
       "    </tr>\n",
       "  </tbody>\n",
       "</table>\n",
       "<p>100 rows × 5 columns</p>\n",
       "</div>"
      ],
      "text/plain": [
       "                                                title  \\\n",
       "0   [germani, schulz, call, trump, unamerican, war...   \n",
       "1   [coalit, merkel, automat, option, open, german...   \n",
       "2   [leak, audio, msnbc, work, trump, town, hall, ...   \n",
       "3   [senat, plan, delay, corpor, tax, cut, repeal,...   \n",
       "4       [senat, vote, begin, tax, bill, negoti, hous]   \n",
       "..                                                ...   \n",
       "95  [refuge, health, problem, greec, most, unmet, ...   \n",
       "96  [north, korea, say, trump, screwi, all, wise, ...   \n",
       "97       [session, say, discuss, comey, senat, panel]   \n",
       "98  [senat, bank, chair, want, financi, rule, refo...   \n",
       "99  [trump, right, audit, reveal, state, dept, cyb...   \n",
       "\n",
       "                                                 text          subject  \\\n",
       "0   [berlin, reuter, , germani, centerleft, chance...     politicsNews   \n",
       "1   [berlin, reuter, , leader, germani, social, de...        worldnews   \n",
       "2   [us, watch, shame, msnbc, prime, time, trump, ...             News   \n",
       "3   [washington, reuter, , us, senat, republican, ...     politicsNews   \n",
       "4   [washington, reuter, , us, senat, vote, wednes...     politicsNews   \n",
       "..                                                ...              ...   \n",
       "95  [athen, reuter, , refuge, migrant, greec, rece...        worldnews   \n",
       "96  [seoul, reuter, , north, korea, back, presumpt...     politicsNews   \n",
       "97  [washington, reuter, , us, attorney, general, ...     politicsNews   \n",
       "98  [reuter, , chairman, us, senat, bank, committe...     politicsNews   \n",
       "99  [new, document, appear, show, pattern, deterio...  Government News   \n",
       "\n",
       "                 date label  \n",
       "0   February 1, 2017   true  \n",
       "1   December 1, 2017   true  \n",
       "2   February 22, 2016  fake  \n",
       "3   November 9, 2017   true  \n",
       "4   December 6, 2017   true  \n",
       "..                ...   ...  \n",
       "95   October 3, 2017   true  \n",
       "96      June 1, 2016   true  \n",
       "97     June 10, 2017   true  \n",
       "98    March 30, 2017   true  \n",
       "99       Oct 19, 2015  fake  \n",
       "\n",
       "[100 rows x 5 columns]"
      ]
     },
     "execution_count": 6,
     "metadata": {},
     "output_type": "execute_result"
    }
   ],
   "source": [
    "p1.df"
   ]
  },
  {
   "cell_type": "code",
   "execution_count": 7,
   "metadata": {},
   "outputs": [],
   "source": [
    "p1.tokenize_sentences()"
   ]
  },
  {
   "cell_type": "code",
   "execution_count": 8,
   "metadata": {},
   "outputs": [],
   "source": [
    "l, labs = tensorize_sentences(p1.df.title, p1.df.label)"
   ]
  },
  {
   "cell_type": "code",
   "execution_count": 9,
   "metadata": {
    "scrolled": true
   },
   "outputs": [
    {
     "name": "stderr",
     "output_type": "stream",
     "text": [
      "100%|██████████| 7/7 [00:00<00:00, 189.36it/s]\n",
      "100%|██████████| 7/7 [00:00<00:00, 203.41it/s]\n",
      "  0%|          | 0/7 [00:00<?, ?it/s]"
     ]
    },
    {
     "name": "stdout",
     "output_type": "stream",
     "text": [
      "Epoch 1\n",
      "Epoch 2\n",
      "Epoch 3\n"
     ]
    },
    {
     "name": "stderr",
     "output_type": "stream",
     "text": [
      "100%|██████████| 7/7 [00:00<00:00, 234.27it/s]\n",
      "100%|██████████| 7/7 [00:00<00:00, 225.86it/s]\n",
      "100%|██████████| 7/7 [00:00<00:00, 213.99it/s]\n",
      "  0%|          | 0/7 [00:00<?, ?it/s]"
     ]
    },
    {
     "name": "stdout",
     "output_type": "stream",
     "text": [
      "Epoch 4\n",
      "Epoch 5\n",
      "Epoch 6\n"
     ]
    },
    {
     "name": "stderr",
     "output_type": "stream",
     "text": [
      "100%|██████████| 7/7 [00:00<00:00, 216.26it/s]\n",
      "100%|██████████| 7/7 [00:00<00:00, 256.22it/s]\n",
      "100%|██████████| 7/7 [00:00<00:00, 221.00it/s]\n",
      "  0%|          | 0/7 [00:00<?, ?it/s]"
     ]
    },
    {
     "name": "stdout",
     "output_type": "stream",
     "text": [
      "Epoch 7\n",
      "Epoch 8\n",
      "Epoch 9\n"
     ]
    },
    {
     "name": "stderr",
     "output_type": "stream",
     "text": [
      "100%|██████████| 7/7 [00:00<00:00, 211.69it/s]\n",
      "100%|██████████| 7/7 [00:00<00:00, 210.95it/s]\n",
      "100%|██████████| 7/7 [00:00<00:00, 235.51it/s]\n",
      "100%|██████████| 7/7 [00:00<00:00, 302.63it/s]"
     ]
    },
    {
     "name": "stdout",
     "output_type": "stream",
     "text": [
      "Epoch 10\n",
      "Epoch 11\n",
      "Epoch 12\n"
     ]
    },
    {
     "name": "stderr",
     "output_type": "stream",
     "text": [
      "\n",
      "100%|██████████| 7/7 [00:00<00:00, 296.94it/s]\n",
      "100%|██████████| 7/7 [00:00<00:00, 285.12it/s]\n",
      "100%|██████████| 7/7 [00:00<00:00, 311.85it/s]\n",
      "100%|██████████| 7/7 [00:00<00:00, 291.68it/s]"
     ]
    },
    {
     "name": "stdout",
     "output_type": "stream",
     "text": [
      "Epoch 13\n",
      "Epoch 14\n",
      "Epoch 15\n",
      "Epoch 16\n"
     ]
    },
    {
     "name": "stderr",
     "output_type": "stream",
     "text": [
      "\n",
      "100%|██████████| 7/7 [00:00<00:00, 300.44it/s]\n",
      "100%|██████████| 7/7 [00:00<00:00, 277.13it/s]\n",
      "100%|██████████| 7/7 [00:00<00:00, 308.15it/s]\n",
      "  0%|          | 0/7 [00:00<?, ?it/s]"
     ]
    },
    {
     "name": "stdout",
     "output_type": "stream",
     "text": [
      "Epoch 17\n",
      "Epoch 18\n",
      "Epoch 19\n",
      "Epoch 20\n"
     ]
    },
    {
     "name": "stderr",
     "output_type": "stream",
     "text": [
      "100%|██████████| 7/7 [00:00<00:00, 296.18it/s]\n",
      "100%|██████████| 7/7 [00:00<00:00, 297.91it/s]\n",
      "100%|██████████| 7/7 [00:00<00:00, 307.94it/s]\n",
      "100%|██████████| 7/7 [00:00<00:00, 305.53it/s]\n",
      "  0%|          | 0/7 [00:00<?, ?it/s]"
     ]
    },
    {
     "name": "stdout",
     "output_type": "stream",
     "text": [
      "Epoch 21\n",
      "Epoch 22\n",
      "Epoch 23\n",
      "Epoch 24\n"
     ]
    },
    {
     "name": "stderr",
     "output_type": "stream",
     "text": [
      "100%|██████████| 7/7 [00:00<00:00, 279.36it/s]\n",
      "100%|██████████| 7/7 [00:00<00:00, 300.83it/s]\n",
      "100%|██████████| 7/7 [00:00<00:00, 290.04it/s]\n",
      "100%|██████████| 7/7 [00:00<00:00, 304.27it/s]\n",
      "  0%|          | 0/7 [00:00<?, ?it/s]"
     ]
    },
    {
     "name": "stdout",
     "output_type": "stream",
     "text": [
      "Epoch 25\n",
      "Epoch 26\n",
      "Epoch 27\n",
      "Epoch 28\n"
     ]
    },
    {
     "name": "stderr",
     "output_type": "stream",
     "text": [
      "100%|██████████| 7/7 [00:00<00:00, 286.52it/s]\n",
      "100%|██████████| 7/7 [00:00<00:00, 300.53it/s]\n",
      "100%|██████████| 7/7 [00:00<00:00, 297.05it/s]\n",
      "100%|██████████| 7/7 [00:00<00:00, 295.30it/s]\n",
      "  0%|          | 0/7 [00:00<?, ?it/s]"
     ]
    },
    {
     "name": "stdout",
     "output_type": "stream",
     "text": [
      "Epoch 29\n",
      "Epoch 30\n",
      "Epoch 31\n",
      "Epoch 32\n"
     ]
    },
    {
     "name": "stderr",
     "output_type": "stream",
     "text": [
      "100%|██████████| 7/7 [00:00<00:00, 299.26it/s]\n",
      "100%|██████████| 7/7 [00:00<00:00, 287.99it/s]\n",
      "100%|██████████| 7/7 [00:00<00:00, 284.88it/s]\n",
      "100%|██████████| 7/7 [00:00<00:00, 223.11it/s]\n",
      "  0%|          | 0/7 [00:00<?, ?it/s]"
     ]
    },
    {
     "name": "stdout",
     "output_type": "stream",
     "text": [
      "Epoch 33\n",
      "Epoch 34\n",
      "Epoch 35\n",
      "Epoch 36\n"
     ]
    },
    {
     "name": "stderr",
     "output_type": "stream",
     "text": [
      "100%|██████████| 7/7 [00:00<00:00, 281.55it/s]\n",
      "100%|██████████| 7/7 [00:00<00:00, 280.29it/s]\n",
      "100%|██████████| 7/7 [00:00<00:00, 282.18it/s]\n",
      "100%|██████████| 7/7 [00:00<00:00, 282.11it/s]"
     ]
    },
    {
     "name": "stdout",
     "output_type": "stream",
     "text": [
      "Epoch 37\n",
      "Epoch 38\n",
      "Epoch 39\n"
     ]
    },
    {
     "name": "stderr",
     "output_type": "stream",
     "text": [
      "\n",
      "100%|██████████| 7/7 [00:00<00:00, 277.03it/s]\n",
      "100%|██████████| 7/7 [00:00<00:00, 274.40it/s]\n",
      "100%|██████████| 7/7 [00:00<00:00, 249.57it/s]\n",
      "100%|██████████| 7/7 [00:00<00:00, 285.95it/s]"
     ]
    },
    {
     "name": "stdout",
     "output_type": "stream",
     "text": [
      "Epoch 40\n",
      "Epoch 41\n",
      "Epoch 42\n",
      "Epoch 43\n"
     ]
    },
    {
     "name": "stderr",
     "output_type": "stream",
     "text": [
      "\n",
      "100%|██████████| 7/7 [00:00<00:00, 275.66it/s]\n",
      "100%|██████████| 7/7 [00:00<00:00, 289.46it/s]\n",
      "100%|██████████| 7/7 [00:00<00:00, 271.56it/s]"
     ]
    },
    {
     "name": "stdout",
     "output_type": "stream",
     "text": [
      "Epoch 44\n",
      "Epoch 45\n",
      "Epoch 46\n"
     ]
    },
    {
     "name": "stderr",
     "output_type": "stream",
     "text": [
      "\n",
      "100%|██████████| 7/7 [00:00<00:00, 272.19it/s]\n",
      "100%|██████████| 7/7 [00:00<00:00, 265.81it/s]\n",
      "100%|██████████| 7/7 [00:00<00:00, 284.76it/s]\n",
      "100%|██████████| 7/7 [00:00<00:00, 293.93it/s]\n"
     ]
    },
    {
     "name": "stdout",
     "output_type": "stream",
     "text": [
      "Epoch 47\n",
      "Epoch 48\n",
      "Epoch 49\n",
      "Epoch 50\n"
     ]
    }
   ],
   "source": [
    "net = NewsNet(p1.vocab, hidden_size=4, embedding_dim=8, num_layers=1)\n",
    "loss_fn = nn.BCEWithLogitsLoss()\n",
    "optimizer = Adam(net.parameters(), lr=1e-4, weight_decay=5e-6)\n",
    "idx = len(l) // 4\n",
    "\n",
    "l_tr, labs_tr = l[:-2 * idx], labs[: -2 * idx]\n",
    "l_val, labs_val = l[-2 * idx:-idx], labs[-2 * idx:-idx]\n",
    "l_tst, labs_tst = l[-idx:], labs[-idx:]\n",
    "l_tr, l_val, labs_tr, labs_val = l[:idx], l[idx:], labs[:idx], labs[idx:]\n",
    "tr_set = NewsText(l_tr, labs_tr)\n",
    "val_set = NewsText(l_val, labs_val)\n",
    "_, val_set = enumerate(DataLoader(val_set, batch_size=len(val_set), collate_fn=collate_fn)).__next__()\n",
    "val_features, val_labels = val_set\n",
    "val_labels = val_labels.unsqueeze(-1).float()\n",
    "loader = DataLoader(tr_set, batch_size=4, collate_fn=collate_fn)\n",
    "loss_list = []\n",
    "val_loss_list = []\n",
    "accuracy_list = []\n",
    "epochs = 50\n",
    "for i in range(epochs):\n",
    "    print(f'Epoch {i + 1}')\n",
    "    for sents, labels in pbar(loader):\n",
    "        net.train()\n",
    "        labels = labels.float().unsqueeze(-1)\n",
    "        out = net(sents)\n",
    "        loss = loss_fn(out, labels)\n",
    "        optimizer.zero_grad()\n",
    "        loss.backward()\n",
    "        optimizer.step()\n",
    "        net.eval()\n",
    "    with torch.no_grad():\n",
    "        val_out = net(val_features)\n",
    "        val_loss = loss_fn(val_out, val_labels)\n",
    "        val_loss_list.append(val_loss.item())\n",
    "        val_guesses = torch.round(nn.Sigmoid()(val_out))\n",
    "        accuracy = (val_guesses == val_labels).float().mean().item()\n",
    "        \n",
    "        accuracy_list.append(accuracy)\n",
    "        \n",
    "    loss_list.append(loss.item())"
   ]
  },
  {
   "cell_type": "code",
   "execution_count": 10,
   "metadata": {
    "scrolled": true
   },
   "outputs": [
    {
     "data": {
      "text/plain": [
       "<matplotlib.legend.Legend at 0x7fef33f4f6a0>"
      ]
     },
     "execution_count": 10,
     "metadata": {},
     "output_type": "execute_result"
    },
    {
     "data": {
      "image/png": "[encoded data removed]",
      "text/plain": [
       "<Figure size 648x432 with 1 Axes>"
      ]
     },
     "metadata": {
      "needs_background": "light"
     },
     "output_type": "display_data"
    }
   ],
   "source": [
    "fig, ax = plt.subplots()\n",
    "pd.Series(loss_list).plot(ax=ax, label='Tr')\n",
    "pd.Series(val_loss_list).plot(ax=ax, label='Val')\n",
    "fig.set_size_inches(fig.get_size_inches() * 1.5)\n",
    "ax.legend()"
   ]
  },
  {
   "cell_type": "code",
   "execution_count": 11,
   "metadata": {},
   "outputs": [
    {
     "data": {
      "text/plain": [
       "<matplotlib.axes._subplots.AxesSubplot at 0x7fef33ea6358>"
      ]
     },
     "execution_count": 11,
     "metadata": {},
     "output_type": "execute_result"
    },
    {
     "data": {
      "image/png": "[encoded data removed]",
      "text/plain": [
       "<Figure size 432x288 with 1 Axes>"
      ]
     },
     "metadata": {
      "needs_background": "light"
     },
     "output_type": "display_data"
    }
   ],
   "source": [
    "pd.Series(accuracy_list).plot()"
   ]
  },
  {
   "cell_type": "code",
   "execution_count": 12,
   "metadata": {},
   "outputs": [],
   "source": [
    "tst_set = NewsText(l_tst, labs_tst)\n",
    "_, tst_set = enumerate(DataLoader(tst_set, batch_size=len(tst_set), collate_fn=collate_fn)).__next__()\n",
    "tst_features, tst_labels = tst_set\n",
    "tst_labels = tst_labels.unsqueeze(-1).float()"
   ]
  },
  {
   "cell_type": "code",
   "execution_count": 13,
   "metadata": {},
   "outputs": [],
   "source": [
    "with torch.no_grad():\n",
    "    tst_out = net(tst_features)\n",
    "    tst_loss = loss_fn(tst_out, tst_labels)\n",
    "    tst_guesses = torch.round(nn.Sigmoid()(tst_out))\n",
    "    accuracy_tst = (tst_guesses == tst_labels).float().mean().item()"
   ]
  },
  {
   "cell_type": "code",
   "execution_count": 14,
   "metadata": {},
   "outputs": [
    {
     "data": {
      "text/plain": [
       "0.5199999809265137"
      ]
     },
     "execution_count": 14,
     "metadata": {},
     "output_type": "execute_result"
    }
   ],
   "source": [
    "accuracy_tst"
   ]
  },
  {
   "cell_type": "code",
   "execution_count": 15,
   "metadata": {
    "scrolled": true
   },
   "outputs": [
    {
     "name": "stderr",
     "output_type": "stream",
     "text": [
      "100%|██████████| 7/7 [00:00<00:00, 222.29it/s]\n",
      "100%|██████████| 7/7 [00:00<00:00, 210.29it/s]\n",
      "100%|██████████| 7/7 [00:00<00:00, 225.38it/s]\n",
      "100%|██████████| 7/7 [00:00<00:00, 242.92it/s]\n",
      "100%|██████████| 7/7 [00:00<00:00, 260.56it/s]\n",
      "100%|██████████| 7/7 [00:00<00:00, 270.02it/s]"
     ]
    },
    {
     "name": "stdout",
     "output_type": "stream",
     "text": [
      "Epoch 1\n",
      "Epoch 2\n",
      "Epoch 3\n",
      "Epoch 4\n",
      "Epoch 5\n",
      "Epoch 6\n"
     ]
    },
    {
     "name": "stderr",
     "output_type": "stream",
     "text": [
      "\n",
      "100%|██████████| 7/7 [00:00<00:00, 245.16it/s]\n",
      "100%|██████████| 7/7 [00:00<00:00, 242.08it/s]\n",
      "100%|██████████| 7/7 [00:00<00:00, 220.44it/s]\n",
      "100%|██████████| 7/7 [00:00<00:00, 230.61it/s]"
     ]
    },
    {
     "name": "stdout",
     "output_type": "stream",
     "text": [
      "Epoch 7\n",
      "Epoch 8\n",
      "Epoch 9\n",
      "Epoch 10\n"
     ]
    },
    {
     "name": "stderr",
     "output_type": "stream",
     "text": [
      "\n"
     ]
    }
   ],
   "source": [
    "pretrained_embeddings = net.word_embeddings\n",
    "net2 = NewsNet(p1.vocab, hidden_size=4, embedding_dim=8, num_layers=1, pretrained_embeddings=pretrained_embeddings)\n",
    "loss_fn = nn.BCEWithLogitsLoss()\n",
    "optimizer = Adam(net2.parameters(), lr=1e-4, weight_decay=5e-6)\n",
    "idx = len(l) // 4\n",
    "\n",
    "l_tr, labs_tr = l[:-2 * idx], labs[: -2 * idx]\n",
    "l_val, labs_val = l[-2 * idx:-idx], labs[-2 * idx:-idx]\n",
    "l_tst, labs_tst = l[-idx:], labs[-idx:]\n",
    "l_tr, l_val, labs_tr, labs_val = l[:idx], l[idx:], labs[:idx], labs[idx:]\n",
    "tr_set = NewsText(l_tr, labs_tr)\n",
    "val_set = NewsText(l_val, labs_val)\n",
    "_, val_set = enumerate(DataLoader(val_set, batch_size=len(val_set), collate_fn=collate_fn)).__next__()\n",
    "val_features, val_labels = val_set\n",
    "val_labels = val_labels.unsqueeze(-1).float()\n",
    "loader = DataLoader(tr_set, batch_size=4, collate_fn=collate_fn)\n",
    "loss_list = []\n",
    "val_loss_list = []\n",
    "accuracy_list = []\n",
    "epochs = 10\n",
    "for i in range(epochs):\n",
    "    print(f'Epoch {i + 1}')\n",
    "    for sents, labels in pbar(loader):\n",
    "        net2.train()\n",
    "        labels = labels.float().unsqueeze(-1)\n",
    "        out = net2(sents)\n",
    "        loss = loss_fn(out, labels)\n",
    "        optimizer.zero_grad()\n",
    "        loss.backward()\n",
    "        optimizer.step()\n",
    "        net2.eval()\n",
    "    with torch.no_grad():\n",
    "        val_out = net2(val_features)\n",
    "        val_loss = loss_fn(val_out, val_labels)\n",
    "        val_loss_list.append(val_loss.item())\n",
    "        val_guesses = torch.round(nn.Sigmoid()(val_out))\n",
    "        accuracy = (val_guesses == val_labels).float().mean().item()\n",
    "        \n",
    "        accuracy_list.append(accuracy)\n",
    "        \n",
    "    loss_list.append(loss.item())"
   ]
  },
  {
   "cell_type": "code",
   "execution_count": 16,
   "metadata": {},
   "outputs": [
    {
     "data": {
      "text/plain": [
       "<matplotlib.legend.Legend at 0x7fef35593908>"
      ]
     },
     "execution_count": 16,
     "metadata": {},
     "output_type": "execute_result"
    },
    {
     "data": {
      "image/png": "[encoded data removed]",
      "text/plain": [
       "<Figure size 648x432 with 1 Axes>"
      ]
     },
     "metadata": {
      "needs_background": "light"
     },
     "output_type": "display_data"
    }
   ],
   "source": [
    "fig, ax = plt.subplots()\n",
    "pd.Series(loss_list).plot(ax=ax, label='Tr')\n",
    "pd.Series(val_loss_list).plot(ax=ax, label='Val')\n",
    "fig.set_size_inches(fig.get_size_inches() * 1.5)\n",
    "ax.legend()"
   ]
  },
  {
   "cell_type": "code",
   "execution_count": 17,
   "metadata": {},
   "outputs": [
    {
     "data": {
      "text/plain": [
       "<matplotlib.axes._subplots.AxesSubplot at 0x7fef355d1400>"
      ]
     },
     "execution_count": 17,
     "metadata": {},
     "output_type": "execute_result"
    },
    {
     "data": {
      "image/png": "[encoded data removed]",
      "text/plain": [
       "<Figure size 432x288 with 1 Axes>"
      ]
     },
     "metadata": {
      "needs_background": "light"
     },
     "output_type": "display_data"
    }
   ],
   "source": [
    "pd.Series(accuracy_list).plot()"
   ]
  },
  {
   "cell_type": "code",
   "execution_count": 18,
   "metadata": {},
   "outputs": [],
   "source": [
    "tst_set = NewsText(l_tst, labs_tst)\n",
    "_, tst_set = enumerate(DataLoader(tst_set, batch_size=len(tst_set), collate_fn=collate_fn)).__next__()\n",
    "tst_features, tst_labels = tst_set\n",
    "tst_labels = tst_labels.unsqueeze(-1).float()"
   ]
  },
  {
   "cell_type": "code",
   "execution_count": 19,
   "metadata": {},
   "outputs": [],
   "source": [
    "with torch.no_grad():\n",
    "    tst_out = net2(tst_features)\n",
    "    tst_loss = loss_fn(tst_out, tst_labels)\n",
    "    tst_guesses = torch.round(nn.Sigmoid()(tst_out))\n",
    "    accuracy_tst = (tst_guesses == tst_labels).float().mean().item()"
   ]
  },
  {
   "cell_type": "code",
   "execution_count": 20,
   "metadata": {},
   "outputs": [
    {
     "data": {
      "text/plain": [
       "0.5199999809265137"
      ]
     },
     "execution_count": 20,
     "metadata": {},
     "output_type": "execute_result"
    }
   ],
   "source": [
    "accuracy_tst"
   ]
  }
 ],
 "metadata": {
  "kernelspec": {
   "display_name": "news",
   "language": "python",
   "name": "news"
  },
  "language_info": {
   "codemirror_mode": {
    "name": "ipython",
    "version": 3
   },
   "file_extension": ".py",
   "mimetype": "text/x-python",
   "name": "python",
   "nbconvert_exporter": "python",
   "pygments_lexer": "ipython3",
   "version": "3.6.10"
  }
 },
 "nbformat": 4,
 "nbformat_minor": 4
}
